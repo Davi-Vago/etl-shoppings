{
 "cells": [
  {
   "cell_type": "code",
   "execution_count": 1,
   "id": "c1ff3b81",
   "metadata": {},
   "outputs": [],
   "source": [
    "#Bibliotecas utilizadas\n",
    "\n",
    "import pandas as pd\n",
    "import numpy as np\n",
    "import pyodbc\n",
    "import warnings\n",
    "pd.set_option('display.float_format', lambda x: '%.3f' % x) # evitando notação cientifica\n",
    "warnings.filterwarnings('ignore')"
   ]
  },
  {
   "cell_type": "code",
   "execution_count": 2,
   "id": "62a7594b",
   "metadata": {},
   "outputs": [],
   "source": [
    "#definindo local do arquivo utilizado\n",
    "\n",
    "caminho = r\"C:\\Users\\davi.soares\\Desktop\\Relação de Shoppings - Censo 2022-2023.xlsx\"\n",
    "\n",
    "df = pd.read_excel(caminho)"
   ]
  },
  {
   "cell_type": "code",
   "execution_count": 3,
   "id": "756a3ecf",
   "metadata": {},
   "outputs": [],
   "source": [
    "#Selecionando colunas\n",
    "\n",
    "df = df[['Shopping Center', \n",
    "         #'Endereço', 'Número ', 'CEP', \n",
    "        'Bairro', 'Cidade ',\n",
    "       'Estado', 'Região', \n",
    "        #'Telefone', 'Website do Shopping ',\n",
    "       'Data de Inauguração', 'ABL ', 'Área Construída', 'Área do Terreno',\n",
    "       'Perfil', 'Número de Pisos do Shopping', 'Vagas de Estacionamento',\n",
    "       'Total de Lojas', 'Total de Lojas Âncoras', 'Número de Salas de Cinema',\n",
    "       'Classe A', 'Classe B', 'Classe C', 'Classe D', 'Administradora']].copy()"
   ]
  },
  {
   "cell_type": "code",
   "execution_count": 4,
   "id": "4dfa621a",
   "metadata": {},
   "outputs": [],
   "source": [
    "#Mudando o nome das colunas\n",
    "\n",
    "df = df.rename(columns={'Shopping Center' : 'NM_SHOPPING', 'Bairro' : 'BAIRRO', 'Cidade ':'CIDADE', \n",
    "                        'Estado':'ESTADO', 'Região':'REGIAO',\n",
    "       'Data de Inauguração':'INAUGURACAO', 'ABL ':'ABL', 'Área Construída' : 'AREA_CONSTRUIDA',\n",
    "                   'Área do Terreno':'AREA_TERRENO',\n",
    "       'Perfil':'PERFIL', 'Número de Pisos do Shopping':'PISOS', 'Vagas de Estacionamento':'VAGAS',\n",
    "       'Total de Lojas':'TOTAL_LOJAS', 'Total de Lojas Âncoras':'ANCORAS', 'Número de Salas de Cinema':'SALAS_CINEMA',\n",
    "       'Classe A':'CLASSE_A', 'Classe B':'CLASSE_B', 'Classe C':'CLASSE_C', 'Classe D': 'CLASSE_D', 'Administradora': 'ADMINISTADORA'})"
   ]
  },
  {
   "cell_type": "code",
   "execution_count": 5,
   "id": "6c9e930e",
   "metadata": {},
   "outputs": [
    {
     "data": {
      "text/plain": [
       "NM_SHOPPING         object\n",
       "BAIRRO              object\n",
       "CIDADE              object\n",
       "ESTADO              object\n",
       "REGIAO              object\n",
       "INAUGURACAO         object\n",
       "ABL                float64\n",
       "AREA_CONSTRUIDA     object\n",
       "AREA_TERRENO        object\n",
       "PERFIL              object\n",
       "PISOS              float64\n",
       "VAGAS              float64\n",
       "TOTAL_LOJAS        float64\n",
       "ANCORAS            float64\n",
       "SALAS_CINEMA       float64\n",
       "CLASSE_A           float64\n",
       "CLASSE_B           float64\n",
       "CLASSE_C           float64\n",
       "CLASSE_D           float64\n",
       "ADMINISTADORA       object\n",
       "dtype: object"
      ]
     },
     "execution_count": 5,
     "metadata": {},
     "output_type": "execute_result"
    }
   ],
   "source": [
    "#Verificando tipos\n",
    "\n",
    "df.dtypes"
   ]
  },
  {
   "cell_type": "code",
   "execution_count": 6,
   "id": "0d4ae47e",
   "metadata": {},
   "outputs": [],
   "source": [
    "#Ajustando tipos\n",
    "\n",
    "df['INAUGURACAO'] = pd.to_datetime(df['INAUGURACAO'], errors='coerce')\n",
    "df['PISOS'] = pd.to_numeric(df['PISOS'], downcast='signed')\n",
    "df['VAGAS'] = pd.to_numeric(df['VAGAS'], downcast='signed')\n",
    "df['TOTAL_LOJAS'] = pd.to_numeric(df['TOTAL_LOJAS'], downcast='signed')\n",
    "df['ANCORAS'] = pd.to_numeric(df['ANCORAS'], downcast='signed')\n",
    "df['SALAS_CINEMA'] = pd.to_numeric(df['SALAS_CINEMA'], downcast='signed')\n",
    "df['AREA_CONSTRUIDA'] = pd.to_numeric(df['AREA_CONSTRUIDA'],errors='coerce')\n",
    "df['AREA_TERRENO'] = pd.to_numeric(df['AREA_TERRENO'],errors='coerce')"
   ]
  },
  {
   "cell_type": "code",
   "execution_count": 7,
   "id": "45a570e9",
   "metadata": {},
   "outputs": [
    {
     "data": {
      "text/html": [
       "<div>\n",
       "<style scoped>\n",
       "    .dataframe tbody tr th:only-of-type {\n",
       "        vertical-align: middle;\n",
       "    }\n",
       "\n",
       "    .dataframe tbody tr th {\n",
       "        vertical-align: top;\n",
       "    }\n",
       "\n",
       "    .dataframe thead th {\n",
       "        text-align: right;\n",
       "    }\n",
       "</style>\n",
       "<table border=\"1\" class=\"dataframe\">\n",
       "  <thead>\n",
       "    <tr style=\"text-align: right;\">\n",
       "      <th></th>\n",
       "      <th>NM_SHOPPING</th>\n",
       "      <th>BAIRRO</th>\n",
       "      <th>CIDADE</th>\n",
       "      <th>ESTADO</th>\n",
       "      <th>REGIAO</th>\n",
       "      <th>INAUGURACAO</th>\n",
       "      <th>ABL</th>\n",
       "      <th>AREA_CONSTRUIDA</th>\n",
       "      <th>AREA_TERRENO</th>\n",
       "      <th>PERFIL</th>\n",
       "      <th>PISOS</th>\n",
       "      <th>VAGAS</th>\n",
       "      <th>TOTAL_LOJAS</th>\n",
       "      <th>ANCORAS</th>\n",
       "      <th>SALAS_CINEMA</th>\n",
       "      <th>CLASSE_A</th>\n",
       "      <th>CLASSE_B</th>\n",
       "      <th>CLASSE_C</th>\n",
       "      <th>CLASSE_D</th>\n",
       "      <th>ADMINISTADORA</th>\n",
       "    </tr>\n",
       "  </thead>\n",
       "  <tbody>\n",
       "    <tr>\n",
       "      <th>0</th>\n",
       "      <td>Shopping Recife</td>\n",
       "      <td>Boa Viagem</td>\n",
       "      <td>Recife</td>\n",
       "      <td>PE</td>\n",
       "      <td>NORDESTE</td>\n",
       "      <td>1980-10-07</td>\n",
       "      <td>75290.910</td>\n",
       "      <td>176047.640</td>\n",
       "      <td>185301.770</td>\n",
       "      <td>Tradicional</td>\n",
       "      <td>2.000</td>\n",
       "      <td>3976.000</td>\n",
       "      <td>450.000</td>\n",
       "      <td>21.000</td>\n",
       "      <td>14.000</td>\n",
       "      <td>12.000</td>\n",
       "      <td>49.000</td>\n",
       "      <td>21.000</td>\n",
       "      <td>18.000</td>\n",
       "      <td>Própria</td>\n",
       "    </tr>\n",
       "    <tr>\n",
       "      <th>1</th>\n",
       "      <td>Shopping Conjunto Nacional</td>\n",
       "      <td>Asa Norte</td>\n",
       "      <td>Brasília</td>\n",
       "      <td>DF</td>\n",
       "      <td>CENTRO-OESTE</td>\n",
       "      <td>1971-11-21</td>\n",
       "      <td>45000.000</td>\n",
       "      <td>81592.000</td>\n",
       "      <td>21068.000</td>\n",
       "      <td>Tradicional</td>\n",
       "      <td>NaN</td>\n",
       "      <td>448.000</td>\n",
       "      <td>250.000</td>\n",
       "      <td>NaN</td>\n",
       "      <td>NaN</td>\n",
       "      <td>NaN</td>\n",
       "      <td>NaN</td>\n",
       "      <td>NaN</td>\n",
       "      <td>NaN</td>\n",
       "      <td>Ancar Ivanhoe</td>\n",
       "    </tr>\n",
       "    <tr>\n",
       "      <th>2</th>\n",
       "      <td>Shopping Da Bahia</td>\n",
       "      <td>Caminho das Árvores</td>\n",
       "      <td>Salvador</td>\n",
       "      <td>BA</td>\n",
       "      <td>NORDESTE</td>\n",
       "      <td>1975-12-05</td>\n",
       "      <td>69465.230</td>\n",
       "      <td>163216.080</td>\n",
       "      <td>93620.040</td>\n",
       "      <td>Tradicional</td>\n",
       "      <td>3.000</td>\n",
       "      <td>3039.000</td>\n",
       "      <td>461.000</td>\n",
       "      <td>10.000</td>\n",
       "      <td>15.000</td>\n",
       "      <td>5.000</td>\n",
       "      <td>15.000</td>\n",
       "      <td>45.000</td>\n",
       "      <td>35.000</td>\n",
       "      <td>Allos</td>\n",
       "    </tr>\n",
       "    <tr>\n",
       "      <th>3</th>\n",
       "      <td>Rio Sul Shopping Center</td>\n",
       "      <td>Botafogo</td>\n",
       "      <td>Rio de Janeiro</td>\n",
       "      <td>RJ</td>\n",
       "      <td>SUDESTE</td>\n",
       "      <td>1980-04-29</td>\n",
       "      <td>52087.050</td>\n",
       "      <td>131000.000</td>\n",
       "      <td>23127.000</td>\n",
       "      <td>Tradicional</td>\n",
       "      <td>4.000</td>\n",
       "      <td>1745.000</td>\n",
       "      <td>308.000</td>\n",
       "      <td>4.000</td>\n",
       "      <td>6.000</td>\n",
       "      <td>20.000</td>\n",
       "      <td>50.000</td>\n",
       "      <td>25.000</td>\n",
       "      <td>5.000</td>\n",
       "      <td>Própria</td>\n",
       "    </tr>\n",
       "    <tr>\n",
       "      <th>4</th>\n",
       "      <td>Shopping Ibirapuera</td>\n",
       "      <td>Moema</td>\n",
       "      <td>São Paulo</td>\n",
       "      <td>SP</td>\n",
       "      <td>SUDESTE</td>\n",
       "      <td>1976-08-06</td>\n",
       "      <td>51773.350</td>\n",
       "      <td>163165.430</td>\n",
       "      <td>37148.000</td>\n",
       "      <td>Tradicional</td>\n",
       "      <td>4.000</td>\n",
       "      <td>3110.000</td>\n",
       "      <td>426.000</td>\n",
       "      <td>6.000</td>\n",
       "      <td>6.000</td>\n",
       "      <td>36.000</td>\n",
       "      <td>55.000</td>\n",
       "      <td>8.000</td>\n",
       "      <td>1.000</td>\n",
       "      <td>Própria</td>\n",
       "    </tr>\n",
       "  </tbody>\n",
       "</table>\n",
       "</div>"
      ],
      "text/plain": [
       "                  NM_SHOPPING               BAIRRO          CIDADE ESTADO  \\\n",
       "0             Shopping Recife           Boa Viagem          Recife     PE   \n",
       "1  Shopping Conjunto Nacional           Asa Norte         Brasília     DF   \n",
       "2           Shopping Da Bahia  Caminho das Árvores        Salvador     BA   \n",
       "3     Rio Sul Shopping Center             Botafogo  Rio de Janeiro     RJ   \n",
       "4         Shopping Ibirapuera                Moema       São Paulo     SP   \n",
       "\n",
       "         REGIAO INAUGURACAO       ABL  AREA_CONSTRUIDA  AREA_TERRENO  \\\n",
       "0      NORDESTE  1980-10-07 75290.910       176047.640    185301.770   \n",
       "1  CENTRO-OESTE  1971-11-21 45000.000        81592.000     21068.000   \n",
       "2      NORDESTE  1975-12-05 69465.230       163216.080     93620.040   \n",
       "3       SUDESTE  1980-04-29 52087.050       131000.000     23127.000   \n",
       "4       SUDESTE  1976-08-06 51773.350       163165.430     37148.000   \n",
       "\n",
       "        PERFIL  PISOS    VAGAS  TOTAL_LOJAS  ANCORAS  SALAS_CINEMA  CLASSE_A  \\\n",
       "0  Tradicional  2.000 3976.000      450.000   21.000        14.000    12.000   \n",
       "1  Tradicional    NaN  448.000      250.000      NaN           NaN       NaN   \n",
       "2  Tradicional  3.000 3039.000      461.000   10.000        15.000     5.000   \n",
       "3  Tradicional  4.000 1745.000      308.000    4.000         6.000    20.000   \n",
       "4  Tradicional  4.000 3110.000      426.000    6.000         6.000    36.000   \n",
       "\n",
       "   CLASSE_B  CLASSE_C  CLASSE_D  ADMINISTADORA  \n",
       "0    49.000    21.000    18.000        Própria  \n",
       "1       NaN       NaN       NaN  Ancar Ivanhoe  \n",
       "2    15.000    45.000    35.000          Allos  \n",
       "3    50.000    25.000     5.000        Própria  \n",
       "4    55.000     8.000     1.000        Própria  "
      ]
     },
     "execution_count": 7,
     "metadata": {},
     "output_type": "execute_result"
    }
   ],
   "source": [
    "#verificando \n",
    "\n",
    "df.head()"
   ]
  },
  {
   "cell_type": "code",
   "execution_count": 8,
   "id": "0b500981",
   "metadata": {},
   "outputs": [
    {
     "data": {
      "text/plain": [
       "NM_SHOPPING          0\n",
       "BAIRRO               1\n",
       "CIDADE               0\n",
       "ESTADO               0\n",
       "REGIAO               0\n",
       "INAUGURACAO          6\n",
       "ABL                  0\n",
       "AREA_CONSTRUIDA     59\n",
       "AREA_TERRENO        70\n",
       "PERFIL               0\n",
       "PISOS               57\n",
       "VAGAS               45\n",
       "TOTAL_LOJAS         35\n",
       "ANCORAS            157\n",
       "SALAS_CINEMA       176\n",
       "CLASSE_A           194\n",
       "CLASSE_B           175\n",
       "CLASSE_C           188\n",
       "CLASSE_D           265\n",
       "ADMINISTADORA        0\n",
       "dtype: int64"
      ]
     },
     "execution_count": 8,
     "metadata": {},
     "output_type": "execute_result"
    }
   ],
   "source": [
    "#Verificando valores nulos\n",
    "\n",
    "df.isna().sum()"
   ]
  },
  {
   "cell_type": "code",
   "execution_count": 9,
   "id": "b1beb0a2",
   "metadata": {},
   "outputs": [],
   "source": [
    "#Tratando NaNs\n",
    "\n",
    "df['BAIRRO'] = df['BAIRRO'].replace(np.nan, '')\n",
    "df['INAUGURACAO'] = df['INAUGURACAO'].replace(np.nan,'')\n",
    "df['INAUGURACAO'] = df['INAUGURACAO'].replace(' - ','')\n",
    "df['INAUGURACAO'] = df['INAUGURACAO'].fillna('01/01/1800')\n",
    "df['AREA_CONSTRUIDA'] = df['AREA_CONSTRUIDA'].replace(np.nan, '')\n",
    "df['AREA_TERRENO'] = df['AREA_TERRENO'].replace(np.nan, '')\n",
    "df['PISOS'] = df['PISOS'].replace(np.nan, '')\n",
    "df['VAGAS'] = df['VAGAS'].replace(np.nan, '')\n",
    "df['TOTAL_LOJAS'] = df['TOTAL_LOJAS'].replace(np.nan, '')\n",
    "df['ANCORAS'] = df['ANCORAS'].replace(np.nan, '')\n",
    "df['SALAS_CINEMA'] = df['SALAS_CINEMA'].replace(np.nan, '')\n",
    "df['CLASSE_A'] = df['CLASSE_A'].replace(np.nan, '')\n",
    "df['CLASSE_B'] = df['CLASSE_B'].replace(np.nan, '')\n",
    "df['CLASSE_C'] = df['CLASSE_C'].replace(np.nan, '')\n",
    "df['CLASSE_D'] = df['CLASSE_B'].replace(np.nan, '')\n"
   ]
  },
  {
   "cell_type": "code",
   "execution_count": 10,
   "id": "bbbfd6ce",
   "metadata": {},
   "outputs": [],
   "source": [
    "#Trantando Strings\n",
    "\n",
    "df['NM_SHOPPING'] = df['NM_SHOPPING'].astype(\"string\")\n",
    "df['NM_SHOPPING'] = df['NM_SHOPPING'].str.replace(r\"[\\\"\\',]\", '') # Removendo apostrofes\n",
    "df['NM_SHOPPING'] = df['NM_SHOPPING'].str.replace(r\"[\\(\\[].*?[\\)\\]]\", \"\") # Removendo textos entre paranteses\n",
    "df['NM_SHOPPING'] = df['NM_SHOPPING'].str.strip()\n",
    "\n",
    "df['BAIRRO'] = df['BAIRRO'].astype(\"string\")\n",
    "df['BAIRRO'] = df['BAIRRO'].str.replace(r\"[\\\"\\',]\", '') # Removendo apostrofes\n",
    "df['BAIRRO'] = df['BAIRRO'].str.replace(r\"[\\(\\[].*?[\\)\\]]\", \"\") # Removendo textos entre paranteses\n",
    "df['BAIRRO'] = df['BAIRRO'].str.strip()\n",
    "\n",
    "df['CIDADE'] = df['CIDADE'].astype(\"string\")\n",
    "df['CIDADE'] = df['CIDADE'].str.replace(r\"[\\\"\\',]\", '') # Removendo apostrofes\n",
    "df['CIDADE'] = df['CIDADE'].str.replace(r\"[\\(\\[].*?[\\)\\]]\", \"\") # Removendo textos entre paranteses\n",
    "df['CIDADE'] = df['CIDADE'].str.strip()\n",
    "\n",
    "df['ESTADO'] = df['ESTADO'].astype(\"string\")\n",
    "df['ESTADO'] = df['ESTADO'].str.replace(r\"[\\\"\\',]\", '') # Removendo apostrofes\n",
    "df['ESTADO'] = df['ESTADO'].str.replace(r\"[\\(\\[].*?[\\)\\]]\", \"\") # Removendo textos entre paranteses\n",
    "df['ESTADO'] = df['ESTADO'].str.strip()\n"
   ]
  },
  {
   "cell_type": "code",
   "execution_count": 11,
   "id": "ebeeeeaf",
   "metadata": {},
   "outputs": [
    {
     "data": {
      "text/plain": [
       "NM_SHOPPING                string\n",
       "BAIRRO                     string\n",
       "CIDADE                     string\n",
       "ESTADO                     string\n",
       "REGIAO                     object\n",
       "INAUGURACAO        datetime64[ns]\n",
       "ABL                       float64\n",
       "AREA_CONSTRUIDA            object\n",
       "AREA_TERRENO               object\n",
       "PERFIL                     object\n",
       "PISOS                      object\n",
       "VAGAS                      object\n",
       "TOTAL_LOJAS                object\n",
       "ANCORAS                    object\n",
       "SALAS_CINEMA               object\n",
       "CLASSE_A                   object\n",
       "CLASSE_B                   object\n",
       "CLASSE_C                   object\n",
       "CLASSE_D                   object\n",
       "ADMINISTADORA              object\n",
       "dtype: object"
      ]
     },
     "execution_count": 11,
     "metadata": {},
     "output_type": "execute_result"
    }
   ],
   "source": [
    "#Verificando tipos\n",
    "\n",
    "df.dtypes"
   ]
  },
  {
   "cell_type": "code",
   "execution_count": 12,
   "id": "7c5dfef5",
   "metadata": {
    "scrolled": true
   },
   "outputs": [
    {
     "data": {
      "text/html": [
       "<div>\n",
       "<style scoped>\n",
       "    .dataframe tbody tr th:only-of-type {\n",
       "        vertical-align: middle;\n",
       "    }\n",
       "\n",
       "    .dataframe tbody tr th {\n",
       "        vertical-align: top;\n",
       "    }\n",
       "\n",
       "    .dataframe thead th {\n",
       "        text-align: right;\n",
       "    }\n",
       "</style>\n",
       "<table border=\"1\" class=\"dataframe\">\n",
       "  <thead>\n",
       "    <tr style=\"text-align: right;\">\n",
       "      <th></th>\n",
       "      <th>NM_SHOPPING</th>\n",
       "      <th>BAIRRO</th>\n",
       "      <th>CIDADE</th>\n",
       "      <th>ESTADO</th>\n",
       "      <th>REGIAO</th>\n",
       "      <th>INAUGURACAO</th>\n",
       "      <th>ABL</th>\n",
       "      <th>AREA_CONSTRUIDA</th>\n",
       "      <th>AREA_TERRENO</th>\n",
       "      <th>PERFIL</th>\n",
       "      <th>PISOS</th>\n",
       "      <th>VAGAS</th>\n",
       "      <th>TOTAL_LOJAS</th>\n",
       "      <th>ANCORAS</th>\n",
       "      <th>SALAS_CINEMA</th>\n",
       "      <th>CLASSE_A</th>\n",
       "      <th>CLASSE_B</th>\n",
       "      <th>CLASSE_C</th>\n",
       "      <th>CLASSE_D</th>\n",
       "      <th>ADMINISTADORA</th>\n",
       "    </tr>\n",
       "  </thead>\n",
       "  <tbody>\n",
       "    <tr>\n",
       "      <th>0</th>\n",
       "      <td>Shopping Recife</td>\n",
       "      <td>Boa Viagem</td>\n",
       "      <td>Recife</td>\n",
       "      <td>PE</td>\n",
       "      <td>NORDESTE</td>\n",
       "      <td>1980-10-07</td>\n",
       "      <td>75290.910</td>\n",
       "      <td>176047.640</td>\n",
       "      <td>185301.770</td>\n",
       "      <td>Tradicional</td>\n",
       "      <td>2.000</td>\n",
       "      <td>3976.000</td>\n",
       "      <td>450.000</td>\n",
       "      <td>21.000</td>\n",
       "      <td>14.000</td>\n",
       "      <td>12.000</td>\n",
       "      <td>49.000</td>\n",
       "      <td>21.000</td>\n",
       "      <td>49.000</td>\n",
       "      <td>Própria</td>\n",
       "    </tr>\n",
       "    <tr>\n",
       "      <th>1</th>\n",
       "      <td>Shopping Conjunto Nacional</td>\n",
       "      <td>Asa Norte</td>\n",
       "      <td>Brasília</td>\n",
       "      <td>DF</td>\n",
       "      <td>CENTRO-OESTE</td>\n",
       "      <td>1971-11-21</td>\n",
       "      <td>45000.000</td>\n",
       "      <td>81592.000</td>\n",
       "      <td>21068.000</td>\n",
       "      <td>Tradicional</td>\n",
       "      <td></td>\n",
       "      <td>448.000</td>\n",
       "      <td>250.000</td>\n",
       "      <td></td>\n",
       "      <td></td>\n",
       "      <td></td>\n",
       "      <td></td>\n",
       "      <td></td>\n",
       "      <td></td>\n",
       "      <td>Ancar Ivanhoe</td>\n",
       "    </tr>\n",
       "    <tr>\n",
       "      <th>2</th>\n",
       "      <td>Shopping Da Bahia</td>\n",
       "      <td>Caminho das Árvores</td>\n",
       "      <td>Salvador</td>\n",
       "      <td>BA</td>\n",
       "      <td>NORDESTE</td>\n",
       "      <td>1975-12-05</td>\n",
       "      <td>69465.230</td>\n",
       "      <td>163216.080</td>\n",
       "      <td>93620.040</td>\n",
       "      <td>Tradicional</td>\n",
       "      <td>3.000</td>\n",
       "      <td>3039.000</td>\n",
       "      <td>461.000</td>\n",
       "      <td>10.000</td>\n",
       "      <td>15.000</td>\n",
       "      <td>5.000</td>\n",
       "      <td>15.000</td>\n",
       "      <td>45.000</td>\n",
       "      <td>15.000</td>\n",
       "      <td>Allos</td>\n",
       "    </tr>\n",
       "    <tr>\n",
       "      <th>3</th>\n",
       "      <td>Rio Sul Shopping Center</td>\n",
       "      <td>Botafogo</td>\n",
       "      <td>Rio de Janeiro</td>\n",
       "      <td>RJ</td>\n",
       "      <td>SUDESTE</td>\n",
       "      <td>1980-04-29</td>\n",
       "      <td>52087.050</td>\n",
       "      <td>131000.000</td>\n",
       "      <td>23127.000</td>\n",
       "      <td>Tradicional</td>\n",
       "      <td>4.000</td>\n",
       "      <td>1745.000</td>\n",
       "      <td>308.000</td>\n",
       "      <td>4.000</td>\n",
       "      <td>6.000</td>\n",
       "      <td>20.000</td>\n",
       "      <td>50.000</td>\n",
       "      <td>25.000</td>\n",
       "      <td>50.000</td>\n",
       "      <td>Própria</td>\n",
       "    </tr>\n",
       "    <tr>\n",
       "      <th>4</th>\n",
       "      <td>Shopping Ibirapuera</td>\n",
       "      <td>Moema</td>\n",
       "      <td>São Paulo</td>\n",
       "      <td>SP</td>\n",
       "      <td>SUDESTE</td>\n",
       "      <td>1976-08-06</td>\n",
       "      <td>51773.350</td>\n",
       "      <td>163165.430</td>\n",
       "      <td>37148.000</td>\n",
       "      <td>Tradicional</td>\n",
       "      <td>4.000</td>\n",
       "      <td>3110.000</td>\n",
       "      <td>426.000</td>\n",
       "      <td>6.000</td>\n",
       "      <td>6.000</td>\n",
       "      <td>36.000</td>\n",
       "      <td>55.000</td>\n",
       "      <td>8.000</td>\n",
       "      <td>55.000</td>\n",
       "      <td>Própria</td>\n",
       "    </tr>\n",
       "    <tr>\n",
       "      <th>...</th>\n",
       "      <td>...</td>\n",
       "      <td>...</td>\n",
       "      <td>...</td>\n",
       "      <td>...</td>\n",
       "      <td>...</td>\n",
       "      <td>...</td>\n",
       "      <td>...</td>\n",
       "      <td>...</td>\n",
       "      <td>...</td>\n",
       "      <td>...</td>\n",
       "      <td>...</td>\n",
       "      <td>...</td>\n",
       "      <td>...</td>\n",
       "      <td>...</td>\n",
       "      <td>...</td>\n",
       "      <td>...</td>\n",
       "      <td>...</td>\n",
       "      <td>...</td>\n",
       "      <td>...</td>\n",
       "      <td>...</td>\n",
       "    </tr>\n",
       "    <tr>\n",
       "      <th>623</th>\n",
       "      <td>Masterplace Mall</td>\n",
       "      <td>Barro Vermelho</td>\n",
       "      <td>Vitória</td>\n",
       "      <td>ES</td>\n",
       "      <td>SUDESTE</td>\n",
       "      <td>2013-09-19</td>\n",
       "      <td>12343.000</td>\n",
       "      <td>24039.400</td>\n",
       "      <td>20206.860</td>\n",
       "      <td>Tradicional</td>\n",
       "      <td>2.000</td>\n",
       "      <td>742.000</td>\n",
       "      <td>62.000</td>\n",
       "      <td>2.000</td>\n",
       "      <td></td>\n",
       "      <td>25.000</td>\n",
       "      <td>70.000</td>\n",
       "      <td>5.000</td>\n",
       "      <td>70.000</td>\n",
       "      <td>Própria</td>\n",
       "    </tr>\n",
       "    <tr>\n",
       "      <th>624</th>\n",
       "      <td>Shopping Oriundi</td>\n",
       "      <td>Segato</td>\n",
       "      <td>Aracruz</td>\n",
       "      <td>ES</td>\n",
       "      <td>SUDESTE</td>\n",
       "      <td>2001-12-06</td>\n",
       "      <td>11830.000</td>\n",
       "      <td>24830.000</td>\n",
       "      <td>22520.000</td>\n",
       "      <td>Tradicional</td>\n",
       "      <td>3.000</td>\n",
       "      <td>400.000</td>\n",
       "      <td>56.000</td>\n",
       "      <td></td>\n",
       "      <td></td>\n",
       "      <td></td>\n",
       "      <td></td>\n",
       "      <td></td>\n",
       "      <td></td>\n",
       "      <td>Própria</td>\n",
       "    </tr>\n",
       "    <tr>\n",
       "      <th>625</th>\n",
       "      <td>Recife Outlet</td>\n",
       "      <td>BR 232</td>\n",
       "      <td>Moreno</td>\n",
       "      <td>PE</td>\n",
       "      <td>NORDESTE</td>\n",
       "      <td>2021-05-07</td>\n",
       "      <td>11000.000</td>\n",
       "      <td>51916.670</td>\n",
       "      <td>77675.160</td>\n",
       "      <td>Especializado</td>\n",
       "      <td>1.000</td>\n",
       "      <td>901.000</td>\n",
       "      <td>61.000</td>\n",
       "      <td></td>\n",
       "      <td></td>\n",
       "      <td></td>\n",
       "      <td></td>\n",
       "      <td></td>\n",
       "      <td></td>\n",
       "      <td>Grupo BCI e About</td>\n",
       "    </tr>\n",
       "    <tr>\n",
       "      <th>626</th>\n",
       "      <td>Perim Center</td>\n",
       "      <td>Caiçara</td>\n",
       "      <td>Cachoeiro de Itapemirim</td>\n",
       "      <td>ES</td>\n",
       "      <td>SUDESTE</td>\n",
       "      <td>2012-09-27</td>\n",
       "      <td>5500.000</td>\n",
       "      <td>11000.000</td>\n",
       "      <td>41265.000</td>\n",
       "      <td>Tradicional</td>\n",
       "      <td>1.000</td>\n",
       "      <td>700.000</td>\n",
       "      <td>52.000</td>\n",
       "      <td>3.000</td>\n",
       "      <td>3.000</td>\n",
       "      <td>25.000</td>\n",
       "      <td>25.000</td>\n",
       "      <td>25.000</td>\n",
       "      <td>25.000</td>\n",
       "      <td>Própria</td>\n",
       "    </tr>\n",
       "    <tr>\n",
       "      <th>627</th>\n",
       "      <td>Boulevard Shopping Mogi Guaçu</td>\n",
       "      <td>Centro</td>\n",
       "      <td>Mogi Guaçu</td>\n",
       "      <td>SP</td>\n",
       "      <td>SUDESTE</td>\n",
       "      <td>2019-12-01</td>\n",
       "      <td>29124.000</td>\n",
       "      <td>52559.460</td>\n",
       "      <td>103000.000</td>\n",
       "      <td>Tradicional</td>\n",
       "      <td>1.000</td>\n",
       "      <td>1216.000</td>\n",
       "      <td>102.000</td>\n",
       "      <td>5.000</td>\n",
       "      <td>4.000</td>\n",
       "      <td>25.000</td>\n",
       "      <td>25.000</td>\n",
       "      <td>25.000</td>\n",
       "      <td>25.000</td>\n",
       "      <td>JRA Administradora de Imoveis</td>\n",
       "    </tr>\n",
       "  </tbody>\n",
       "</table>\n",
       "<p>628 rows × 20 columns</p>\n",
       "</div>"
      ],
      "text/plain": [
       "                       NM_SHOPPING               BAIRRO  \\\n",
       "0                  Shopping Recife           Boa Viagem   \n",
       "1       Shopping Conjunto Nacional            Asa Norte   \n",
       "2                Shopping Da Bahia  Caminho das Árvores   \n",
       "3          Rio Sul Shopping Center             Botafogo   \n",
       "4              Shopping Ibirapuera                Moema   \n",
       "..                             ...                  ...   \n",
       "623               Masterplace Mall       Barro Vermelho   \n",
       "624               Shopping Oriundi               Segato   \n",
       "625                  Recife Outlet               BR 232   \n",
       "626                   Perim Center              Caiçara   \n",
       "627  Boulevard Shopping Mogi Guaçu               Centro   \n",
       "\n",
       "                      CIDADE ESTADO        REGIAO INAUGURACAO       ABL  \\\n",
       "0                     Recife     PE      NORDESTE  1980-10-07 75290.910   \n",
       "1                   Brasília     DF  CENTRO-OESTE  1971-11-21 45000.000   \n",
       "2                   Salvador     BA      NORDESTE  1975-12-05 69465.230   \n",
       "3             Rio de Janeiro     RJ       SUDESTE  1980-04-29 52087.050   \n",
       "4                  São Paulo     SP       SUDESTE  1976-08-06 51773.350   \n",
       "..                       ...    ...           ...         ...       ...   \n",
       "623                  Vitória     ES       SUDESTE  2013-09-19 12343.000   \n",
       "624                  Aracruz     ES       SUDESTE  2001-12-06 11830.000   \n",
       "625                   Moreno     PE      NORDESTE  2021-05-07 11000.000   \n",
       "626  Cachoeiro de Itapemirim     ES       SUDESTE  2012-09-27  5500.000   \n",
       "627               Mogi Guaçu     SP       SUDESTE  2019-12-01 29124.000   \n",
       "\n",
       "    AREA_CONSTRUIDA AREA_TERRENO         PERFIL PISOS    VAGAS TOTAL_LOJAS  \\\n",
       "0        176047.640   185301.770    Tradicional 2.000 3976.000     450.000   \n",
       "1         81592.000    21068.000    Tradicional        448.000     250.000   \n",
       "2        163216.080    93620.040    Tradicional 3.000 3039.000     461.000   \n",
       "3        131000.000    23127.000    Tradicional 4.000 1745.000     308.000   \n",
       "4        163165.430    37148.000    Tradicional 4.000 3110.000     426.000   \n",
       "..              ...          ...            ...   ...      ...         ...   \n",
       "623       24039.400    20206.860    Tradicional 2.000  742.000      62.000   \n",
       "624       24830.000    22520.000    Tradicional 3.000  400.000      56.000   \n",
       "625       51916.670    77675.160  Especializado 1.000  901.000      61.000   \n",
       "626       11000.000    41265.000    Tradicional 1.000  700.000      52.000   \n",
       "627       52559.460   103000.000    Tradicional 1.000 1216.000     102.000   \n",
       "\n",
       "    ANCORAS SALAS_CINEMA CLASSE_A CLASSE_B CLASSE_C CLASSE_D  \\\n",
       "0    21.000       14.000   12.000   49.000   21.000   49.000   \n",
       "1                                                              \n",
       "2    10.000       15.000    5.000   15.000   45.000   15.000   \n",
       "3     4.000        6.000   20.000   50.000   25.000   50.000   \n",
       "4     6.000        6.000   36.000   55.000    8.000   55.000   \n",
       "..      ...          ...      ...      ...      ...      ...   \n",
       "623   2.000                25.000   70.000    5.000   70.000   \n",
       "624                                                            \n",
       "625                                                            \n",
       "626   3.000        3.000   25.000   25.000   25.000   25.000   \n",
       "627   5.000        4.000   25.000   25.000   25.000   25.000   \n",
       "\n",
       "                     ADMINISTADORA  \n",
       "0                          Própria  \n",
       "1                    Ancar Ivanhoe  \n",
       "2                            Allos  \n",
       "3                          Própria  \n",
       "4                          Própria  \n",
       "..                             ...  \n",
       "623                        Própria  \n",
       "624                        Própria  \n",
       "625              Grupo BCI e About  \n",
       "626                        Própria  \n",
       "627  JRA Administradora de Imoveis  \n",
       "\n",
       "[628 rows x 20 columns]"
      ]
     },
     "execution_count": 12,
     "metadata": {},
     "output_type": "execute_result"
    }
   ],
   "source": [
    "#Definindo a base final\n",
    "\n",
    "df = df[['NM_SHOPPING', 'BAIRRO', 'CIDADE', 'ESTADO', 'REGIAO', 'INAUGURACAO',\n",
    "       'ABL', 'AREA_CONSTRUIDA', 'AREA_TERRENO', 'PERFIL', 'PISOS', 'VAGAS',\n",
    "       'TOTAL_LOJAS', 'ANCORAS', 'SALAS_CINEMA', 'CLASSE_A', 'CLASSE_B',\n",
    "       'CLASSE_C', 'CLASSE_D', 'ADMINISTADORA']]\n",
    "df"
   ]
  },
  {
   "cell_type": "code",
   "execution_count": 13,
   "id": "c9381e32",
   "metadata": {},
   "outputs": [],
   "source": [
    "#Conectando ao banco de dados\n",
    "\n",
    "server = '*********' \n",
    "database = '*********' \n",
    "username = '*********' \n",
    "password = '*********'\n",
    "\n",
    "# Connector \n",
    "conn = pyodbc.connect('DRIVER={ODBC Driver 17 for SQL Server};SERVER='+server+';DATABASE='+database+';UID='+username+';PWD='+ password)\n",
    "cursor = conn.cursor()"
   ]
  },
  {
   "cell_type": "code",
   "execution_count": 14,
   "id": "ed90ae29",
   "metadata": {},
   "outputs": [
    {
     "data": {
      "text/plain": [
       "array(['Shopping Recife', 'Boa Viagem', 'Recife', 'PE', 'NORDESTE',\n",
       "       '1980/10/07', 75290.91, 176047.64, 185301.77, 'Tradicional', 2.0,\n",
       "       3976.0, 450.0, 21.0, 14.0, 12.0, 49.0, 21.0, 49.0, 'Própria'],\n",
       "      dtype=object)"
      ]
     },
     "metadata": {},
     "output_type": "display_data"
    },
    {
     "data": {
      "text/plain": [
       "array(['Shopping Conjunto Nacional', 'Asa Norte', 'Brasília', 'DF',\n",
       "       'CENTRO-OESTE', '1971/11/21', 45000.0, 81592.0, 21068.0,\n",
       "       'Tradicional', '', 448.0, 250.0, '', '', '', '', '', '',\n",
       "       'Ancar Ivanhoe'], dtype=object)"
      ]
     },
     "metadata": {},
     "output_type": "display_data"
    },
    {
     "data": {
      "text/plain": [
       "array(['Shopping Da Bahia', 'Caminho das Árvores', 'Salvador', 'BA',\n",
       "       'NORDESTE', '1975/12/05', 69465.23, 163216.08, 93620.04,\n",
       "       'Tradicional', 3.0, 3039.0, 461.0, 10.0, 15.0, 5.0, 15.0, 45.0,\n",
       "       15.0, 'Allos'], dtype=object)"
      ]
     },
     "metadata": {},
     "output_type": "display_data"
    },
    {
     "data": {
      "text/plain": [
       "array(['Rio Sul Shopping Center', 'Botafogo', 'Rio de Janeiro', 'RJ',\n",
       "       'SUDESTE', '1980/04/29', 52087.05, 131000.0, 23127.0,\n",
       "       'Tradicional', 4.0, 1745.0, 308.0, 4.0, 6.0, 20.0, 50.0, 25.0,\n",
       "       50.0, 'Própria'], dtype=object)"
      ]
     },
     "metadata": {},
     "output_type": "display_data"
    },
    {
     "data": {
      "text/plain": [
       "array(['Shopping Ibirapuera', 'Moema', 'São Paulo', 'SP', 'SUDESTE',\n",
       "       '1976/08/06', 51773.35, 163165.43, 37148.0, 'Tradicional', 4.0,\n",
       "       3110.0, 426.0, 6.0, 6.0, 36.0, 55.0, 8.0, 55.0, 'Própria'],\n",
       "      dtype=object)"
      ]
     },
     "metadata": {},
     "output_type": "display_data"
    },
    {
     "data": {
      "text/plain": [
       "array(['Shopping Center Iguatemi São Paulo', 'Jardim Paulistano',\n",
       "       'São Paulo', 'SP', 'SUDESTE', '1966/11/28', 49260.0, '', '',\n",
       "       'Tradicional', 3.0, 2603.0, 276.0, '', 6.0, 23.0, 63.0, 11.0, 63.0,\n",
       "       'Iguatemi Empresa de Shopping Centers'], dtype=object)"
      ]
     },
     "metadata": {},
     "output_type": "display_data"
    },
    {
     "data": {
      "text/plain": [
       "array(['Iguatemi Bosque', 'EDSON QUEIROZ', 'Fortaleza', 'CE', 'NORDESTE',\n",
       "       '1982/04/02', 93000.0, 254783.87, 190785.78, 'Tradicional', 4.0,\n",
       "       6500.0, 430.0, 16.0, 12.0, 60.0, 25.0, 10.0, 25.0, 'J.C.C.'],\n",
       "      dtype=object)"
      ]
     },
     "metadata": {},
     "output_type": "display_data"
    },
    {
     "data": {
      "text/plain": [
       "array(['Com-Tour Londrina Shopping Center', 'Alvorada', 'Londrina', 'PR',\n",
       "       'SUL', '1973/10/15', 8000.0, 10000.0, 17000.0, 'Tradicional', 2.0,\n",
       "       215.0, 57.0, '', '', '', '', '', '', 'Própria'], dtype=object)"
      ]
     },
     "metadata": {},
     "output_type": "display_data"
    },
    {
     "data": {
      "text/plain": [
       "array(['Bh Shopping', 'Belvedere', 'Belo Horizonte', 'MG', 'SUDESTE',\n",
       "       '1979/09/12', 46976.2, 178968.08, 62138.0, 'Tradicional', 4.0,\n",
       "       3629.0, 445.0, 9.0, 10.0, '', '', '', '', 'Multiplan'],\n",
       "      dtype=object)"
      ]
     },
     "metadata": {},
     "output_type": "display_data"
    },
    {
     "data": {
      "text/plain": [
       "array(['Shopping Center Iguatemi Campinas', 'Vila Brandina', 'Campinas',\n",
       "       'SP', 'SUDESTE', '1980/05/06', 73389.0, '', '', 'Tradicional', 3.0,\n",
       "       4509.0, 450.0, 9.0, 11.0, '', '', '', '',\n",
       "       'Iguatemi Empresa de Shopping Centers'], dtype=object)"
      ]
     },
     "metadata": {},
     "output_type": "display_data"
    },
    {
     "data": {
      "text/plain": [
       "array(['Shopping Metrópole', 'Centro', 'São Bernardo do Campo', 'SP',\n",
       "       'SUDESTE', '1980/05/16', 29900.0, 63528.73, 59889.57,\n",
       "       'Tradicional', 1.0, 1200.0, 183.0, 5.0, 12.0, 10.0, 80.0, 10.0,\n",
       "       80.0, 'Allos'], dtype=object)"
      ]
     },
     "metadata": {},
     "output_type": "display_data"
    },
    {
     "data": {
      "text/plain": [
       "array(['Ribeirãoshopping', 'Jardim California', 'Ribeirão Preto', 'SP',\n",
       "       'SUDESTE', '1981/05/05', 74881.38, 285010.0, 237305.93,\n",
       "       'Tradicional', 2.0, 4220.0, 436.0, 15.0, 11.0, 29.0, 53.0, 18.0,\n",
       "       53.0, 'Multiplan'], dtype=object)"
      ]
     },
     "metadata": {},
     "output_type": "display_data"
    },
    {
     "data": {
      "text/plain": [
       "array(['Flamboyant Shopping Center', 'Jardim Goias', 'Goiânia', 'GO',\n",
       "       'CENTRO-OESTE', '1981/10/16', 62438.39, 138494.23, 157314.16,\n",
       "       'Tradicional', 3.0, 3499.0, 262.0, 10.0, 8.0, 42.0, 51.0, 7.0,\n",
       "       51.0, 'LZ3 ADMINISTRADORA LTDA'], dtype=object)"
      ]
     },
     "metadata": {},
     "output_type": "display_data"
    },
    {
     "data": {
      "text/plain": [
       "array(['MorumbiShopping', 'jardim das acacias', 'São Paulo', 'SP',\n",
       "       'SUDESTE', '1982/05/03', 55992.0, 214426.29, 56474.86,\n",
       "       'Tradicional', 3.0, 3585.0, 501.0, 8.0, '', 36.0, 51.0, 13.0, 51.0,\n",
       "       'Multiplan'], dtype=object)"
      ]
     },
     "metadata": {},
     "output_type": "display_data"
    },
    {
     "data": {
      "text/plain": [
       "array(['BarraShopping', 'Barra da Tijuca', 'Rio de Janeiro', 'RJ',\n",
       "       'SUDESTE', '1981/10/26', 77672.25, 155000.0, 165386.0,\n",
       "       'Tradicional', 4.0, 5500.0, 691.0, 12.0, '', 38.0, 49.0, 13.0,\n",
       "       49.0, 'Multiplan'], dtype=object)"
      ]
     },
     "metadata": {},
     "output_type": "display_data"
    },
    {
     "data": {
      "text/plain": [
       "array(['Shopping Center Iguatemi Porto Alegre', 'Chácara das Pedras',\n",
       "       'Porto Alegre', 'RS', 'SUL', '1983/04/14', 64802.0, '', '',\n",
       "       'Tradicional', 4.0, 3473.0, 373.0, '', 6.0, 20.0, 42.0, 35.0, 42.0,\n",
       "       'Iguatemi Empresa de Shopping Centers'], dtype=object)"
      ]
     },
     "metadata": {},
     "output_type": "display_data"
    },
    {
     "data": {
      "text/plain": [
       "array(['Shopping Mueller de Curitiba', 'Centro Cívico', 'Curitiba', 'PR',\n",
       "       'SUL', '1983/09/01', 32583.1, 100754.38, 13111.0, 'Tradicional',\n",
       "       6.0, 1344.0, 198.0, 4.0, 8.0, 15.0, 58.0, 25.0, 58.0, 'Própria'],\n",
       "      dtype=object)"
      ]
     },
     "metadata": {},
     "output_type": "display_data"
    },
    {
     "data": {
      "text/plain": [
       "array(['Shopping Itaguaçu', 'Barreiros', 'São José', 'SC', 'SUL',\n",
       "       '1982/04/28', 30500.0, 63000.0, 80000.0, 'Tradicional', 2.0,\n",
       "       2500.0, 166.0, 8.0, 5.0, 15.0, 71.0, 14.0, 71.0,\n",
       "       'Itaguaçu Administradora Ltda'], dtype=object)"
      ]
     },
     "metadata": {},
     "output_type": "display_data"
    },
    {
     "data": {
      "text/plain": [
       "array(['Rio Design Leblon', 'Leblon', 'Rio de Janeiro', 'RJ', 'SUDESTE',\n",
       "       '1983/01/10', 5338.27, '', '', 'Tradicional', 4.0, 114.0, 48.0, '',\n",
       "       '', 45.0, 54.0, 1.0, 54.0, 'Ancar Ivanhoe'], dtype=object)"
      ]
     },
     "metadata": {},
     "output_type": "display_data"
    },
    {
     "data": {
      "text/plain": [
       "array(['NorteShopping', 'Cachambi', 'Rio de Janeiro', 'RJ', 'SUDESTE',\n",
       "       '1986/07/27', 106315.0, 269468.48, 119969.86, 'Tradicional', '',\n",
       "       '', '', '', '', '', '', '', '', 'Allos'], dtype=object)"
      ]
     },
     "metadata": {},
     "output_type": "display_data"
    },
    {
     "data": {
      "text/plain": [
       "array(['ParkShopping', 'Guará', 'Brasília', 'DF', 'CENTRO-OESTE',\n",
       "       '1983/11/08', 60618.5, 147794.0, 127592.0, 'Tradicional', 3.0,\n",
       "       4383.0, 404.0, 9.0, 11.0, 30.0, 54.0, 16.0, 54.0, 'Multiplan'],\n",
       "      dtype=object)"
      ]
     },
     "metadata": {},
     "output_type": "display_data"
    },
    {
     "data": {
      "text/plain": [
       "array(['Bourbon Shopping São Paulo', 'Perdizes', 'São Paulo', 'SP',\n",
       "       'SUDESTE', '2008/03/28', 50242.0, 189608.0, 33081.0, 'Tradicional',\n",
       "       4.0, 3402.0, 188.0, 6.0, 11.0, 26.0, 56.0, 15.0, 56.0,\n",
       "       'Airaz Administradora'], dtype=object)"
      ]
     },
     "metadata": {},
     "output_type": "display_data"
    },
    {
     "data": {
      "text/plain": [
       "array(['Fashion Mall', 'São Conrado', 'Rio de Janeiro', 'RJ', 'SUDESTE',\n",
       "       '1982/10/18', 16230.0, 42634.19, 13545.96, 'Especializado', 5.0,\n",
       "       629.0, 113.0, '', 4.0, 70.0, 30.0, '', 30.0, 'Gafisa'],\n",
       "      dtype=object)"
      ]
     },
     "metadata": {},
     "output_type": "display_data"
    },
    {
     "data": {
      "text/plain": [
       "array(['Shopping Eldorado', 'Pinheiros', 'São Paulo', 'SP', 'SUDESTE',\n",
       "       '1981/09/10', 75460.0, 164735.0, 70726.0, 'Tradicional', 6.0,\n",
       "       3500.0, 304.0, 7.0, 9.0, 30.0, 50.0, 19.0, 50.0, 'Allos'],\n",
       "      dtype=object)"
      ]
     },
     "metadata": {},
     "output_type": "display_data"
    },
    {
     "data": {
      "text/plain": [
       "array(['Plaza Shopping Niterói', 'CENTRO', 'NITERÓI', 'RJ', 'SUDESTE',\n",
       "       '1986/10/20', 43151.5, 159014.82, 172922.13, 'Tradicional', 5.0,\n",
       "       1800.0, 319.0, 9.0, 8.0, 17.0, 59.0, 23.0, 59.0, 'Allos'],\n",
       "      dtype=object)"
      ]
     },
     "metadata": {},
     "output_type": "display_data"
    },
    {
     "data": {
      "text/plain": [
       "array(['Casashopping', 'Barra da Tijuca', 'Rio de Janeiro', 'RJ',\n",
       "       'SUDESTE', '1984/09/28', 70000.0, 114783.0, 74450.0,\n",
       "       'Especializado', 5.0, '', 180.0, '', '', '', '', '', '', 'Própria'],\n",
       "      dtype=object)"
      ]
     },
     "metadata": {},
     "output_type": "display_data"
    },
    {
     "data": {
      "text/plain": [
       "array(['Ilha Plaza Shopping', 'ILHA DO GOVERNADOR', 'Rio de Janeiro',\n",
       "       'RJ', 'SUDESTE', '1992/04/28', 21400.0, 48339.13, 9929.13,\n",
       "       'Tradicional', 6.0, 528.0, 132.0, 4.0, 4.0, 20.0, 49.0, 20.0, 49.0,\n",
       "       'Soul Malls'], dtype=object)"
      ]
     },
     "metadata": {},
     "output_type": "display_data"
    },
    {
     "data": {
      "text/plain": [
       "array(['Parque Shopping Prudente', 'Centro', 'Presidente Prudente', 'SP',\n",
       "       'SUDESTE', '1986/11/19', 16355.0, 40991.7, 19708.97, 'Tradicional',\n",
       "       1.0, 1000.0, '', '', '', '', '', '', '', 'Própria'], dtype=object)"
      ]
     },
     "metadata": {},
     "output_type": "display_data"
    },
    {
     "data": {
      "text/plain": [
       "array(['Shopping Center Aguaverde', 'Agua Verde', 'Curitiba', 'PR', 'SUL',\n",
       "       '1984/11/28', 6200.0, 15000.0, 6000.0, 'Tradicional', 2.0, 150.0,\n",
       "       74.0, '', '', 5.0, 70.0, 15.0, 70.0, 'Planshopping'], dtype=object)"
      ]
     },
     "metadata": {},
     "output_type": "display_data"
    },
    {
     "data": {
      "text/plain": [
       "array(['Shopping Barra', 'CHAME-CHAME', 'Salvador', 'BA', 'NORDESTE',\n",
       "       '1987/11/16', 50097.1, 141412.69, 43783.0, 'Tradicional', 4.0,\n",
       "       3000.0, 273.0, 10.0, 9.0, '', 91.0, 9.0, 91.0, 'Enashopp'],\n",
       "      dtype=object)"
      ]
     },
     "metadata": {},
     "output_type": "display_data"
    },
    {
     "data": {
      "text/plain": [
       "array(['RioPreto Shopping Center', 'Jardim Morumbi',\n",
       "       'São José do Rio Preto', 'SP', 'SUDESTE', '1988/12/06', 35364.08,\n",
       "       50000.0, 107000.0, 'Tradicional', 2.0, 1800.0, 224.0, 4.0, 7.0,\n",
       "       50.0, 50.0, '', 50.0, 'Própria'], dtype=object)"
      ]
     },
     "metadata": {},
     "output_type": "display_data"
    },
    {
     "data": {
      "text/plain": [
       "array(['Centervale Shopping', 'Jardim Oswaldo Cruz',\n",
       "       'São José dos Campos', 'SP', 'SUDESTE', '1987/05/28', 49225.07,\n",
       "       110612.97, 111035.75, 'Tradicional', 2.0, 2200.0, 225.0, 9.0, 6.0,\n",
       "       20.0, 59.0, 21.0, 59.0, 'Ancar Ivanhoe'], dtype=object)"
      ]
     },
     "metadata": {},
     "output_type": "display_data"
    },
    {
     "data": {
      "text/plain": [
       "array(['Madureira Shopping', 'Madureira', 'Rio de Janeiro', 'RJ',\n",
       "       'SUDESTE', '1989/04/19', 36677.41, 74197.65, 13008.15,\n",
       "       'Tradicional', 6.0, 600.0, 157.0, 5.0, 5.0, 1.0, 47.0, 48.0, 47.0,\n",
       "       'Ancar Ivanhoe'], dtype=object)"
      ]
     },
     "metadata": {},
     "output_type": "display_data"
    },
    {
     "data": {
      "text/plain": [
       "array(['Shopping Center Norte', 'Vila Guilherme', 'São Paulo', 'SP',\n",
       "       'SUDESTE', '1984/04/07', 66095.0, 144466.69, 164788.2,\n",
       "       'Tradicional', 1.0, 7000.0, 300.0, '', 5.0, '', '', '', '',\n",
       "       'Grupo Baumgart'], dtype=object)"
      ]
     },
     "metadata": {},
     "output_type": "display_data"
    },
    {
     "data": {
      "text/plain": [
       "array(['Shopping Lar Center', 'Vila Guilherme', 'São Paulo', 'SP',\n",
       "       'SUDESTE', '1987/06/12', 51168.0, 62460.04, 123137.49,\n",
       "       'Especializado', 3.0, 5000.0, 94.0, 5.0, 3.0, 20.0, 61.0, 19.0,\n",
       "       61.0, 'Grupo Baumgart'], dtype=object)"
      ]
     },
     "metadata": {},
     "output_type": "display_data"
    },
    {
     "data": {
      "text/plain": [
       "array(['Maxi Shopping Jundiai', 'VILA RIO BRANCO', 'Jundiaí', 'SP',\n",
       "       'SUDESTE', '1989/10/24', 39602.26, 92874.0, 87000.0, 'Tradicional',\n",
       "       3.0, 2394.0, 199.0, 8.0, 7.0, 10.0, 33.0, 52.0, 33.0,\n",
       "       'Gemaxi Administração E Contruções'], dtype=object)"
      ]
     },
     "metadata": {},
     "output_type": "display_data"
    },
    {
     "data": {
      "text/plain": [
       "array(['RioMar Shopping Aracaju', 'Coroa do Meio', 'Aracaju', 'SE',\n",
       "       'NORDESTE', '1989/05/08', 50868.27, 101581.39, 94020.0,\n",
       "       'Tradicional', 2.0, 2166.0, 229.0, 14.0, 7.0, 14.0, 26.0, 45.0,\n",
       "       26.0, 'JCPM'], dtype=object)"
      ]
     },
     "metadata": {},
     "output_type": "display_data"
    },
    {
     "data": {
      "text/plain": [
       "array(['Taubaté Shopping Center', 'Vila Costa', 'Taubaté', 'SP',\n",
       "       'SUDESTE', '1989/11/09', 31308.35, 50465.2, 82382.64,\n",
       "       'Tradicional', 2.0, 964.0, 159.0, 7.0, 5.0, 15.0, 50.0, 30.0, 50.0,\n",
       "       'Ad Shopping'], dtype=object)"
      ]
     },
     "metadata": {},
     "output_type": "display_data"
    },
    {
     "data": {
      "text/plain": [
       "array(['Shopping Interlagos', 'Jardim Umuarama', 'São Paulo', 'SP',\n",
       "       'SUDESTE', '1988/09/28', 145000.0, 280000.0, 480000.0,\n",
       "       'Tradicional', 3.0, 6700.0, 441.0, 25.0, 10.0, '', '', '', '',\n",
       "       'Intermarcos Administradora Ltda'], dtype=object)"
      ]
     },
     "metadata": {},
     "output_type": "display_data"
    },
    {
     "data": {
      "text/plain": [
       "array(['Catuaí Shopping Center Londrina', 'Vivendas do Arvoredo',\n",
       "       'Londrina', 'PR', 'SUL', '1990/11/21', 81700.0, 137374.0, 161725.0,\n",
       "       'Tradicional', 1.0, 2166.0, 243.0, 15.0, 7.0, 32.0, 54.0, 14.0,\n",
       "       54.0, 'Allos'], dtype=object)"
      ]
     },
     "metadata": {},
     "output_type": "display_data"
    },
    {
     "data": {
      "text/plain": [
       "array(['Miramar Shopping Center', 'Gonzaga', 'Santos', 'SP', 'SUDESTE',\n",
       "       '1987/06/09', 10245.0, 58006.0, 5328.0, 'Tradicional', 3.0, 400.0,\n",
       "       110.0, '', '', '', '', '', '', 'Silamar Construtora'], dtype=object)"
      ]
     },
     "metadata": {},
     "output_type": "display_data"
    },
    {
     "data": {
      "text/plain": [
       "array(['Natal Shopping Center', 'Candelária', 'Natal', 'RN', 'NORDESTE',\n",
       "       '1992/06/04', 28349.44, 87164.33, 36330.0, 'Tradicional', 3.0,\n",
       "       1208.0, 166.0, 4.0, 8.0, 16.0, 63.0, 19.0, 63.0, 'Ancar Ivanhoe'],\n",
       "      dtype=object)"
      ]
     },
     "metadata": {},
     "output_type": "display_data"
    },
    {
     "data": {
      "text/plain": [
       "array(['Bebedouro Shopping Center', 'Centro', 'Bebedouro', 'SP',\n",
       "       'SUDESTE', '1989/07/07', 9413.16, 10209.0, 90974.0, 'Tradicional',\n",
       "       2.0, 800.0, 43.0, 1.0, 1.0, 30.0, 40.0, 20.0, 40.0,\n",
       "       'Cutrale Empreendimentos'], dtype=object)"
      ]
     },
     "metadata": {},
     "output_type": "display_data"
    },
    {
     "data": {
      "text/plain": [
       "array(['Manaíra Shopping', 'Manaira', 'João Pessoa', 'PB', 'NORDESTE',\n",
       "       '1989/11/29', 87000.0, 135000.0, 92500.0, 'Tradicional', '',\n",
       "       3000.0, 262.0, '', 11.0, '', '', '', '', 'Própria'], dtype=object)"
      ]
     },
     "metadata": {},
     "output_type": "display_data"
    },
    {
     "data": {
      "text/plain": [
       "array(['Shopping Del Rey', 'Caiçara', 'Belo Horizonte', 'MG', 'SUDESTE',\n",
       "       '1991/10/28', 38364.4, 155846.25, 69638.08, 'Tradicional', 3.0,\n",
       "       2215.0, 245.0, 13.0, 7.0, 23.0, 52.0, 23.0, 52.0, 'Allos'],\n",
       "      dtype=object)"
      ]
     },
     "metadata": {},
     "output_type": "display_data"
    },
    {
     "data": {
      "text/plain": [
       "array(['Sider Shopping', 'Vila Santa Cecília', 'Volta Redonda', 'RJ',\n",
       "       'SUDESTE', '1989/10/30', 11542.0, 33728.0, 4713.0, 'Tradicional',\n",
       "       5.0, 399.0, 71.0, 3.0, 4.0, 9.0, 60.0, 31.0, 60.0, 'Ad Shopping'],\n",
       "      dtype=object)"
      ]
     },
     "metadata": {},
     "output_type": "display_data"
    },
    {
     "data": {
      "text/plain": [
       "array(['Shopping Campo Grande', 'bairro Santa Fé', 'Campo Grande', 'MS',\n",
       "       'CENTRO-OESTE', '1989/10/18', 40054.88, 145235.24, 127970.85,\n",
       "       'Tradicional', 2.0, 2500.0, 214.0, 5.0, 10.0, 13.0, 44.0, 38.0,\n",
       "       44.0, 'Allos'], dtype=object)"
      ]
     },
     "metadata": {},
     "output_type": "display_data"
    },
    {
     "data": {
      "text/plain": [
       "array(['Minas Shopping', 'União', 'Belo Horizonte', 'MG', 'SUDESTE',\n",
       "       '1991/09/25', 45875.33, 112172.23, 85772.3, 'Tradicional', 2.0,\n",
       "       1740.0, 241.0, 12.0, 6.0, 17.0, 57.0, 26.0, 57.0, 'Ad Shopping'],\n",
       "      dtype=object)"
      ]
     },
     "metadata": {},
     "output_type": "display_data"
    },
    {
     "data": {
      "text/plain": [
       "array(['Amazonas Shopping Center', 'Parque 10 de Novembro', 'Manaus',\n",
       "       'AM', 'NORTE', '1991/11/07', 38507.4, 91486.98, 63042.42,\n",
       "       'Tradicional', 4.0, 1724.0, 215.0, 4.0, 5.0, 12.0, 42.0, 41.0,\n",
       "       42.0, 'Allos'], dtype=object)"
      ]
     },
     "metadata": {},
     "output_type": "display_data"
    },
    {
     "data": {
      "text/plain": [
       "array(['Shopping Vitória', 'Enseada do Suá', 'Vitória', 'ES', 'SUDESTE',\n",
       "       '1993/06/28', 43302.22, 97448.75, 87829.53, 'Tradicional', 3.0,\n",
       "       2200.0, 322.0, 8.0, 6.0, '', '', '', '',\n",
       "       'NOVA CIDADE SHOPPING CENTERS SA'], dtype=object)"
      ]
     },
     "metadata": {},
     "output_type": "display_data"
    },
    {
     "data": {
      "text/plain": [
       "array(['Bourbon Shopping Novo Hamburgo', 'Centro', 'Novo Hamburgo', 'RS',\n",
       "       'SUL', '1991/10/23', 20356.0, 65605.0, 13801.0, 'Tradicional', 4.0,\n",
       "       981.0, 134.0, 3.0, 5.0, 8.0, 36.0, 53.0, 36.0,\n",
       "       'Airaz Administradora'], dtype=object)"
      ]
     },
     "metadata": {},
     "output_type": "display_data"
    },
    {
     "data": {
      "text/plain": [
       "array(['Shopping Center Penha', 'Penha', 'São Paulo', 'SP', 'SUDESTE',\n",
       "       '1992/10/19', 29898.72, 99950.0, 22894.0, 'Tradicional', 4.0,\n",
       "       1437.0, 169.0, 6.0, 6.0, 10.0, 65.0, 20.0, 65.0, 'Ad Shopping'],\n",
       "      dtype=object)"
      ]
     },
     "metadata": {},
     "output_type": "display_data"
    },
    {
     "data": {
      "text/plain": [
       "array(['Alameda Shopping', 'Taguatinga Sul', 'Brasília', 'DF',\n",
       "       'CENTRO-OESTE', '1990/04/17', 13520.0, 19817.0, 4807.0,\n",
       "       'Tradicional', 4.0, 600.0, 104.0, 5.0, '', 14.0, 50.0, 33.0, 50.0,\n",
       "       'Lumine'], dtype=object)"
      ]
     },
     "metadata": {},
     "output_type": "display_data"
    },
    {
     "data": {
      "text/plain": [
       "array(['Praia De Belas Shopping Center', 'Praia de Belas', 'Porto Alegre',\n",
       "       'RS', 'SUL', '1991/10/29', 44675.0, '', '', 'Tradicional', 3.0,\n",
       "       2433.0, 201.0, '', 6.0, 26.0, 41.0, 33.0, 41.0,\n",
       "       'Iguatemi Empresa de Shopping Centers'], dtype=object)"
      ]
     },
     "metadata": {},
     "output_type": "display_data"
    },
    {
     "data": {
      "text/plain": [
       "array(['Shopping Center Uberaba', 'São Benedito', 'Uberaba', 'MG',\n",
       "       'SUDESTE', '1999/04/05', 33000.0, 54020.78, 115000.0,\n",
       "       'Tradicional', 2.0, 1447.0, 191.0, 8.0, 8.0, 50.0, 30.0, 15.0,\n",
       "       30.0, 'Saphyr'], dtype=object)"
      ]
     },
     "metadata": {},
     "output_type": "display_data"
    },
    {
     "data": {
      "text/plain": [
       "array(['North Shopping Barretos', 'Pedro Cavalini', 'Barretos', 'SP',\n",
       "       'SUDESTE', '2010/12/05', 22000.0, 36810.0, 46820.0, 'Tradicional',\n",
       "       2.0, 800.0, 120.0, '', 3.0, '', '', '', '', 'Própria'],\n",
       "      dtype=object)"
      ]
     },
     "metadata": {},
     "output_type": "display_data"
    },
    {
     "data": {
      "text/plain": [
       "array(['Mister Shopping', 'Centro', 'Juiz de Fora', 'MG', 'SUDESTE',\n",
       "       '1988/11/26', 9050.0, 23000.0, 3150.0, 'Tradicional', 3.0, 426.0,\n",
       "       123.0, '', '', '', '', '', '', 'Própria'], dtype=object)"
      ]
     },
     "metadata": {},
     "output_type": "display_data"
    },
    {
     "data": {
      "text/plain": [
       "array(['Rua Da Praia Shopping', 'Centro', 'Porto Alegre', 'RS', 'SUL',\n",
       "       '1990/11/20', 8949.0, 11778.04, 2967.64, 'Tradicional', 4.0, 25.0,\n",
       "       77.0, '', 2.0, 19.0, 40.0, 40.0, 40.0,\n",
       "       'Helênica Admnistradora De Shopping Center'], dtype=object)"
      ]
     },
     "metadata": {},
     "output_type": "display_data"
    },
    {
     "data": {
      "text/plain": [
       "array(['Shopping Bougainville', 'Marista', 'Goiânia', 'GO',\n",
       "       'CENTRO-OESTE', '1990/08/16', 13816.0, 31422.81, 7300.0,\n",
       "       'Tradicional', 4.0, 365.0, 102.0, '', '', '', '', '', '',\n",
       "       'Própria'], dtype=object)"
      ]
     },
     "metadata": {},
     "output_type": "display_data"
    },
    {
     "data": {
      "text/plain": [
       "array(['Shopping Pátio Belém', 'Batista Campos', 'Belém', 'PA', 'NORTE',\n",
       "       '1993/10/27', 21727.43, 58344.26, 38218.19, 'Tradicional', 4.0,\n",
       "       851.0, 188.0, 11.0, 6.0, 5.0, 50.0, 35.0, 50.0, 'Ad Shopping'],\n",
       "      dtype=object)"
      ]
     },
     "metadata": {},
     "output_type": "display_data"
    },
    {
     "data": {
      "text/plain": [
       "array(['Neumarkt Shopping', 'Centro', 'Blumenau', 'SC', 'SUL',\n",
       "       '1993/09/26', 30600.0, 91602.0, 37790.0, 'Tradicional', 2.0,\n",
       "       1100.0, 212.0, 7.0, 5.0, '', '', '', '', 'Almeida Junior'],\n",
       "      dtype=object)"
      ]
     },
     "metadata": {},
     "output_type": "display_data"
    },
    {
     "data": {
      "text/plain": [
       "array(['Via Parque Shopping', 'Barra da Tijuca', 'Rio de Janeiro', 'RJ',\n",
       "       'SUDESTE', '1993/10/28', 56509.0, 111248.11, 105110.56,\n",
       "       'Tradicional', 2.0, 2011.0, 206.0, 9.0, 6.0, 32.0, 54.0, 13.0,\n",
       "       54.0, 'Allos'], dtype=object)"
      ]
     },
     "metadata": {},
     "output_type": "display_data"
    },
    {
     "data": {
      "text/plain": [
       "array(['Centro Comercial Aricanduva', 'Jd. Aricanduva', 'São Paulo', 'SP',\n",
       "       'SUDESTE', '1991/09/19', 263271.39, 434935.35, 1000000.0,\n",
       "       'Tradicional', 3.0, 10000.0, 545.0, 35.0, 13.0, 12.0, 53.0, 34.0,\n",
       "       53.0, 'Shopping Center Leste Comercial Ltda.'], dtype=object)"
      ]
     },
     "metadata": {},
     "output_type": "display_data"
    },
    {
     "data": {
      "text/plain": [
       "array(['Shopping Tamboré', 'Tamboré', 'Barueri', 'SP', 'SUDESTE',\n",
       "       '1992/05/05', 48917.87, 107554.29, 160554.07, 'Tradicional', 1.0,\n",
       "       2134.0, 304.0, 9.0, 9.0, 32.0, 48.0, 19.0, 48.0, 'Allos'],\n",
       "      dtype=object)"
      ]
     },
     "metadata": {},
     "output_type": "display_data"
    },
    {
     "data": {
      "text/plain": [
       "array(['Shopping Guararapes', 'Piedade', 'Jaboatão dos Guararapes', 'PE',\n",
       "       'NORDESTE', '1993/11/11', 50963.66, 86164.93, 130000.0,\n",
       "       'Tradicional', 2.0, 1667.0, 200.0, 8.0, 12.0, 11.0, 44.0, 41.0,\n",
       "       44.0, 'Própria'], dtype=object)"
      ]
     },
     "metadata": {},
     "output_type": "display_data"
    },
    {
     "data": {
      "text/plain": [
       "array(['Continental Shopping', 'Pq. Continental', 'São Paulo', 'SP',\n",
       "       'SUDESTE', '1975/10/18', 30221.0, 65474.7, 46612.0, 'Tradicional',\n",
       "       4.0, 1439.0, 186.0, 6.0, '', 23.0, 47.0, 27.0, 47.0, 'Própria'],\n",
       "      dtype=object)"
      ]
     },
     "metadata": {},
     "output_type": "display_data"
    },
    {
     "data": {
      "text/plain": [
       "array(['Mogi Shopping', 'Jardim Armênia', 'Mogi das Cruzes', 'SP',\n",
       "       'SUDESTE', '1991/11/20', 34784.32, 60306.54, 102739.75,\n",
       "       'Tradicional', '', 1717.0, 204.0, '', 7.0, '', '', '', '',\n",
       "       'Hbr Realty'], dtype=object)"
      ]
     },
     "metadata": {},
     "output_type": "display_data"
    },
    {
     "data": {
      "text/plain": [
       "array(['Shopping Tacaruna', 'Santo Amaro', 'Recife', 'PE', 'NORDESTE',\n",
       "       '1997/04/29', 44897.57, 138844.97, 76958.0, 'Tradicional', 2.0,\n",
       "       2606.0, 248.0, 12.0, 10.0, 20.0, 44.0, 36.0, 44.0,\n",
       "       'Tmall - Gestão De Empreendimentos'], dtype=object)"
      ]
     },
     "metadata": {},
     "output_type": "display_data"
    },
    {
     "data": {
      "text/plain": [
       "array(['Shopping Curitiba', 'CENTRO', 'Curitiba', 'PR', 'SUL',\n",
       "       '1996/09/26', 21837.0, 93596.0, 14206.0, 'Tradicional', 4.0,\n",
       "       1030.0, 136.0, 6.0, 6.0, 27.0, 48.0, 13.0, 48.0, 'Allos'],\n",
       "      dtype=object)"
      ]
     },
     "metadata": {},
     "output_type": "display_data"
    },
    {
     "data": {
      "text/plain": [
       "array(['Shopping Crystal', 'Batel', 'Curitiba', 'PR', 'SUL', '1996/11/05',\n",
       "       15125.0, 44000.0, 8351.0, 'Tradicional', 7.0, 465.0, 103.0, 3.0,\n",
       "       '', 33.0, 29.0, 18.0, 29.0, 'Argo Desenvolvimento e Gestão'],\n",
       "      dtype=object)"
      ]
     },
     "metadata": {},
     "output_type": "display_data"
    },
    {
     "data": {
      "text/plain": [
       "array(['Franca Shopping Center', 'Jd. Roselândia', 'Franca', 'SP',\n",
       "       'SUDESTE', '1993/10/04', 18578.0, 28603.54, 70000.0, 'Tradicional',\n",
       "       1.0, 1100.0, 96.0, 6.0, 4.0, 22.0, 51.0, 26.0, 51.0, 'Allos'],\n",
       "      dtype=object)"
      ]
     },
     "metadata": {},
     "output_type": "display_data"
    },
    {
     "data": {
      "text/plain": [
       "array(['Shopping Jaraguá Indaiatuba', 'Centro', 'Indaiatuba', 'SP',\n",
       "       'SUDESTE', '1993/09/27', 7464.97, 11128.63, 14007.8, 'Tradicional',\n",
       "       2.0, 267.0, 48.0, 3.0, '', '', '', '', '', 'Sol Panamby'],\n",
       "      dtype=object)"
      ]
     },
     "metadata": {},
     "output_type": "display_data"
    },
    {
     "data": {
      "text/plain": [
       "array(['Shopping La Plage', 'Pitangueiras', 'Guarujá', 'SP', 'SUDESTE',\n",
       "       '1992/12/29', 6468.94, 11789.3, 5904.92, 'Tradicional', 2.0, 110.0,\n",
       "       60.0, '', 3.0, '', '', '', '', 'Ad Shopping'], dtype=object)"
      ]
     },
     "metadata": {},
     "output_type": "display_data"
    },
    {
     "data": {
      "text/plain": [
       "array(['Beiramar Shopping', 'Centro', 'Florianópolis', 'SC', 'SUL',\n",
       "       '1993/10/27', 25000.0, 84000.0, 45000.0, 'Tradicional', 10.0,\n",
       "       1050.0, 217.0, 1.0, 5.0, '', '', '', '', 'Própria'], dtype=object)"
      ]
     },
     "metadata": {},
     "output_type": "display_data"
    },
    {
     "data": {
      "text/plain": [
       "array(['Osasco Plaza Shopping', 'Centro', 'Osasco', 'SP', 'SUDESTE',\n",
       "       '1995/05/19', 14600.0, 48000.0, 27254.0, 'Tradicional', '', '', '',\n",
       "       '', '', '', '', '', '', 'Osasco Plaza Administradora'],\n",
       "      dtype=object)"
      ]
     },
     "metadata": {},
     "output_type": "display_data"
    },
    {
     "data": {
      "text/plain": [
       "array(['Castanheira Shopping Center', 'Castanheira', 'Belém', 'PA',\n",
       "       'NORTE', '1993/11/30', 49417.0, 139305.77, 33050.1, 'Tradicional',\n",
       "       4.0, 1500.0, 195.0, 9.0, 7.0, 10.0, 55.0, 25.0, 55.0, 'Própria'],\n",
       "      dtype=object)"
      ]
     },
     "metadata": {},
     "output_type": "display_data"
    },
    {
     "data": {
      "text/plain": [
       "array(['Bourbon Shopping Assis Brasil', 'São João', 'Porto Alegre', 'RS',\n",
       "       'SUL', '1991/12/11', 18856.0, 36859.0, 100058.0, 'Tradicional',\n",
       "       2.0, 1296.0, 75.0, 2.0, '', 17.0, 48.0, 29.0, 48.0,\n",
       "       'Airaz Administradora'], dtype=object)"
      ]
     },
     "metadata": {},
     "output_type": "display_data"
    },
    {
     "data": {
      "text/plain": [
       "array(['Shopping Mueller Joinville', 'Centro', 'Joinville', 'SC', 'SUL',\n",
       "       '1995/05/04', 28183.0, 70649.0, 22560.0, 'Tradicional', '', '', '',\n",
       "       '', '', '', '', '', '', 'Própria'], dtype=object)"
      ]
     },
     "metadata": {},
     "output_type": "display_data"
    },
    {
     "data": {
      "text/plain": [
       "array(['Casa & Gourmet Shopping', 'Botafogo', 'Rio de Janeiro', 'RJ',\n",
       "       'SUDESTE', '1993/12/15', 6756.99, 21196.0, 18752.0,\n",
       "       'Especializado', 1.0, 330.0, 25.0, 2.0, '', 25.0, 60.0, 15.0, 60.0,\n",
       "       'Soul Malls'], dtype=object)"
      ]
     },
     "metadata": {},
     "output_type": "display_data"
    },
    {
     "data": {
      "text/plain": [
       "array(['Shopping Nova América', 'Del Castilho', 'Rio de Janeiro', 'RJ',\n",
       "       'SUDESTE', '1995/10/21', 53173.0, 127101.1, 135164.0,\n",
       "       'Tradicional', 4.0, 4284.0, 401.0, 9.0, 7.0, 13.0, 56.0, 28.0,\n",
       "       56.0, 'Ancar Ivanhoe'], dtype=object)"
      ]
     },
     "metadata": {},
     "output_type": "display_data"
    },
    {
     "data": {
      "text/plain": [
       "array(['Liberty Mall', 'ASA NORTE', 'Brasília', 'DF', 'CENTRO-OESTE',\n",
       "       '1994/11/16', 5271.82, 11812.0, 6400.0, 'Tradicional', 2.0, 250.0,\n",
       "       61.0, '', 4.0, 32.0, 50.0, 15.0, 50.0, 'Enashopp'], dtype=object)"
      ]
     },
     "metadata": {},
     "output_type": "display_data"
    },
    {
     "data": {
      "text/plain": [
       "array(['Prudenshopping', 'Jardim das Rosas', 'Presidente Prudente', 'SP',\n",
       "       'SUDESTE', '1990/11/15', 31298.81, 73669.97, 61344.72,\n",
       "       'Tradicional', 2.0, 1112.0, 153.0, 5.0, 4.0, 8.0, 29.0, 57.0, 29.0,\n",
       "       'Argo Desenvolvimento e Gestão'], dtype=object)"
      ]
     },
     "metadata": {},
     "output_type": "display_data"
    },
    {
     "data": {
      "text/plain": [
       "array(['Goiânia Shopping', 'Setor Bueno', 'Goiânia', 'GO', 'CENTRO-OESTE',\n",
       "       '1995/10/24', 33530.0, 99768.59, 52983.87, 'Tradicional', 4.0,\n",
       "       1727.0, 175.0, 5.0, 6.0, 30.0, 54.0, 15.0, 54.0, 'Allos'],\n",
       "      dtype=object)"
      ]
     },
     "metadata": {},
     "output_type": "display_data"
    },
    {
     "data": {
      "text/plain": [
       "array(['Topshopping', 'Centro', 'Nova Iguaçu', 'RJ', 'SUDESTE',\n",
       "       '1996/10/28', 32318.7, 85806.65, 11141.0, 'Tradicional', 3.0,\n",
       "       1251.0, '', 6.0, 6.0, '', '', '', '', 'Própria'], dtype=object)"
      ]
     },
     "metadata": {},
     "output_type": "display_data"
    },
    {
     "data": {
      "text/plain": [
       "array(['Brasília Shopping', 'ASA NORTE', 'Brasília', 'DF', 'CENTRO-OESTE',\n",
       "       '1997/04/21', 18500.0, 101522.07, 14400.0, 'Tradicional', 5.0,\n",
       "       911.0, 159.0, 3.0, '', 35.0, 50.0, 10.0, 50.0, 'Paulo Octavio'],\n",
       "      dtype=object)"
      ]
     },
     "metadata": {},
     "output_type": "display_data"
    },
    {
     "data": {
      "text/plain": [
       "array(['Shopping Cidade', 'Centro', 'Belo Horizonte', 'MG', 'SUDESTE',\n",
       "       '1991/04/30', 21214.53, 63772.0, 7550.78, 'Tradicional', 6.0,\n",
       "       716.0, 146.0, 3.0, 8.0, 18.0, 59.0, 22.0, 59.0, 'Própria'],\n",
       "      dtype=object)"
      ]
     },
     "metadata": {},
     "output_type": "display_data"
    },
    {
     "data": {
      "text/plain": [
       "array(['Butantã Shopping', 'Butantã', 'São Paulo', 'SP', 'SUDESTE',\n",
       "       '1994/05/03', 26654.85, 120047.0, 53926.0, 'Tradicional', 3.0,\n",
       "       1822.0, 152.0, 4.0, '', 8.0, 55.0, 37.0, 55.0, 'Carrefour'],\n",
       "      dtype=object)"
      ]
     },
     "metadata": {},
     "output_type": "display_data"
    },
    {
     "data": {
      "text/plain": [
       "array(['Shopping Center Lapa-Sp', 'Lapa', 'São Paulo', 'SP', 'SUDESTE',\n",
       "       '1968/11/24', 8188.61, 14950.0, 6887.0, 'Tradicional', 3.0, 140.0,\n",
       "       122.0, 2.0, 3.0, '', '', 60.0, '', 'Própria'], dtype=object)"
      ]
     },
     "metadata": {},
     "output_type": "display_data"
    },
    {
     "data": {
      "text/plain": [
       "array(['Shopping Grande Rio', 'Venda Velha', 'São João de Meriti', 'RJ',\n",
       "       'SUDESTE', '1995/11/08', 43037.0, 115023.0, 160467.0,\n",
       "       'Tradicional', 2.0, 1682.0, 180.0, 12.0, 6.0, 6.0, 61.0, 33.0,\n",
       "       61.0, 'Allos'], dtype=object)"
      ]
     },
     "metadata": {},
     "output_type": "display_data"
    },
    {
     "data": {
      "text/plain": [
       "array(['Ponteio Lar Shopping', 'Santa Lucia', 'Belo Horizonte', 'MG',\n",
       "       'SUDESTE', '1995/07/12', 19246.77, 51482.91, 15034.83,\n",
       "       'Especializado', 2.0, 770.0, 60.0, 4.0, '', 98.0, 2.0, '', 2.0,\n",
       "       'Ad Shopping'], dtype=object)"
      ]
     },
     "metadata": {},
     "output_type": "display_data"
    },
    {
     "data": {
      "text/plain": [
       "array(['Teresópolis Shopping Center', 'Várzea', 'Teresópolis', 'RJ',\n",
       "       'SUDESTE', '1995/05/04', 9000.0, 11100.0, 9105.0, 'Tradicional',\n",
       "       4.0, 140.0, 78.0, 4.0, 3.0, 20.0, 40.0, 30.0, 40.0, 'Própria'],\n",
       "      dtype=object)"
      ]
     },
     "metadata": {},
     "output_type": "display_data"
    },
    {
     "data": {
      "text/plain": [
       "array(['Shopping Do Vale', 'Vila Bom Principio', 'Cachoeirinha', 'RS',\n",
       "       'SUL', '1995/05/01', 17178.0, '', '', 'Tradicional', 2.0, 350.0,\n",
       "       109.0, 5.0, 4.0, '', '', '', '', 'General Shopping&Outlets'],\n",
       "      dtype=object)"
      ]
     },
     "metadata": {},
     "output_type": "display_data"
    },
    {
     "data": {
      "text/plain": [
       "array(['Lindoia Shopping', 'Cristo Redentor', 'Porto Alegre', 'RS', 'SUL',\n",
       "       '1994/04/29', 5622.28, 5622.28, 6000.0, 'Tradicional', 3.0, 269.0,\n",
       "       80.0, 1.0, '', '', '', 70.0, '',\n",
       "       'Plus Adm. Brasileira De Shopping Centers'], dtype=object)"
      ]
     },
     "metadata": {},
     "output_type": "display_data"
    },
    {
     "data": {
      "text/plain": [
       "array(['D&D Decoração E Design Center', 'Brooklin Novo', 'São Paulo',\n",
       "       'SP', 'SUDESTE', '1995/08/31', 17036.3, 24000.0, 166378.0,\n",
       "       'Especializado', 3.0, 2000.0, 97.0, 2.0, '', 80.0, 20.0, '', 20.0,\n",
       "       'Própria'], dtype=object)"
      ]
     },
     "metadata": {},
     "output_type": "display_data"
    },
    {
     "data": {
      "text/plain": [
       "array(['DC Shopping', 'Navegantes', 'Porto Alegre', 'RS', 'SUL',\n",
       "       '1994/10/28', 14415.6, 23209.4, 45587.5, 'Especializado', 1.0,\n",
       "       600.0, 66.0, '', '', 50.0, 30.0, 10.0, 30.0, 'Própria'],\n",
       "      dtype=object)"
      ]
     },
     "metadata": {},
     "output_type": "display_data"
    },
    {
     "data": {
      "text/plain": [
       "array(['Maringá Park Shopping Center', 'Zona 01', 'Maringá', 'PR', 'SUL',\n",
       "       '2008/04/23', 16022.0, 37965.0, 5680.0, 'Tradicional', 5.0, 365.0,\n",
       "       111.0, 3.0, 5.0, 68.0, 18.0, 11.0, 18.0,\n",
       "       'AKA Administração e Participação'], dtype=object)"
      ]
     },
     "metadata": {},
     "output_type": "display_data"
    },
    {
     "data": {
      "text/plain": [
       "array(['Shopping Villagio Caxias', 'Desvio Rizzo', 'Caxias do Sul', 'RS',\n",
       "       'SUL', '1996/11/18', 29577.0, 56765.0, 156461.52, 'Tradicional',\n",
       "       1.0, 2200.0, 132.0, 7.0, 6.0, 10.0, 49.0, 37.0, 49.0, 'Allos'],\n",
       "      dtype=object)"
      ]
     },
     "metadata": {},
     "output_type": "display_data"
    },
    {
     "data": {
      "text/plain": [
       "array(['Recreio Shopping Center', 'Recreio Dos Bandeirantes',\n",
       "       'Rio de Janeiro', 'RJ', 'SUDESTE', '1997/11/13', 22315.27,\n",
       "       85838.68, 37649.61, 'Especializado', 3.0, 998.0, 157.0, 5.0, 5.0,\n",
       "       19.0, 55.0, 22.0, 55.0, 'Allos'], dtype=object)"
      ]
     },
     "metadata": {},
     "output_type": "display_data"
    },
    {
     "data": {
      "text/plain": [
       "array(['Araçatuba Shopping Center', 'Nova Iorque', 'Araçatuba', 'SP',\n",
       "       'SUDESTE', '1995/11/09', 11381.26, 29911.86, 13193.57,\n",
       "       'Tradicional', 2.0, 431.0, 66.0, 2.0, 3.0, 50.0, 35.0, 15.0, 35.0,\n",
       "       'Ad Shopping'], dtype=object)"
      ]
     },
     "metadata": {},
     "output_type": "display_data"
    },
    {
     "data": {
      "text/plain": [
       "array(['West Shopping Rio', 'CAMPO GRANDE', 'Rio de Janeiro', 'RJ',\n",
       "       'SUDESTE', '1997/09/25', 44233.67, 110704.37, 25243.0,\n",
       "       'Tradicional', 2.0, 1350.0, 147.0, 10.0, 5.0, 8.0, 45.0, 44.0,\n",
       "       45.0, 'Argo Desenvolvimento e Gestão'], dtype=object)"
      ]
     },
     "metadata": {},
     "output_type": "display_data"
    },
    {
     "data": {
      "text/plain": [
       "array(['Shopping Center Fernandópolis', 'São Fernando', 'Fernandópolis',\n",
       "       'SP', 'SUDESTE', '1996/09/26', 16100.0, 21340.0, 76337.4,\n",
       "       'Tradicional', 1.0, 1000.0, 65.0, 2.0, 2.0, 10.0, 30.0, 50.0, 30.0,\n",
       "       'Vida Nova Empreendimentos'], dtype=object)"
      ]
     },
     "metadata": {},
     "output_type": "display_data"
    },
    {
     "data": {
      "text/plain": [
       "array(['Teresina Shopping', 'Noivos', 'Teresina', 'PI', 'NORDESTE',\n",
       "       '1997/04/27', 60519.4, 118985.82, 157840.52, 'Tradicional', 2.0,\n",
       "       3878.0, 422.0, 11.0, 7.0, 24.0, 50.0, 24.0, 50.0, 'Própria'],\n",
       "      dtype=object)"
      ]
     },
     "metadata": {},
     "output_type": "display_data"
    },
    {
     "data": {
      "text/plain": [
       "array(['Shopping Center Lapa - Salvador', 'Piedade', 'Salvador', 'BA',\n",
       "       'NORDESTE', '1996/04/29', 18335.2, 36781.21, 8576.87,\n",
       "       'Tradicional', 3.0, 220.0, 107.0, 5.0, 2.0, 2.0, 37.0, 59.0, 37.0,\n",
       "       'Ad Shopping'], dtype=object)"
      ]
     },
     "metadata": {},
     "output_type": "display_data"
    },
    {
     "data": {
      "text/plain": [
       "array(['Shopping Jardim Sul', 'Vila Andrade - Morumbi', 'São Paulo', 'SP',\n",
       "       'SUDESTE', '1990/06/01', 28816.17, 95519.0, 22973.0, 'Tradicional',\n",
       "       5.0, 1660.0, 198.0, 6.0, 9.0, 46.0, 42.0, 11.0, 42.0, 'Allos'],\n",
       "      dtype=object)"
      ]
     },
     "metadata": {},
     "output_type": "display_data"
    },
    {
     "data": {
      "text/plain": [
       "array(['Vale Sul Shopping', 'Jd Satelite', 'São José dos Campos', 'SP',\n",
       "       'SUDESTE', '1994/11/10', 79893.4, 120000.0, 230000.0,\n",
       "       'Tradicional', '', 4500.0, 220.0, '', 6.0, '', '', '', '',\n",
       "       'Própria'], dtype=object)"
      ]
     },
     "metadata": {},
     "output_type": "display_data"
    },
    {
     "data": {
      "text/plain": [
       "array(['Shopping Abc', 'Vila Gilda', 'Santo André', 'SP', 'SUDESTE',\n",
       "       '1996/08/19', 45929.83, 121542.0, 33287.0, 'Tradicional', 4.0,\n",
       "       2015.0, 234.0, 9.0, 5.0, 50.0, 38.0, 9.0, 38.0, 'Ad Shopping'],\n",
       "      dtype=object)"
      ]
     },
     "metadata": {},
     "output_type": "display_data"
    },
    {
     "data": {
      "text/plain": [
       "array(['River Shopping', 'CENTRO', 'Petrolina', 'PE', 'NORDESTE',\n",
       "       '1995/10/25', 27293.32, 36366.11, 107350.0, 'Tradicional', 1.0,\n",
       "       1558.0, 152.0, 6.0, 4.0, 5.0, 50.0, 40.0, 50.0, 'Lumine'],\n",
       "      dtype=object)"
      ]
     },
     "metadata": {},
     "output_type": "display_data"
    },
    {
     "data": {
      "text/plain": [
       "array(['Raposo Shopping', 'Jd. Boa Vista', 'São Paulo', 'SP', 'SUDESTE',\n",
       "       '1996/05/28', 31299.45, 79772.87, 45685.0, 'Tradicional', 4.0,\n",
       "       1931.0, 170.0, 6.0, 7.0, 3.0, 33.0, 62.0, 33.0, 'Própria'],\n",
       "      dtype=object)"
      ]
     },
     "metadata": {},
     "output_type": "display_data"
    },
    {
     "data": {
      "text/plain": [
       "array(['Campinas Shopping Center', 'Jardim do Lago', 'Campinas', 'SP',\n",
       "       'SUDESTE', '1994/12/05', 36328.61, 59083.89, 80784.19,\n",
       "       'Tradicional', '', '', '', '', '', '', '', '', '', 'Allos'],\n",
       "      dtype=object)"
      ]
     },
     "metadata": {},
     "output_type": "display_data"
    },
    {
     "data": {
      "text/plain": [
       "array(['Shopping Bay Market', 'centro', 'NITERÓI', 'RJ', 'SUDESTE',\n",
       "       '1997/08/30', 11581.68, 24973.65, 7046.8, 'Tradicional', 3.0,\n",
       "       185.0, 73.0, 2.0, 4.0, 10.0, 25.0, 30.0, 25.0,\n",
       "       'Terral Shopping Centers'], dtype=object)"
      ]
     },
     "metadata": {},
     "output_type": "display_data"
    },
    {
     "data": {
      "text/plain": [
       "array(['Shopping Plaza Sul', 'Jd. da Saúde', 'São Paulo', 'SP', 'SUDESTE',\n",
       "       '1994/04/25', 23500.0, 98405.0, 21224.0, 'Tradicional', 3.0,\n",
       "       1474.0, 207.0, 3.0, 6.0, 35.0, 46.0, 19.0, 46.0, 'Allos'],\n",
       "      dtype=object)"
      ]
     },
     "metadata": {},
     "output_type": "display_data"
    },
    {
     "data": {
      "text/plain": [
       "array(['Buriti Shopping', 'Vila São Tomaz', 'Aparecida de Goiânia', 'GO',\n",
       "       'CENTRO-OESTE', '1996/04/24', 41015.0, 98929.22, 67678.61,\n",
       "       'Tradicional', 4.0, 2034.0, 194.0, 7.0, 6.0, 10.0, 40.0, 30.0,\n",
       "       40.0, 'Terral Shopping Centers'], dtype=object)"
      ]
     },
     "metadata": {},
     "output_type": "display_data"
    },
    {
     "data": {
      "text/plain": [
       "array(['Shopping Villa Lobos', 'Alto de Pinheiros', 'São Paulo', 'SP',\n",
       "       'SUDESTE', '2000/04/19', 28597.0, 101382.0, 30000.0, 'Tradicional',\n",
       "       5.0, 1450.0, 209.0, 2.0, 7.0, 54.0, 39.0, 6.0, 39.0, 'Allos'],\n",
       "      dtype=object)"
      ]
     },
     "metadata": {},
     "output_type": "display_data"
    },
    {
     "data": {
      "text/plain": [
       "array(['São Luís Shopping Center', 'Jaracati', 'São Luís', 'MA',\n",
       "       'NORDESTE', '1999/11/20', 55319.39, 87449.41, 149700.0,\n",
       "       'Tradicional', 2.0, 2400.0, 244.0, 7.0, 10.0, 25.0, 50.0, 20.0,\n",
       "       50.0, 'Ad Shopping'], dtype=object)"
      ]
     },
     "metadata": {},
     "output_type": "display_data"
    },
    {
     "data": {
      "text/plain": [
       "array(['Terraço Shopping', 'Octogonal', 'Brasília', 'DF', 'CENTRO-OESTE',\n",
       "       '1999/11/10', 16562.43, 70314.0, 24860.0, 'Especializado', 3.0,\n",
       "       970.0, 164.0, 2.0, 5.0, 30.0, 40.0, 20.0, 40.0, 'Paulo Octavio'],\n",
       "      dtype=object)"
      ]
     },
     "metadata": {},
     "output_type": "display_data"
    },
    {
     "data": {
      "text/plain": [
       "array(['Praia Shopping', 'Capim Macio', 'Natal', 'RN', 'NORDESTE',\n",
       "       '1997/06/10', 9722.0, 13890.46, 10483.2, 'Especializado', 3.0,\n",
       "       498.0, 108.0, 2.0, 7.0, 5.0, 35.0, 45.0, 35.0, 'Própria'],\n",
       "      dtype=object)"
      ]
     },
     "metadata": {},
     "output_type": "display_data"
    },
    {
     "data": {
      "text/plain": [
       "array(['Niteroishopping', 'Centro', 'NITERÓI', 'RJ', 'SUDESTE',\n",
       "       '1985/11/06', 4460.0, '', '', 'Tradicional', 1.0, 796.0, 162.0, '',\n",
       "       '', 25.0, 25.0, 25.0, 25.0,\n",
       "       'Perla Administração Empreendimentos E Participações'],\n",
       "      dtype=object)"
      ]
     },
     "metadata": {},
     "output_type": "display_data"
    },
    {
     "data": {
      "text/plain": [
       "array(['Colinas Shopping', 'jd Colinas', 'São José dos Campos', 'SP',\n",
       "       'SUDESTE', '1997/05/07', 32530.2, 42379.56, 80858.0, 'Tradicional',\n",
       "       '', 1400.0, 148.0, '', 8.0, '', '', '', '', 'Própria'],\n",
       "      dtype=object)"
      ]
     },
     "metadata": {},
     "output_type": "display_data"
    },
    {
     "data": {
      "text/plain": [
       "array(['Montes Claros Shopping', 'Cidade Nova', 'Montes Claros', 'MG',\n",
       "       'SUDESTE', '1997/11/08', 46126.03, 75597.41, 148803.0,\n",
       "       'Tradicional', 2.0, 1514.0, 149.0, 15.0, 5.0, 8.0, 53.0, 35.0,\n",
       "       53.0, 'Allos'], dtype=object)"
      ]
     },
     "metadata": {},
     "output_type": "display_data"
    },
    {
     "data": {
      "text/plain": [
       "array(['Pátio Brasil Shopping', 'ASA SUL', 'Brasília', 'DF',\n",
       "       'CENTRO-OESTE', '1997/10/27', 27010.0, 6500.0, 8000.0,\n",
       "       'Tradicional', 5.0, 1600.0, 200.0, 7.0, 5.0, 17.0, 35.0, 35.0,\n",
       "       35.0, 'Enashopp'], dtype=object)"
      ]
     },
     "metadata": {},
     "output_type": "display_data"
    },
    {
     "data": {
      "text/plain": [
       "array(['Shopping Metrô Tatuapé', 'Tatuapé', 'São Paulo', 'SP', 'SUDESTE',\n",
       "       '1997/10/27', 33408.0, 121339.0, 32128.0, 'Tradicional', 4.0,\n",
       "       2040.0, 275.0, 3.0, 8.0, 20.0, 57.0, 22.0, 57.0, 'Ad Shopping'],\n",
       "      dtype=object)"
      ]
     },
     "metadata": {},
     "output_type": "display_data"
    },
    {
     "data": {
      "text/plain": [
       "array(['Canoas Shopping', 'Centro', 'Canoas', 'RS', 'SUL', '1998/04/29',\n",
       "       37464.11, 82549.3, 64690.31, 'Tradicional', 2.0, 1394.0, 190.0,\n",
       "       9.0, 7.0, '', 30.0, 50.0, 30.0, 'Lumine'], dtype=object)"
      ]
     },
     "metadata": {},
     "output_type": "display_data"
    },
    {
     "data": {
      "text/plain": [
       "array(['Shopping Del Paseo', 'Aldeota', 'Fortaleza', 'CE', 'NORDESTE',\n",
       "       '2000/12/06', 10802.0, 36176.0, 10000.0, 'Tradicional', 3.0, 524.0,\n",
       "       112.0, 1.0, 2.0, 20.0, 50.0, 25.0, 50.0,\n",
       "       'Sdp Administradora De Imóveis'], dtype=object)"
      ]
     },
     "metadata": {},
     "output_type": "display_data"
    },
    {
     "data": {
      "text/plain": [
       "array(['Shopping Center Iguatemi São Carlos', 'Parque Fáber',\n",
       "       'São Carlos', 'SP', 'SUDESTE', '1997/09/29', 22334.0, '', '',\n",
       "       'Tradicional', 1.0, 1034.0, 90.0, '', 3.0, 10.0, 70.0, 20.0, 70.0,\n",
       "       'Iguatemi Empresa de Shopping Centers'], dtype=object)"
      ]
     },
     "metadata": {},
     "output_type": "display_data"
    },
    {
     "data": {
      "text/plain": [
       "array(['Market Place Shopping Center', 'Vila Cordeiro', 'São Paulo', 'SP',\n",
       "       'SUDESTE', '1995/09/29', 26553.0, '', '', 'Tradicional', 3.0,\n",
       "       2000.0, 146.0, '', 8.0, 20.0, 80.0, '', 80.0,\n",
       "       'Iguatemi Empresa de Shopping Centers'], dtype=object)"
      ]
     },
     "metadata": {},
     "output_type": "display_data"
    },
    {
     "data": {
      "text/plain": [
       "array(['Grand Plaza Shopping', 'Jardim', 'Santo André', 'SP', 'SUDESTE',\n",
       "       '1997/09/23', 72000.0, 72000.0, 146529.75, 'Tradicional', 3.0,\n",
       "       2757.0, 340.0, 9.0, 9.0, 17.0, 63.0, 20.0, 63.0, 'SYN'],\n",
       "      dtype=object)"
      ]
     },
     "metadata": {},
     "output_type": "display_data"
    },
    {
     "data": {
      "text/plain": [
       "array(['Galleria Shopping', 'Jardim Nilópolis', 'Campinas', 'SP',\n",
       "       'SUDESTE', '1992/10/09', 33141.0, '', '', 'Especializado', 3.0,\n",
       "       1400.0, 178.0, '', 5.0, 15.0, 60.0, 22.0, 60.0,\n",
       "       'Iguatemi Empresa de Shopping Centers'], dtype=object)"
      ]
     },
     "metadata": {},
     "output_type": "display_data"
    },
    {
     "data": {
      "text/plain": [
       "array(['Shopping Boulevard', 'Vila Isabel', 'Rio de Janeiro', 'RJ',\n",
       "       'SUDESTE', '1996/09/29', 26571.0, 82821.78, 19033.37,\n",
       "       'Tradicional', 5.0, 1217.0, 170.0, '', '', 1.0, 52.0, 42.0, 52.0,\n",
       "       'Ancar Ivanhoe'], dtype=object)"
      ]
     },
     "metadata": {},
     "output_type": "display_data"
    },
    {
     "data": {
      "text/plain": [
       "array(['Litoral Plaza Shopping', 'Xixová', 'Praia Grande', 'SP',\n",
       "       'SUDESTE', '1998/12/15', 85000.0, 170000.0, 290000.0,\n",
       "       'Tradicional', 2.0, 3800.0, 310.0, 22.0, 6.0, 6.0, 57.0, 35.0,\n",
       "       57.0, 'Própria'], dtype=object)"
      ]
     },
     "metadata": {},
     "output_type": "display_data"
    },
    {
     "data": {
      "text/plain": [
       "array(['Partage Shopping Campina Grande', 'CATOLÉ', 'Campina Grande',\n",
       "       'PB', 'NORDESTE', '1999/04/29', 39695.14, 82040.0, 47104.5,\n",
       "       'Tradicional', 4.0, 780.0, 180.0, 6.0, 5.0, 8.0, 46.0, 40.0, 46.0,\n",
       "       'Partage Shopping'], dtype=object)"
      ]
     },
     "metadata": {},
     "output_type": "display_data"
    },
    {
     "data": {
      "text/plain": [
       "array(['Internacional Shopping', 'Itapegica', 'Guarulhos', 'SP',\n",
       "       'SUDESTE', '1998/11/12', 76349.58, 115299.84, 120868.15,\n",
       "       'Tradicional', 2.0, 2500.0, 390.0, 17.0, 15.0, 10.0, 20.0, 34.0,\n",
       "       20.0, 'Gazit Brasil'], dtype=object)"
      ]
     },
     "metadata": {},
     "output_type": "display_data"
    },
    {
     "data": {
      "text/plain": [
       "array(['Shopping Pátio Higienópolis', 'Higienópolis', 'São Paulo', 'SP',\n",
       "       'SUDESTE', '1999/10/18', 33490.0, '', '', 'Tradicional', 6.0,\n",
       "       1425.0, 290.0, '', '', 51.0, 22.0, 21.0, 22.0,\n",
       "       'Iguatemi Empresa de Shopping Centers'], dtype=object)"
      ]
     },
     "metadata": {},
     "output_type": "display_data"
    },
    {
     "data": {
      "text/plain": [
       "array(['Shopping Jardins', 'Jardins', 'Aracaju', 'SE', 'NORDESTE',\n",
       "       '1997/11/20', 49455.0, 61965.0, 132600.0, 'Tradicional', 1.0,\n",
       "       1932.0, 197.0, 9.0, 9.0, 35.0, 31.0, 22.0, 31.0, 'JCPM'],\n",
       "      dtype=object)"
      ]
     },
     "metadata": {},
     "output_type": "display_data"
    },
    {
     "data": {
      "text/plain": [
       "array(['Via Direta Shopping Center', 'Lagoa Nova', 'Natal', 'RN',\n",
       "       'NORDESTE', '1995/12/05', 8628.0, 14000.0, 35638.0, 'Tradicional',\n",
       "       1.0, 604.0, 125.0, 1.0, '', 10.0, 20.0, 40.0, 20.0, 'Própria'],\n",
       "      dtype=object)"
      ]
     },
     "metadata": {},
     "output_type": "display_data"
    },
    {
     "data": {
      "text/plain": [
       "array(['Botafogo Praia Shopping', 'Botafogo', 'Rio de Janeiro', 'RJ',\n",
       "       'SUDESTE', '1999/11/23', 16310.75, 58079.15, 5703.21,\n",
       "       'Tradicional', 9.0, 520.0, 143.0, 2.0, 6.0, 4.0, 57.0, 38.0, 57.0,\n",
       "       'Ancar Ivanhoe'], dtype=object)"
      ]
     },
     "metadata": {},
     "output_type": "display_data"
    },
    {
     "data": {
      "text/plain": [
       "array(['Passeio Shopping', 'Campo Grande', 'Rio de Janeiro', 'RJ',\n",
       "       'SUDESTE', '2000/11/17', 7653.43, 18239.63, 5293.49, 'Tradicional',\n",
       "       2.0, 270.0, 50.0, 2.0, '', '', 85.0, 15.0, 85.0, 'Allos'],\n",
       "      dtype=object)"
      ]
     },
     "metadata": {},
     "output_type": "display_data"
    },
    {
     "data": {
      "text/plain": [
       "array(['Plaza Shopping Casa Forte', 'Parnamirim', 'Recife', 'PE',\n",
       "       'NORDESTE', '1998/09/26', 15768.15, 27199.89, 10160.22,\n",
       "       'Tradicional', 5.0, 876.0, 153.0, 3.0, 5.0, 17.0, 45.0, 38.0, 45.0,\n",
       "       'Tmall - Gestão De Empreendimentos'], dtype=object)"
      ]
     },
     "metadata": {},
     "output_type": "display_data"
    },
    {
     "data": {
      "text/plain": [
       "array(['Casapark Shopping Center', 'GUARÁ', 'Brasília', 'DF',\n",
       "       'CENTRO-OESTE', '2000/08/03', 24000.0, 44000.0, 30000.0,\n",
       "       'Especializado', 2.0, 730.0, 81.0, 5.0, 9.0, 40.0, 40.0, 20.0,\n",
       "       40.0, 'Própria'], dtype=object)"
      ]
     },
     "metadata": {},
     "output_type": "display_data"
    },
    {
     "data": {
      "text/plain": [
       "array(['Boulevard Shopping Feira De Santana', 'CASEB', 'Feira de Santana',\n",
       "       'BA', 'NORDESTE', '1999/04/23', 19996.0, 30225.0, 85885.8,\n",
       "       'Tradicional', 1.0, 1464.0, 148.0, 6.0, 4.0, 9.0, 43.0, 43.0, 43.0,\n",
       "       'Allos'], dtype=object)"
      ]
     },
     "metadata": {},
     "output_type": "display_data"
    },
    {
     "data": {
      "text/plain": [
       "array(['Shopping Jequitibá', 'GÓES CALMON', 'Itabuna', 'BA', 'NORDESTE',\n",
       "       '2000/05/05', 22760.08, 31299.09, 30098.04, 'Tradicional', 2.0,\n",
       "       517.0, 141.0, 7.0, 4.0, 10.0, 10.0, 45.0, 10.0,\n",
       "       'JPS ADMINISTRAÇÃO E COMERCIO LTDA'], dtype=object)"
      ]
     },
     "metadata": {},
     "output_type": "display_data"
    },
    {
     "data": {
      "text/plain": [
       "array(['Center Shopping', 'Tanque', 'Rio de Janeiro', 'RJ', 'SUDESTE',\n",
       "       '2001/04/26', 17191.13, 44000.0, 8532.6, 'Tradicional', 3.0, 665.0,\n",
       "       157.0, 3.0, 4.0, 13.0, 63.0, 12.0, 63.0,\n",
       "       'Argo Desenvolvimento e Gestão'], dtype=object)"
      ]
     },
     "metadata": {},
     "output_type": "display_data"
    },
    {
     "data": {
      "text/plain": [
       "array(['Taguatinga Shopping', 'Águas Claras', 'Brasília', 'DF',\n",
       "       'CENTRO-OESTE', '2000/11/16', 40175.21, 137219.38, 44162.19,\n",
       "       'Tradicional', 4.0, 2538.0, 206.0, 6.0, 9.0, '', '', '', '',\n",
       "       'Paulo Octavio'], dtype=object)"
      ]
     },
     "metadata": {},
     "output_type": "display_data"
    },
    {
     "data": {
      "text/plain": [
       "array(['Penha Shopping', 'Penha', 'Rio de Janeiro', 'RJ', 'SUDESTE',\n",
       "       '1999/06/20', 29620.0, '', '', 'Tradicional', '', '', '', '', '',\n",
       "       '', '', '', '', 'Própria'], dtype=object)"
      ]
     },
     "metadata": {},
     "output_type": "display_data"
    },
    {
     "data": {
      "text/plain": [
       "array(['Plaza Shopping Itu', 'Jardim Paraíso', 'Itu', 'SP', 'SUDESTE',\n",
       "       '2000/04/27', 30560.0, 42827.0, 96276.0, 'Especializado', 1.0,\n",
       "       1200.0, 120.0, 6.0, 3.0, 18.0, 37.0, 28.0, 37.0, 'Lumine'],\n",
       "      dtype=object)"
      ]
     },
     "metadata": {},
     "output_type": "display_data"
    },
    {
     "data": {
      "text/plain": [
       "array(['Rio Design Barra', 'Barra da Tijuca', 'Rio de Janeiro', 'RJ',\n",
       "       'SUDESTE', '2000/09/28', 20015.3, 49447.4, 29954.6, 'Tradicional',\n",
       "       4.0, 870.0, 149.0, '', '', 47.0, 49.0, 4.0, 49.0, 'Ancar Ivanhoe'],\n",
       "      dtype=object)"
      ]
     },
     "metadata": {},
     "output_type": "display_data"
    },
    {
     "data": {
      "text/plain": [
       "array(['Shopping Metrô Santa Cruz', 'Vila Mariana', 'São Paulo', 'SP',\n",
       "       'SUDESTE', '2001/11/19', 18151.81, 53201.0, 7916.0, 'Tradicional',\n",
       "       5.0, 925.0, 145.0, 3.0, '', 18.0, 58.0, 22.0, 58.0, 'Allos'],\n",
       "      dtype=object)"
      ]
     },
     "metadata": {},
     "output_type": "display_data"
    },
    {
     "data": {
      "text/plain": [
       "array(['Bella Città Shopping Center', 'Centro', 'Passo Fundo', 'RS',\n",
       "       'SUL', '1998/11/05', 15000.0, 50000.0, 7500.0, 'Tradicional', 5.0,\n",
       "       640.0, 115.0, 3.0, 2.0, 15.0, 45.0, 35.0, 45.0,\n",
       "       'Sbc Administração E Participações'], dtype=object)"
      ]
     },
     "metadata": {},
     "output_type": "display_data"
    },
    {
     "data": {
      "text/plain": [
       "array(['Shopping Tijuca', 'Tijuca', 'Rio de Janeiro', 'RJ', 'SUDESTE',\n",
       "       '1996/11/27', 35829.3, 114272.83, 13449.0, 'Tradicional', 5.0,\n",
       "       1080.0, 270.0, 8.0, 6.0, 21.0, 50.0, 26.0, 50.0, 'Allos'],\n",
       "      dtype=object)"
      ]
     },
     "metadata": {},
     "output_type": "display_data"
    },
    {
     "data": {
      "text/plain": [
       "array(['Carioca Shopping', 'Vila da Penha', 'Rio de Janeiro', 'RJ',\n",
       "       'SUDESTE', '2001/05/08', 33206.74, 133529.0, 56632.97,\n",
       "       'Tradicional', 2.0, 1349.0, 206.0, 10.0, 6.0, 13.0, 60.0, 25.0,\n",
       "       60.0, 'Allos'], dtype=object)"
      ]
     },
     "metadata": {},
     "output_type": "display_data"
    },
    {
     "data": {
      "text/plain": [
       "array(['Center Shopping Uberlândia', 'Tibery', 'Uberlândia', 'MG',\n",
       "       'SUDESTE', '1992/04/28', 56576.2, 59386.87, 94230.87,\n",
       "       'Tradicional', 4.0, 3200.0, 272.0, 14.0, 10.0, 19.0, 50.0, 31.0,\n",
       "       50.0, 'Allos'], dtype=object)"
      ]
     },
     "metadata": {},
     "output_type": "display_data"
    },
    {
     "data": {
      "text/plain": [
       "array(['Santa Maria Shopping', 'Santa Maria', 'Brasília', 'DF',\n",
       "       'CENTRO-OESTE', '2009/11/20', 16340.0, '', '', 'Tradicional', '',\n",
       "       '', '', '', 6.0, '', '', '', '', 'Própria'], dtype=object)"
      ]
     },
     "metadata": {},
     "output_type": "display_data"
    },
    {
     "data": {
      "text/plain": [
       "array(['Shopping Frei Caneca', 'Consolação', 'São Paulo', 'SP', 'SUDESTE',\n",
       "       '2001/05/08', 23348.0, 91122.87, 10103.45, 'Tradicional', 5.0,\n",
       "       1200.0, 144.0, 2.0, 9.0, '', '', '', '', 'Ad Shopping'],\n",
       "      dtype=object)"
      ]
     },
     "metadata": {},
     "output_type": "display_data"
    },
    {
     "data": {
      "text/plain": [
       "array(['Shopping Boa Vista', 'Boa Vista', 'Recife', 'PE', 'NORDESTE',\n",
       "       '1998/08/07', 23338.0, 57668.0, 8887.0, 'Tradicional', 4.0, 1500.0,\n",
       "       221.0, 7.0, 6.0, 8.0, 16.0, 51.0, 16.0, 'Grupo Cm'], dtype=object)"
      ]
     },
     "metadata": {},
     "output_type": "display_data"
    },
    {
     "data": {
      "text/plain": [
       "array(['Caruaru Shopping', 'Indianopolis', 'Caruaru', 'PE', 'NORDESTE',\n",
       "       '1997/06/02', 60000.0, 109000.0, 120000.0, 'Tradicional', 3.0,\n",
       "       3300.0, 288.0, 15.0, 4.0, 18.0, 44.0, 31.0, 44.0,\n",
       "       'WA Empreendimentos Imobiliários Ltda'], dtype=object)"
      ]
     },
     "metadata": {},
     "output_type": "display_data"
    },
    {
     "data": {
      "text/plain": [
       "array(['SHOPPING ANÁLIA FRANCO', 'REGENTE FEIJÓ', 'São Paulo', 'SP',\n",
       "       'SUDESTE', '1999/11/09', 51590.26, '', '', 'Tradicional', 4.0,\n",
       "       4106.0, 403.0, 7.0, 9.0, 29.0, 54.0, 17.0, 54.0, 'Multiplan'],\n",
       "      dtype=object)"
      ]
     },
     "metadata": {},
     "output_type": "display_data"
    },
    {
     "data": {
      "text/plain": [
       "array(['Araguaia Shopping', 'Centro', 'Goiânia', 'GO', 'CENTRO-OESTE',\n",
       "       '2001/07/05', 21073.83, 40278.14, 89263.56, 'Tradicional', 4.0,\n",
       "       1726.0, 118.0, 4.0, '', 5.0, 48.0, 43.0, 48.0,\n",
       "       'Grupo Maia E Borba'], dtype=object)"
      ]
     },
     "metadata": {},
     "output_type": "display_data"
    },
    {
     "data": {
      "text/plain": [
       "array(['Shopping Pátio Paulista', 'Bela Vista', 'São Paulo', 'SP',\n",
       "       'SUDESTE', '1989/11/13', 38148.8, 108397.8, 13411.75,\n",
       "       'Tradicional', 7.0, 1683.0, 297.0, 6.0, 7.0, 30.0, 60.0, 10.0,\n",
       "       60.0, 'Ancar Ivanhoe'], dtype=object)"
      ]
     },
     "metadata": {},
     "output_type": "display_data"
    },
    {
     "data": {
      "text/plain": [
       "array(['Shopping West Plaza', 'Água Branca', 'São Paulo', 'SP', 'SUDESTE',\n",
       "       '1991/05/02', 36780.27, 119436.12, 18838.37, 'Tradicional', 4.0,\n",
       "       1995.0, 179.0, 8.0, 7.0, 30.0, 54.0, 15.0, 54.0,\n",
       "       'Lumine Soluções em Shoppings Centers'], dtype=object)"
      ]
     },
     "metadata": {},
     "output_type": "display_data"
    },
    {
     "data": {
      "text/plain": [
       "array(['Parque D. Pedro Shopping', 'Santa Genebra', 'Campinas', 'SP',\n",
       "       'SUDESTE', '2002/03/19', 127300.0, 187958.22, 461200.0,\n",
       "       'Tradicional', 1.0, 8000.0, 385.0, 25.0, 15.0, 25.0, 65.0, 8.0,\n",
       "       65.0, 'Allos'], dtype=object)"
      ]
     },
     "metadata": {},
     "output_type": "display_data"
    },
    {
     "data": {
      "text/plain": [
       "array(['Caxias Shopping', 'Parque Duque', 'Duque de Caxias', 'RJ',\n",
       "       'SUDESTE', '2008/11/11', 28191.0, 44526.22, 90246.82,\n",
       "       'Tradicional', 3.0, 1197.0, 116.0, 6.0, 8.0, 12.0, 51.0, 33.0,\n",
       "       51.0, 'Allos'], dtype=object)"
      ]
     },
     "metadata": {},
     "output_type": "display_data"
    },
    {
     "data": {
      "text/plain": [
       "array(['Moinhos Shopping', 'Moinhos de Vento', 'Porto Alegre', 'RS',\n",
       "       'SUL', '2000/05/09', 8639.0, 33832.0, 7422.0, 'Tradicional', 4.0,\n",
       "       427.0, 94.0, 2.0, 4.0, 52.0, 40.0, 7.0, 40.0,\n",
       "       'Airaz Administradora'], dtype=object)"
      ]
     },
     "metadata": {},
     "output_type": "display_data"
    },
    {
     "data": {
      "text/plain": [
       "array(['Shopping Benfica', 'Benfica', 'Fortaleza', 'CE', 'NORDESTE',\n",
       "       '1999/10/30', 9424.0, 13056.0, 29284.0, 'Tradicional', '', 3600.0,\n",
       "       163.0, '', 4.0, '', '', '', '', 'Própria'], dtype=object)"
      ]
     },
     "metadata": {},
     "output_type": "display_data"
    },
    {
     "data": {
      "text/plain": [
       "array(['Shopping Estação', 'Rebouças', 'Curitiba', 'PR', 'SUL',\n",
       "       '1997/11/17', 27576.82, 130329.82, 32748.53, 'Tradicional', 2.0,\n",
       "       1264.0, 145.0, 4.0, 10.0, 10.0, 20.0, 50.0, 20.0, 'Allos'],\n",
       "      dtype=object)"
      ]
     },
     "metadata": {},
     "output_type": "display_data"
    },
    {
     "data": {
      "text/plain": [
       "array(['Shopping Centronorte', 'Centro', 'Apucarana', 'PR', 'SUL',\n",
       "       '1999/12/03', 5544.07, 14095.61, 6628.52, 'Tradicional', 4.0,\n",
       "       260.0, 62.0, 1.0, 2.0, 5.0, 15.0, 50.0, 15.0,\n",
       "       'Empreendimentos Imobiliários E Comerciais Arco Iris'],\n",
       "      dtype=object)"
      ]
     },
     "metadata": {},
     "output_type": "display_data"
    },
    {
     "data": {
      "text/plain": [
       "array(['Shopping Sp Market', 'Jurubatuba', 'São Paulo', 'SP', 'SUDESTE',\n",
       "       '1994/09/20', 75298.49, 182729.71, 163995.17, 'Tradicional', 1.0,\n",
       "       3054.0, 254.0, 12.0, 11.0, '', '', '', '', 'Própria'], dtype=object)"
      ]
     },
     "metadata": {},
     "output_type": "display_data"
    },
    {
     "data": {
      "text/plain": [
       "array(['Shopping Center Piedade', 'Barris', 'Salvador', 'BA', 'NORDESTE',\n",
       "       '1985/11/20', 20365.0, 43878.0, 13581.0, 'Tradicional', 4.0, 453.0,\n",
       "       148.0, 4.0, '', 3.0, 47.0, 46.0, 47.0, 'Enashopp'], dtype=object)"
      ]
     },
     "metadata": {},
     "output_type": "display_data"
    },
    {
     "data": {
      "text/plain": [
       "array(['DiamondMall', 'Lourdes', 'Belo Horizonte', 'MG', 'SUDESTE',\n",
       "       '1996/11/06', 21351.0, 74304.28, 13352.0, 'Tradicional', 3.0,\n",
       "       1289.0, 171.0, 2.0, 6.0, 40.0, 46.0, 14.0, 46.0, 'Multiplan'],\n",
       "      dtype=object)"
      ]
     },
     "metadata": {},
     "output_type": "display_data"
    },
    {
     "data": {
      "text/plain": [
       "array(['PARKSHOPPINGBARIGUI', 'MOSSUNGUÊ', 'Curitiba', 'PR', 'SUL',\n",
       "       '2003/11/12', 52296.0, 154542.0, 134654.0, 'Tradicional', 3.0,\n",
       "       3015.0, 320.0, 13.0, 8.0, '', '', '', '', 'Multiplan'],\n",
       "      dtype=object)"
      ]
     },
     "metadata": {},
     "output_type": "display_data"
    },
    {
     "data": {
      "text/plain": [
       "array(['Floripa Shopping', 'Saco Grande', 'Florianópolis', 'SC', 'SUL',\n",
       "       '2006/11/09', 49486.73, 93942.4, 27925.95, 'Tradicional', 3.0,\n",
       "       1300.0, 138.0, 8.0, 7.0, 10.0, 30.0, 40.0, 30.0, 'Própria'],\n",
       "      dtype=object)"
      ]
     },
     "metadata": {},
     "output_type": "display_data"
    },
    {
     "data": {
      "text/plain": [
       "array(['Prataviera Shopping', 'Centro', 'Caxias do Sul', 'RS', 'SUL',\n",
       "       '1993/06/29', 4453.9, 16240.7, 1804.0, 'Tradicional', 4.0, 72.0,\n",
       "       57.0, 1.0, '', '', 5.0, 40.0, 5.0, 'Própria'], dtype=object)"
      ]
     },
     "metadata": {},
     "output_type": "display_data"
    },
    {
     "data": {
      "text/plain": [
       "array(['Novo Shopping Center Ribeirão Preto', 'Riberania',\n",
       "       'Ribeirão Preto', 'SP', 'SUDESTE', '1999/11/11', 126489.0,\n",
       "       157000.0, 440000.0, 'Tradicional', 2.0, 5500.0, 280.0, '', '', '',\n",
       "       '', '', '', 'Savoy'], dtype=object)"
      ]
     },
     "metadata": {},
     "output_type": "display_data"
    },
    {
     "data": {
      "text/plain": [
       "array(['Shopping Pátio Savassi', 'São Pedro', 'Belo Horizonte', 'MG',\n",
       "       'SUDESTE', '2004/05/25', 21107.56, 79005.31, 18354.29,\n",
       "       'Especializado', 5.0, 1218.0, 136.0, 4.0, 8.0, '', '', '', '',\n",
       "       'Multiplan'], dtype=object)"
      ]
     },
     "metadata": {},
     "output_type": "display_data"
    },
    {
     "data": {
      "text/plain": [
       "array(['Leopoldina Shopping', 'Penha', 'Rio de Janeiro', 'RJ', 'SUDESTE',\n",
       "       '2000/12/01', 6500.0, 9619.89, 3688.13, 'Tradicional', 5.0, '',\n",
       "       35.0, 2.0, '', '', '', '', '', 'Própria'], dtype=object)"
      ]
     },
     "metadata": {},
     "output_type": "display_data"
    },
    {
     "data": {
      "text/plain": [
       "array(['Shopping Total', 'Floresta', 'Porto Alegre', 'RS', 'SUL',\n",
       "       '2003/05/29', 31980.0, 73164.0, 55039.0, 'Tradicional', 5.0,\n",
       "       1397.0, 481.0, 8.0, 5.0, 14.0, 50.0, 34.0, 50.0, 'Portoshop S.A.'],\n",
       "      dtype=object)"
      ]
     },
     "metadata": {},
     "output_type": "display_data"
    },
    {
     "data": {
      "text/plain": [
       "array(['Shopping Nações Unidas', 'Brooklin', 'São Paulo', 'SP', 'SUDESTE',\n",
       "       '2000/01/12', 4950.0, 7500.0, 33000.0, 'Especializado', 1.0,\n",
       "       3600.0, 43.0, '', '', 37.0, 50.0, 13.0, 50.0,\n",
       "       'Rbcom Gestão Interativva'], dtype=object)"
      ]
     },
     "metadata": {},
     "output_type": "display_data"
    },
    {
     "data": {
      "text/plain": [
       "array(['Shopping Jaraguá Araraquara', 'Jardim dos Manacás', 'Araraquara',\n",
       "       'SP', 'SUDESTE', '2001/12/04', 22656.4, 36572.05, 111637.8,\n",
       "       'Tradicional', 2.0, 1135.0, 125.0, 7.0, 5.0, 25.0, 60.0, 15.0,\n",
       "       60.0, 'Sol Panamby'], dtype=object)"
      ]
     },
     "metadata": {},
     "output_type": "display_data"
    },
    {
     "data": {
      "text/plain": [
       "array(['Unimart Shopping Campinas', 'Chácara da República', 'Campinas',\n",
       "       'SP', 'SUDESTE', '1994/10/01', 15878.0, '', '', 'Tradicional', 2.0,\n",
       "       690.0, 118.0, '', 6.0, '', '', '', '', 'General Shopping&Outlets'],\n",
       "      dtype=object)"
      ]
     },
     "metadata": {},
     "output_type": "display_data"
    },
    {
     "data": {
      "text/plain": [
       "array(['Villa Romana Shopping', 'Santa Monica', 'Florianópolis', 'SC',\n",
       "       'SUL', '2007/04/17', 30092.94, 109000.0, 22361.94, 'Tradicional',\n",
       "       7.0, 1206.0, 196.0, 4.0, 7.0, '', '', '', '', 'Lumine'],\n",
       "      dtype=object)"
      ]
     },
     "metadata": {},
     "output_type": "display_data"
    },
    {
     "data": {
      "text/plain": [
       "array(['Salvador Shopping', 'Caminho das Árvores', 'Salvador', 'BA',\n",
       "       'NORDESTE', '2007/05/22', 89815.18, 299252.0, 89597.0,\n",
       "       'Tradicional', 5.0, 5532.0, 433.0, 15.0, 10.0, 15.0, 32.0, 35.0,\n",
       "       32.0, 'JCPM'], dtype=object)"
      ]
     },
     "metadata": {},
     "output_type": "display_data"
    },
    {
     "data": {
      "text/plain": [
       "array(['Praiamar Shopping Center', 'Aparecida', 'Santos', 'SP', 'SUDESTE',\n",
       "       '2000/04/27', 31572.0, 137000.0, '', 'Tradicional', 3.0, 2100.0,\n",
       "       189.0, 4.0, 10.0, 45.0, 40.0, 10.0, 40.0, 'Mendes'], dtype=object)"
      ]
     },
     "metadata": {},
     "output_type": "display_data"
    },
    {
     "data": {
      "text/plain": [
       "array(['Shopping Leblon', 'LEBLON', 'Rio de Janeiro', 'RJ', 'SUDESTE',\n",
       "       '2006/12/06', 26893.0, 93829.04, 16709.27, 'Tradicional', 5.0,\n",
       "       963.0, 193.0, 4.0, 4.0, 70.0, 30.0, '', 30.0, 'Allos'],\n",
       "      dtype=object)"
      ]
     },
     "metadata": {},
     "output_type": "display_data"
    },
    {
     "data": {
      "text/plain": [
       "array(['Shopping Mandacaru Boulevard', 'Vl. Santa Isabel', 'Maringá',\n",
       "       'PR', 'SUL', '2008/05/07', 9500.0, 22100.0, 44500.0, 'Tradicional',\n",
       "       2.0, 650.0, 53.0, 1.0, '', '', 20.0, 70.0, 20.0, 'Própria'],\n",
       "      dtype=object)"
      ]
     },
     "metadata": {},
     "output_type": "display_data"
    },
    {
     "data": {
      "text/plain": [
       "array(['SHOPPING CIDADE JARDIM', 'Jd. Panorama', 'São Paulo', 'SP',\n",
       "       'SUDESTE', '2008/05/28', 39011.7, 101639.68, 19242.21,\n",
       "       'Tradicional', 5.0, 1069.0, 193.0, 5.0, 7.0, 100.0, '', '', '',\n",
       "       'JHSF'], dtype=object)"
      ]
     },
     "metadata": {},
     "output_type": "display_data"
    },
    {
     "data": {
      "text/plain": [
       "array(['Shopping Valinhos', 'Jardim Paiquere', 'Valinhos', 'SP',\n",
       "       'SUDESTE', '2007/07/30', 14000.0, 28647.0, 28647.0, 'Tradicional',\n",
       "       4.0, 310.0, 77.0, 3.0, 3.0, 24.0, 59.0, 17.0, 59.0,\n",
       "       'Terral Shopping Centers'], dtype=object)"
      ]
     },
     "metadata": {},
     "output_type": "display_data"
    },
    {
     "data": {
      "text/plain": [
       "array(['Águas Claras Shopping', 'Araucárias', 'Brasília', 'DF',\n",
       "       'CENTRO-OESTE', '2005/12/01', 6556.0, 12498.8, 12626.5,\n",
       "       'Tradicional', 2.0, '', '', '', '', '', '', '', '',\n",
       "       'Operandi Desenvolvimento Organizacional'], dtype=object)"
      ]
     },
     "metadata": {},
     "output_type": "display_data"
    },
    {
     "data": {
      "text/plain": [
       "array(['Shopping Metrô Tucuruvi', 'Parada Inglesa', 'São Paulo', 'SP',\n",
       "       'SUDESTE', '2013/04/18', 32848.0, 118000.0, 44497.63,\n",
       "       'Tradicional', 5.0, 2188.0, 234.0, 7.0, 6.0, 8.0, 55.0, 23.0, 55.0,\n",
       "       'Saphyr'], dtype=object)"
      ]
     },
     "metadata": {},
     "output_type": "display_data"
    },
    {
     "data": {
      "text/plain": [
       "array(['Shopping Taboão', 'Cidade Intercap', 'Taboão da Serra', 'SP',\n",
       "       'SUDESTE', '2002/07/10', 36430.0, 118328.79, 173307.67,\n",
       "       'Tradicional', 1.0, 3115.0, 180.0, 8.0, 5.0, 11.0, 49.0, 37.0,\n",
       "       49.0, 'Allos'], dtype=object)"
      ]
     },
     "metadata": {},
     "output_type": "display_data"
    },
    {
     "data": {
      "text/plain": [
       "array(['Shopping Metrô Boulevard Tatuapé', 'Tatuapé', 'São Paulo', 'SP',\n",
       "       'SUDESTE', '2007/05/08', 19003.0, 61036.0, 14439.0, 'Tradicional',\n",
       "       4.0, 822.0, 120.0, 4.0, 5.0, 18.0, 58.0, 23.0, 58.0, 'Ad Shopping'],\n",
       "      dtype=object)"
      ]
     },
     "metadata": {},
     "output_type": "display_data"
    },
    {
     "data": {
      "text/plain": [
       "array(['São Gonçalo Shopping', 'Boa Vista', 'São Gonçalo', 'RJ',\n",
       "       'SUDESTE', '2004/03/25', 43858.71, 83429.0, 69460.0, 'Tradicional',\n",
       "       3.0, 1880.0, 120.0, 9.0, 8.0, 4.0, 32.0, 54.0, 32.0, 'NIAD'],\n",
       "      dtype=object)"
      ]
     },
     "metadata": {},
     "output_type": "display_data"
    },
    {
     "data": {
      "text/plain": [
       "array(['Shopping Center Paralela', 'Alphaville', 'Salvador', 'BA',\n",
       "       'NORDESTE', '2009/04/28', 57800.0, 138756.6, 60000.0,\n",
       "       'Tradicional', 3.0, 2128.0, 239.0, 9.0, 6.0, 40.0, 30.0, 20.0,\n",
       "       30.0, 'Saphyr'], dtype=object)"
      ]
     },
     "metadata": {},
     "output_type": "display_data"
    },
    {
     "data": {
      "text/plain": [
       "array(['Pantanal Shopping', 'Jardim Aclimação', 'Cuiabá', 'MT',\n",
       "       'CENTRO-OESTE', '2004/11/30', 45225.0, 65247.18, 110707.28,\n",
       "       'Especializado', 3.0, 1764.0, 220.0, 11.0, 8.0, 8.0, 54.0, 34.0,\n",
       "       54.0, 'Ancar Ivanhoe'], dtype=object)"
      ]
     },
     "metadata": {},
     "output_type": "display_data"
    },
    {
     "data": {
      "text/plain": [
       "array(['Balneário Shopping', 'bairro dos Estados', 'Balneário Camboriú',\n",
       "       'SC', 'SUL', '2007/10/27', 43497.0, 91917.0, 58139.0,\n",
       "       'Tradicional', 2.0, 1300.0, 260.0, 9.0, 8.0, '', '', '', '',\n",
       "       'Almeida Junior'], dtype=object)"
      ]
     },
     "metadata": {},
     "output_type": "display_data"
    },
    {
     "data": {
      "text/plain": [
       "array(['Itaúpower Shopping', 'Cidade Industrial', 'Contagem', 'MG',\n",
       "       'SUDESTE', '2003/10/30', 33588.77, 97837.41, 36446.49,\n",
       "       'Tradicional', 3.0, 1413.0, 159.0, 6.0, 6.0, '', '', '', '',\n",
       "       'Própria'], dtype=object)"
      ]
     },
     "metadata": {},
     "output_type": "display_data"
    },
    {
     "data": {
      "text/plain": [
       "array(['Shopping Metrô Itaquera', 'Itaquera', 'São Paulo', 'SP',\n",
       "       'SUDESTE', '2007/11/07', 69278.0, 179283.04, 119329.99,\n",
       "       'Tradicional', 3.0, 2726.0, 277.0, 10.0, 9.0, 14.0, 52.0, 33.0,\n",
       "       52.0, 'Ancar Ivanhoe'], dtype=object)"
      ]
     },
     "metadata": {},
     "output_type": "display_data"
    },
    {
     "data": {
      "text/plain": [
       "array(['Goiabeiras Shopping Center', 'Duque de Caxias', 'Cuiabá', 'MT',\n",
       "       'CENTRO-OESTE', '1989/06/27', 25818.22, 75783.05, 15536.55,\n",
       "       'Tradicional', 5.0, 1088.0, 193.0, 1.0, 7.0, 30.0, 40.0, 25.0,\n",
       "       40.0, 'Soul Malls'], dtype=object)"
      ]
     },
     "metadata": {},
     "output_type": "display_data"
    },
    {
     "data": {
      "text/plain": [
       "array(['Porto Velho Shopping', 'Flodoaldo Pontes Pinto', 'Porto Velho',\n",
       "       'RO', 'NORTE', '2008/10/30', 43652.28, 98000.0, 138000.0,\n",
       "       'Tradicional', 3.0, 2300.0, 213.0, 9.0, 6.0, 16.0, 51.0, 29.0,\n",
       "       51.0, 'Ancar Ivanhoe'], dtype=object)"
      ]
     },
     "metadata": {},
     "output_type": "display_data"
    },
    {
     "data": {
      "text/plain": [
       "array(['Shopping Plaza Macaé', 'Granja Dos Cavaleiros', 'Macaé', 'RJ',\n",
       "       'SUDESTE', '2008/09/11', 25000.0, 36000.0, 60000.0, 'Tradicional',\n",
       "       2.0, 1000.0, 95.0, 6.0, 5.0, 15.0, 66.0, 19.0, 66.0, 'Soul Malls'],\n",
       "      dtype=object)"
      ]
     },
     "metadata": {},
     "output_type": "display_data"
    },
    {
     "data": {
      "text/plain": [
       "array(['Plaza Avenida Shopping', 'Jardim Redentor',\n",
       "       'São José do Rio Preto', 'SP', 'SUDESTE', '2007/11/07', 38494.64,\n",
       "       38462.0, 62900.0, 'Tradicional', 3.0, 1800.0, 220.0, '', 7.0, '',\n",
       "       '', '', '', 'Própria'], dtype=object)"
      ]
     },
     "metadata": {},
     "output_type": "display_data"
    },
    {
     "data": {
      "text/plain": [
       "array(['Viashopping Barreiro', 'Barreiro', 'Belo Horizonte', 'MG',\n",
       "       'SUDESTE', '2003/05/05', 82262.0, 169116.0, 57167.0, 'Tradicional',\n",
       "       7.0, 1060.0, 172.0, 14.0, 5.0, 1.0, 23.0, 51.0, 23.0, 'Própria'],\n",
       "      dtype=object)"
      ]
     },
     "metadata": {},
     "output_type": "display_data"
    },
    {
     "data": {
      "text/plain": [
       "array(['SuperShopping Osasco', 'Vl. Yara', 'Osasco', 'SP', 'SUDESTE',\n",
       "       '2005/10/27', 17984.0, 60000.0, 133299.0, 'Tradicional', 4.0,\n",
       "       2839.0, 138.0, '', 7.0, '', '', '', '', 'Saphyr'], dtype=object)"
      ]
     },
     "metadata": {},
     "output_type": "display_data"
    },
    {
     "data": {
      "text/plain": [
       "array(['Independência Shopping', 'Cascatinha', 'Juiz de Fora', 'MG',\n",
       "       'SUDESTE', '2008/04/22', 24441.33, 84202.1, 32315.18,\n",
       "       'Tradicional', 2.0, 1115.0, 149.0, 5.0, 5.0, 32.0, 52.0, 15.0,\n",
       "       52.0, 'Allos'], dtype=object)"
      ]
     },
     "metadata": {},
     "output_type": "display_data"
    },
    {
     "data": {
      "text/plain": [
       "array(['Capim Dourado Shopping', 'Plano Diretor Norte   77001-098',\n",
       "       'Palmas', 'TO', 'NORTE', '2010/08/17', 39179.84, 72097.97,\n",
       "       93203.47, 'Tradicional', 2.0, 1187.0, 146.0, 9.0, 6.0, 24.0, 58.0,\n",
       "       16.0, 58.0, 'Soul Malls'], dtype=object)"
      ]
     },
     "metadata": {},
     "output_type": "display_data"
    },
    {
     "data": {
      "text/plain": [
       "array(['Santana Parque Shopping', 'Santana', 'São Paulo', 'SP', 'SUDESTE',\n",
       "       '2007/10/25', 26583.0, 69324.82, 29452.14, 'Tradicional', 4.0,\n",
       "       2000.0, 182.0, 5.0, 8.0, 24.0, 55.0, 19.0, 55.0, 'Allos'],\n",
       "      dtype=object)"
      ]
     },
     "metadata": {},
     "output_type": "display_data"
    },
    {
     "data": {
      "text/plain": [
       "array(['Shopping Light', 'República', 'São Paulo', 'SP', 'SUDESTE',\n",
       "       '1999/11/17', 18600.0, 18600.0, 18600.0, 'Tradicional', 7.0, 230.0,\n",
       "       100.0, 5.0, '', 11.0, 52.0, 36.0, 52.0, 'Gazit Brasil'],\n",
       "      dtype=object)"
      ]
     },
     "metadata": {},
     "output_type": "display_data"
    },
    {
     "data": {
      "text/plain": [
       "array(['Suzano Shopping', 'Jardim Iraí', 'Suzano', 'SP', 'SUDESTE',\n",
       "       '2000/09/20', 24038.84, 48888.88, 50145.36, 'Tradicional', 1.0,\n",
       "       1400.0, 138.0, 7.0, 5.0, 11.0, 65.0, 23.0, 65.0, 'Hbr Realty'],\n",
       "      dtype=object)"
      ]
     },
     "metadata": {},
     "output_type": "display_data"
    },
    {
     "data": {
      "text/plain": [
       "array(['Cascavel Jl Shopping', 'Centro', 'Cascavel', 'PR', 'SUL',\n",
       "       '2004/11/10', 9113.0, '', '', 'Tradicional', 2.0, 384.0, 73.0, 2.0,\n",
       "       4.0, '', '', '', '', 'General Shopping&Outlets'], dtype=object)"
      ]
     },
     "metadata": {},
     "output_type": "display_data"
    },
    {
     "data": {
      "text/plain": [
       "array(['Top Center Shopping', 'Bela Vista', 'São Paulo', 'SP', 'SUDESTE',\n",
       "       '1975/01/01', 6595.0, 36076.0, 25830.0, 'Tradicional', 4.0, 321.0,\n",
       "       51.0, 1.0, '', 10.0, 60.0, 20.0, 60.0, 'Gazit Brasil'],\n",
       "      dtype=object)"
      ]
     },
     "metadata": {},
     "output_type": "display_data"
    },
    {
     "data": {
      "text/plain": [
       "array(['Central Plaza Shopping Center', 'Vila Prudente', 'São Paulo',\n",
       "       'SP', 'SUDESTE', '1999/09/30', 72425.0, 190908.0, 99000.0,\n",
       "       'Tradicional', 2.0, 2889.0, 208.0, 12.0, 10.0, 11.0, 58.0, 30.0,\n",
       "       58.0, 'Central Plaza Shopping'], dtype=object)"
      ]
     },
     "metadata": {},
     "output_type": "display_data"
    },
    {
     "data": {
      "text/plain": [
       "array(['Mega Polo Moda', 'Brás', 'São Paulo', 'SP', 'SUDESTE',\n",
       "       '2005/09/12', 19000.0, 63000.0, 10500.0, 'Especializado', 10.0,\n",
       "       500.0, 198.0, '', '', '', '', '', '', 'Própria'], dtype=object)"
      ]
     },
     "metadata": {},
     "output_type": "display_data"
    },
    {
     "data": {
      "text/plain": [
       "array(['Shopping Difusora', 'Maurício de Nassau', 'Caruaru', 'PE',\n",
       "       'NORDESTE', '2009/05/28', 18000.0, 50000.0, 10000.0, 'Tradicional',\n",
       "       '', '', '', '', '', '', '', '', '', 'Lvf Empreendimentos Ltda.'],\n",
       "      dtype=object)"
      ]
     },
     "metadata": {},
     "output_type": "display_data"
    },
    {
     "data": {
      "text/plain": [
       "array(['Millennium Shopping Mall', 'CHAPADA', 'Manaus', 'AM', 'NORTE',\n",
       "       '2004/12/07', 13839.0, 79306.0, 22807.0, 'Tradicional', 3.0,\n",
       "       1200.0, 100.0, 3.0, 8.0, 16.0, 38.0, 40.0, 38.0, 'Ad Shopping'],\n",
       "      dtype=object)"
      ]
     },
     "metadata": {},
     "output_type": "display_data"
    },
    {
     "data": {
      "text/plain": [
       "array(['Anchieta Garden Shopping', 'Anchieta', 'Belo Horizonte', 'MG',\n",
       "       'SUDESTE', '2010/11/30', 10385.0, 20777.58, 6039.46,\n",
       "       'Especializado', 3.0, 144.0, 63.0, 2.0, '', 48.0, 47.0, 3.0, 47.0,\n",
       "       'Tenco Shopping Centers'], dtype=object)"
      ]
     },
     "metadata": {},
     "output_type": "display_data"
    },
    {
     "data": {
      "text/plain": [
       "array(['Partage Shopping Mossoró', 'Nova Betânia', 'Mossoró', 'RN',\n",
       "       'NORDESTE', '2007/07/07', 22498.02, 33563.37, 80687.21,\n",
       "       'Tradicional', 1.0, 1245.0, 95.0, 6.0, 5.0, 16.0, 20.0, 28.0, 20.0,\n",
       "       'Partage Shopping'], dtype=object)"
      ]
     },
     "metadata": {},
     "output_type": "display_data"
    },
    {
     "data": {
      "text/plain": [
       "array(['Barrashoppingsul', 'Cristal', 'Porto Alegre', 'RS', 'SUL',\n",
       "       '2008/11/18', 72102.23, 152289.0, 187874.0, 'Tradicional', 2.0,\n",
       "       3804.0, 299.0, 13.0, 8.0, '', '', '', '', 'Multiplan'],\n",
       "      dtype=object)"
      ]
     },
     "metadata": {},
     "output_type": "display_data"
    },
    {
     "data": {
      "text/plain": [
       "array(['Shopping Bonsucesso', 'Guarulhos', 'Guarulhos', 'SP', 'SUDESTE',\n",
       "       '2006/05/04', 27852.0, '', '', 'Tradicional', 1.0, 1100.0, 133.0,\n",
       "       6.0, 6.0, '', '', '', '', 'General Shopping&Outlets'], dtype=object)"
      ]
     },
     "metadata": {},
     "output_type": "display_data"
    },
    {
     "data": {
      "text/plain": [
       "array(['Shopping Jardim das Américas', 'Jd. das Américas', 'Curitiba',\n",
       "       'PR', 'SUL', '1997/11/06', 17753.41, 42925.0, 14391.26,\n",
       "       'Tradicional', 4.0, 869.0, 195.0, 4.0, 6.0, '', '', '', '',\n",
       "       'Própria'], dtype=object)"
      ]
     },
     "metadata": {},
     "output_type": "display_data"
    },
    {
     "data": {
      "text/plain": [
       "array(['Pátio Dom Luis', 'Aldeota', 'Fortaleza', 'CE', 'NORDESTE',\n",
       "       '2010/04/07', 5000.0, 8500.0, 10000.0, 'Especializado', 2.0, 600.0,\n",
       "       61.0, '', '', '', '', '', '', 'Própria'], dtype=object)"
      ]
     },
     "metadata": {},
     "output_type": "display_data"
    },
    {
     "data": {
      "text/plain": [
       "array(['Alameda Juiz De Fora', 'Altos dos Passos', 'Juiz de Fora', 'MG',\n",
       "       'SUDESTE', '1999/12/02', 10672.42, 18857.0, 12436.54,\n",
       "       'Especializado', 5.0, 149.0, 57.0, 1.0, 5.0, 10.0, 30.0, 50.0,\n",
       "       30.0, 'Própria'], dtype=object)"
      ]
     },
     "metadata": {},
     "output_type": "display_data"
    },
    {
     "data": {
      "text/plain": [
       "array(['Shopping Praia Da Costa', 'Praia da Costa', 'Vila Velha', 'ES',\n",
       "       'SUDESTE', '2002/10/28', 39827.42, 129232.14, 28474.5,\n",
       "       'Tradicional', 5.0, 1443.0, 213.0, '', '', '', '', '', '',\n",
       "       'Sa Cavalcante'], dtype=object)"
      ]
     },
     "metadata": {},
     "output_type": "display_data"
    },
    {
     "data": {
      "text/plain": [
       "array(['Shopping Jequiti', 'Praia de Pernambuco', 'Guarujá', 'SP',\n",
       "       'SUDESTE', '2006/12/08', 5544.19, 84280.77, 56482.84,\n",
       "       'Especializado', 2.0, 503.0, 51.0, 1.0, '', 50.0, 30.0, 20.0, 30.0,\n",
       "       'Própria'], dtype=object)"
      ]
     },
     "metadata": {},
     "output_type": "display_data"
    },
    {
     "data": {
      "text/plain": [
       "array(['Via Sul Shopping', 'Sapiranga', 'Fortaleza', 'CE', 'NORDESTE',\n",
       "       '2008/12/01', 26003.0, 42456.0, 16720.0, 'Tradicional', 6.0,\n",
       "       1076.0, 120.0, 6.0, 6.0, 12.0, 36.0, 41.0, 36.0, 'Ancar Ivanhoe'],\n",
       "      dtype=object)"
      ]
     },
     "metadata": {},
     "output_type": "display_data"
    },
    {
     "data": {
      "text/plain": [
       "array(['Anashopping', 'Vila Santa Isabel', 'Anápolis', 'GO',\n",
       "       'CENTRO-OESTE', '1995/06/16', 29547.0, 35068.96, 50000.0,\n",
       "       'Tradicional', 2.0, 823.0, 84.0, 4.0, 4.0, '', 30.0, 50.0, 30.0,\n",
       "       'Própria'], dtype=object)"
      ]
     },
     "metadata": {},
     "output_type": "display_data"
    },
    {
     "data": {
      "text/plain": [
       "array(['Bangu Shopping', 'Bangu', 'Rio de Janeiro', 'RJ', 'SUDESTE',\n",
       "       '2007/10/30', 57982.11, 79555.81, 137755.83, 'Tradicional', 3.0,\n",
       "       2500.0, 189.0, 10.0, 6.0, '', 50.0, 50.0, 50.0, 'Allos'],\n",
       "      dtype=object)"
      ]
     },
     "metadata": {},
     "output_type": "display_data"
    },
    {
     "data": {
      "text/plain": [
       "array(['Bauru Shopping Center', 'Vila Nova Cidade Universitária', 'Bauru',\n",
       "       'SP', 'SUDESTE', '1989/11/25', 24623.59, 59401.81, 30176.91,\n",
       "       'Tradicional', 3.0, 1500.0, 228.0, 5.0, 5.0, 60.0, 25.0, 10.0,\n",
       "       25.0, 'Ad Shopping'], dtype=object)"
      ]
     },
     "metadata": {},
     "output_type": "display_data"
    },
    {
     "data": {
      "text/plain": [
       "array(['Betim Shopping', 'Angola', 'Betim', 'MG', 'SUDESTE', '1998/10/28',\n",
       "       19200.0, 16102.58, 20787.0, 'Tradicional', 2.0, 607.0, 97.0, '',\n",
       "       '', 5.0, 15.0, 30.0, 15.0, 'Landis'], dtype=object)"
      ]
     },
     "metadata": {},
     "output_type": "display_data"
    },
    {
     "data": {
      "text/plain": [
       "array(['Big Shopping', 'Eldorado', 'Contagem', 'MG', 'SUDESTE',\n",
       "       '1994/10/27', 17368.0, 48650.0, 48650.0, 'Tradicional', 2.0, 800.0,\n",
       "       62.0, '', 5.0, '', '', '', '', 'Própria'], dtype=object)"
      ]
     },
     "metadata": {},
     "output_type": "display_data"
    },
    {
     "data": {
      "text/plain": [
       "array(['Boavista Shopping', 'Santo Amaro', 'São Paulo', 'SP', 'SUDESTE',\n",
       "       '2004/04/27', 26196.26, 19971.0, 34872.0, 'Tradicional', 4.0,\n",
       "       783.0, 126.0, '', '', '', '', '', '',\n",
       "       'Argo Desenvolvimento e Gestão'], dtype=object)"
      ]
     },
     "metadata": {},
     "output_type": "display_data"
    },
    {
     "data": {
      "text/plain": [
       "array(['Bourbon Canoas', 'Centro', 'Canoas', 'RS', 'SUL', '1979/10/30',\n",
       "       10780.0, 34569.0, 37946.0, 'Tradicional', 1.0, 823.0, 37.0, 1.0,\n",
       "       '', '', '', '', '', 'Airaz Administradora'], dtype=object)"
      ]
     },
     "metadata": {},
     "output_type": "display_data"
    },
    {
     "data": {
      "text/plain": [
       "array(['Bourbon Shopping Country', 'Passo DAreia', 'Porto Alegre', 'RS',\n",
       "       'SUL', '2001/08/30', 28862.0, 113565.0, 44579.0, 'Tradicional',\n",
       "       4.0, 2332.0, 81.0, 5.0, 8.0, 42.0, 28.0, 24.0, 28.0,\n",
       "       'Airaz Administradora'], dtype=object)"
      ]
     },
     "metadata": {},
     "output_type": "display_data"
    },
    {
     "data": {
      "text/plain": [
       "array(['Bourbon Shopping Ipiranga', 'Jardim Botânico', 'Porto Alegre',\n",
       "       'RS', 'SUL', '1998/11/18', 24482.0, 83783.0, 37755.0,\n",
       "       'Tradicional', 3.0, 1511.0, 86.0, 2.0, 5.0, 22.0, 37.0, 33.0, 37.0,\n",
       "       'Airaz Administradora'], dtype=object)"
      ]
     },
     "metadata": {},
     "output_type": "display_data"
    },
    {
     "data": {
      "text/plain": [
       "array(['Bourbon Passo Fundo', 'Petrópolis', 'Passo Fundo', 'RS', 'SUL',\n",
       "       '1999/12/08', 16800.0, 22243.0, 46004.0, 'Tradicional', 1.0, 812.0,\n",
       "       34.0, 1.0, '', '', '', '', '', 'Airaz Administradora'],\n",
       "      dtype=object)"
      ]
     },
     "metadata": {},
     "output_type": "display_data"
    },
    {
     "data": {
      "text/plain": [
       "array(['Bourbon Shopping São Leopoldo', 'Centro', 'São Leopoldo', 'RS',\n",
       "       'SUL', '2004/12/16', 14960.0, 52606.0, 9632.0, 'Tradicional', 4.0,\n",
       "       601.0, 53.0, 2.0, 5.0, 8.0, 44.0, 41.0, 44.0,\n",
       "       'Airaz Administradora'], dtype=object)"
      ]
     },
     "metadata": {},
     "output_type": "display_data"
    },
    {
     "data": {
      "text/plain": [
       "array(['Buena Vista Shopping', 'Setor Bueno', 'Goiânia', 'GO',\n",
       "       'CENTRO-OESTE', '2003/10/31', 8500.0, 16055.4, 6475.0,\n",
       "       'Tradicional', 3.0, 300.0, 70.0, 1.0, '', 50.0, 30.0, 20.0, 30.0,\n",
       "       'Transcer Construtora E Administradora De Imóveis'], dtype=object)"
      ]
     },
     "metadata": {},
     "output_type": "display_data"
    },
    {
     "data": {
      "text/plain": [
       "array(['Buriti Shopping Guará', 'Campo do Galvão', 'Guaratinguetá', 'SP',\n",
       "       'SUDESTE', '2005/11/18', 20231.77, 68816.39, 34375.85,\n",
       "       'Tradicional', 2.0, 1045.0, 117.0, 6.0, 5.0, 7.0, 61.0, 31.0, 61.0,\n",
       "       'Terral Shopping Centers'], dtype=object)"
      ]
     },
     "metadata": {},
     "output_type": "display_data"
    },
    {
     "data": {
      "text/plain": [
       "array(['Cataratas JL Shopping', 'Polo Centro', 'Foz do Iguaçu', 'PR',\n",
       "       'SUL', '2007/10/31', 23059.0, 63144.0, 13811.0, 'Tradicional', 6.0,\n",
       "       1326.0, 140.0, 5.0, 4.0, 10.0, 60.0, 30.0, 60.0,\n",
       "       'Felix Administradora de bens Ltda'], dtype=object)"
      ]
     },
     "metadata": {},
     "output_type": "display_data"
    },
    {
     "data": {
      "text/plain": [
       "array(['Farol Shopping', 'Aeroporto', 'Tubarão', 'SC', 'SUL',\n",
       "       '2006/10/26', 24870.86, 58444.56, 70007.16, 'Tradicional', 1.0,\n",
       "       750.0, 104.0, 9.0, 4.0, 10.0, 40.0, 30.0, 40.0, 'Própria'],\n",
       "      dtype=object)"
      ]
     },
     "metadata": {},
     "output_type": "display_data"
    },
    {
     "data": {
      "text/plain": [
       "array(['Shopping Park Design', 'Guará', 'Brasília', 'DF', 'CENTRO-OESTE',\n",
       "       '1999/11/15', 16000.0, 20000.0, 15000.0, 'Especializado', '', '',\n",
       "       '', '', '', '', '', '', '', 'Própria'], dtype=object)"
      ]
     },
     "metadata": {},
     "output_type": "display_data"
    },
    {
     "data": {
      "text/plain": [
       "array(['Friburgo Shopping', 'Centro', 'Nova Friburgo', 'RJ', 'SUDESTE',\n",
       "       '1997/12/06', 10406.0, 15860.0, 3651.0, 'Tradicional', 5.0, '',\n",
       "       50.0, '', 3.0, 50.0, 40.0, 5.0, 40.0, 'Própria'], dtype=object)"
      ]
     },
     "metadata": {},
     "output_type": "display_data"
    },
    {
     "data": {
      "text/plain": [
       "array(['Golden Square Shopping Center', 'Jardim do Mar',\n",
       "       'São Bernardo do Campo', 'SP', 'SUDESTE', '2013/10/22', 31344.0,\n",
       "       114557.75, 19502.63, 'Tradicional', 5.0, 1607.0, 170.0, 5.0, 5.0,\n",
       "       24.0, 60.0, 16.0, 60.0, 'Ancar Ivanhoe'], dtype=object)"
      ]
     },
     "metadata": {},
     "output_type": "display_data"
    },
    {
     "data": {
      "text/plain": [
       "array(['GV Shopping', 'Centro', 'Governador Valadares', 'MG', 'SUDESTE',\n",
       "       '1999/12/02', 33532.4, 38349.03, 70000.0, 'Tradicional', 1.0,\n",
       "       1200.0, 107.0, 6.0, 4.0, 12.0, 28.0, 36.0, 28.0,\n",
       "       'Forma Administração E Locação De Imóveis'], dtype=object)"
      ]
     },
     "metadata": {},
     "output_type": "display_data"
    },
    {
     "data": {
      "text/plain": [
       "array(['Itaguari Shopping Center', 'Centro', 'Santo Antônio de Jesus',\n",
       "       'BA', 'NORDESTE', '1997/06/09', 8892.9, 17300.0, 8430.11,\n",
       "       'Tradicional', '', '', '', '', '', '', '', '', '', 'Própria'],\n",
       "      dtype=object)"
      ]
     },
     "metadata": {},
     "output_type": "display_data"
    },
    {
     "data": {
      "text/plain": [
       "array(['Itajaí Shopping Center', 'Centro', 'Itajaí', 'SC', 'SUL',\n",
       "       '2000/10/17', 20000.0, 49000.0, 11632.63, 'Tradicional', 3.0,\n",
       "       2800.0, 135.0, 6.0, 4.0, 10.0, 60.0, 30.0, 60.0, 'Tacla Shopping'],\n",
       "      dtype=object)"
      ]
     },
     "metadata": {},
     "output_type": "display_data"
    },
    {
     "data": {
      "text/plain": [
       "array(['Itapê Shopping', 'Centro', 'Itapetininga', 'SP', 'SUDESTE',\n",
       "       '2002/11/28', 23750.0, 33432.0, 37000.0, 'Tradicional', 2.0,\n",
       "       1000.0, 58.0, 8.0, 5.0, 5.0, 25.0, 60.0, 25.0, 'Própria'],\n",
       "      dtype=object)"
      ]
     },
     "metadata": {},
     "output_type": "display_data"
    },
    {
     "data": {
      "text/plain": [
       "array(['Jacareí Shopping Center', 'Centro', 'Jacareí', 'SP', 'SUDESTE',\n",
       "       '2003/10/31', 15000.0, 25269.62, 16378.0, 'Tradicional', 2.0,\n",
       "       800.0, 108.0, '', 3.0, '', '', '', '', 'Própria'], dtype=object)"
      ]
     },
     "metadata": {},
     "output_type": "display_data"
    },
    {
     "data": {
      "text/plain": [
       "array(['Jaú Shopping Center', 'Chacara Peccioli', 'Jaú', 'SP', 'SUDESTE',\n",
       "       '2001/11/21', 6989.59, 11737.46, 6396.76, 'Tradicional', 2.0,\n",
       "       366.0, 100.0, 2.0, 2.0, 10.0, 50.0, 30.0, 50.0, 'Própria'],\n",
       "      dtype=object)"
      ]
     },
     "metadata": {},
     "output_type": "display_data"
    },
    {
     "data": {
      "text/plain": [
       "array(['Mag Shopping', 'Manaíra', 'João Pessoa', 'PB', 'NORDESTE',\n",
       "       '1999/12/21', 17000.0, 20315.0, 6000.0, 'Especializado', '', 425.0,\n",
       "       142.0, '', 4.0, '', '', '', '', 'Própria'], dtype=object)"
      ]
     },
     "metadata": {},
     "output_type": "display_data"
    },
    {
     "data": {
      "text/plain": [
       "array(['Shopping São José', 'São José Operário', 'Manaus', 'AM', 'NORTE',\n",
       "       '1995/02/05', 14000.0, 18000.0, 14000.0, 'Tradicional', 2.0, 400.0,\n",
       "       75.0, 10.0, '', '', '', '', '', 'Própria'], dtype=object)"
      ]
     },
     "metadata": {},
     "output_type": "display_data"
    },
    {
     "data": {
      "text/plain": [
       "array(['North Shopping Maracanaú', 'Jereissati I', 'Maracanaú', 'CE',\n",
       "       'NORDESTE', '2003/08/19', 20000.0, 38000.0, 22000.0, 'Tradicional',\n",
       "       3.0, 420.0, 108.0, 4.0, 4.0, 4.0, 34.0, 52.0, 34.0,\n",
       "       'Ancar Ivanhoe'], dtype=object)"
      ]
     },
     "metadata": {},
     "output_type": "display_data"
    },
    {
     "data": {
      "text/plain": [
       "array(['Mauá Plaza Shopping', 'Centro', 'Mauá', 'SP', 'SUDESTE',\n",
       "       '2002/05/02', 50308.66, 134872.38, 86994.8, 'Tradicional', 1.0,\n",
       "       2000.0, 183.0, 11.0, 8.0, 5.0, 32.0, 49.0, 32.0, 'Própria'],\n",
       "      dtype=object)"
      ]
     },
     "metadata": {},
     "output_type": "display_data"
    },
    {
     "data": {
      "text/plain": [
       "array(['Midway Mall', 'Tirol', 'Natal', 'RN', 'NORDESTE', '2005/04/27',\n",
       "       67796.0, 227000.0, 68000.0, 'Tradicional', 3.0, 3666.0, 286.0,\n",
       "       15.0, 7.0, 13.0, 52.0, 26.0, 52.0, 'Própria'], dtype=object)"
      ]
     },
     "metadata": {},
     "output_type": "display_data"
    },
    {
     "data": {
      "text/plain": [
       "array(['Monet Plaza Shopping', 'Nossa Senhora de Lourdes', 'Santa Maria',\n",
       "       'RS', 'SUL', '1997/03/24', 8655.62, 28275.19, 33298.83,\n",
       "       'Tradicional', 1.0, 533.0, 96.0, 1.0, '', 30.0, 30.0, 20.0, 30.0,\n",
       "       'Ad Shopping'], dtype=object)"
      ]
     },
     "metadata": {},
     "output_type": "display_data"
    },
    {
     "data": {
      "text/plain": [
       "array(['Shopping Norte Sul', 'Jd. Camburi', 'Vitória', 'ES', 'SUDESTE',\n",
       "       '2004/10/20', 6300.0, 11000.0, 11000.0, 'Tradicional', 3.0, 210.0,\n",
       "       73.0, '', 4.0, 60.0, 40.0, '', 40.0, 'Própria'], dtype=object)"
      ]
     },
     "metadata": {},
     "output_type": "display_data"
    },
    {
     "data": {
      "text/plain": [
       "array(['Shopping Palladium Curitiba', 'PORTÃO', 'Curitiba', 'PR', 'SUL',\n",
       "       '2008/05/09', 56000.0, 184000.0, 43000.0, 'Tradicional', 3.0,\n",
       "       2300.0, 360.0, 20.0, 9.0, 9.0, 59.0, 30.0, 59.0, 'Tacla Shopping'],\n",
       "      dtype=object)"
      ]
     },
     "metadata": {},
     "output_type": "display_data"
    },
    {
     "data": {
      "text/plain": [
       "array(['Palmas Shopping', 'Plano Diretor  Sul', 'Palmas', 'TO', 'NORTE',\n",
       "       '1996/10/26', 8900.0, 14313.0, 6700.0, 'Tradicional', 4.0, 600.0,\n",
       "       60.0, 3.0, 5.0, 15.0, 30.0, 45.0, 30.0, 'NMB SHOPPING CENTER'],\n",
       "      dtype=object)"
      ]
     },
     "metadata": {},
     "output_type": "display_data"
    },
    {
     "data": {
      "text/plain": [
       "array(['Resende Shopping', 'Centro', 'Resende', 'RJ', 'SUDESTE',\n",
       "       '1985/11/19', 8871.0, 31042.0, 6800.0, 'Tradicional', 3.0, 420.0,\n",
       "       80.0, 4.0, 4.0, 9.0, 19.0, 56.0, 19.0, 'Probus Consultoria Ltda.'],\n",
       "      dtype=object)"
      ]
     },
     "metadata": {},
     "output_type": "display_data"
    },
    {
     "data": {
      "text/plain": [
       "array(['Road Shopping', 'Varejão', 'Itu', 'SP', 'SUDESTE', '1996/02/02',\n",
       "       10000.0, 20000.0, 101000.0, 'Tradicional', 1.0, 500.0, 65.0, '',\n",
       "       '', 70.0, 20.0, 5.0, 20.0, 'Ablsan'], dtype=object)"
      ]
     },
     "metadata": {},
     "output_type": "display_data"
    },
    {
     "data": {
      "text/plain": [
       "array(['Rondon Plaza Shopping', 'Sagrada Família', 'RONDONÓPOLIS', 'MT',\n",
       "       'CENTRO-OESTE', '2001/05/07', 15657.0, 21759.36, 61062.37,\n",
       "       'Tradicional', 1.0, 1500.0, 91.0, 4.0, 3.0, 6.0, 30.0, 50.0, 30.0,\n",
       "       'JAR Projetos e Construções Civis LTDA'], dtype=object)"
      ]
     },
     "metadata": {},
     "output_type": "display_data"
    },
    {
     "data": {
      "text/plain": [
       "array(['Royal Plaza Shopping Londrina', 'Centro', 'Londrina', 'PR', 'SUL',\n",
       "       '1999/11/30', 10000.0, 30000.0, 3764.0, 'Tradicional', 4.0, 400.0,\n",
       "       121.0, 2.0, 5.0, 5.0, 20.0, 50.0, 20.0, 'Própria'], dtype=object)"
      ]
     },
     "metadata": {},
     "output_type": "display_data"
    },
    {
     "data": {
      "text/plain": [
       "array(['Salinas Shopping', 'Edson Queiroz', 'Fortaleza', 'CE', 'NORDESTE',\n",
       "       '1996/08/05', 15000.0, 30000.0, 40000.0, 'Especializado', 1.0, '',\n",
       "       116.0, '', '', 90.0, 10.0, '', 10.0, 'Própria'], dtype=object)"
      ]
     },
     "metadata": {},
     "output_type": "display_data"
    },
    {
     "data": {
      "text/plain": [
       "array(['Shopping Santa Úrsula', 'Higienópolis', 'Ribeirão Preto', 'SP',\n",
       "       'SUDESTE', '1999/09/29', 23339.0, 63505.77, 63505.77,\n",
       "       'Tradicional', 10.0, 856.0, 195.0, 4.0, 8.0, '', '', '', '',\n",
       "       'Multiplan'], dtype=object)"
      ]
     },
     "metadata": {},
     "output_type": "display_data"
    },
    {
     "data": {
      "text/plain": [
       "array(['Shopping São José', 'Centro', 'São José dos Pinhais', 'PR', 'SUL',\n",
       "       '2008/09/26', 18072.0, 56212.0, 14543.0, 'Tradicional', 4.0, 638.0,\n",
       "       144.0, 3.0, 5.0, 9.0, 31.0, 48.0, 31.0, 'Soifer'], dtype=object)"
      ]
     },
     "metadata": {},
     "output_type": "display_data"
    },
    {
     "data": {
      "text/plain": [
       "array(['Shopping Avenida Center Maringá', 'Zona 09', 'Maringá', 'PR',\n",
       "       'SUL', '1989/11/10', 24843.5, 54142.12, 24849.47, 'Tradicional',\n",
       "       2.0, 609.0, 200.0, 2.0, 4.0, '', '', '', '',\n",
       "       'Inga Empreendimentos'], dtype=object)"
      ]
     },
     "metadata": {},
     "output_type": "display_data"
    },
    {
     "data": {
      "text/plain": [
       "array(['Shopping Campo Limpo', 'Vila Prel', 'São Paulo', 'SP', 'SUDESTE',\n",
       "       '2005/11/30', 23064.89, 65272.0, 33705.82, 'Tradicional', 3.0,\n",
       "       1100.0, 135.0, 6.0, 6.0, 9.0, 57.0, 34.0, 57.0, 'Allos'],\n",
       "      dtype=object)"
      ]
     },
     "metadata": {},
     "output_type": "display_data"
    },
    {
     "data": {
      "text/plain": [
       "array(['Jaraguá Do Sul Park Shopping', 'centro', 'Jaraguá do sul', 'SC',\n",
       "       'SUL', '1999/11/05', 25995.0, 77235.67, 14808.1, 'Tradicional',\n",
       "       4.0, 800.0, 115.0, 8.0, 5.0, 3.0, 40.0, 50.0, 40.0,\n",
       "       'Partage Shopping'], dtype=object)"
      ]
     },
     "metadata": {},
     "output_type": "display_data"
    },
    {
     "data": {
      "text/plain": [
       "array(['Shopping Center Cidade Das Flores', 'Centro', 'Joinville', 'SC',\n",
       "       'SUL', '1995/03/09', 10425.52, 35000.0, 17124.0, 'Especializado',\n",
       "       2.0, 750.0, 66.0, '', 2.0, 15.0, 40.0, 45.0, 40.0,\n",
       "       'Duomo Administradora De Bens'], dtype=object)"
      ]
     },
     "metadata": {},
     "output_type": "display_data"
    },
    {
     "data": {
      "text/plain": [
       "array(['Shopping Cidade Jardim', 'Cidade Jardim', 'Goiânia', 'GO',\n",
       "       'CENTRO-OESTE', '2000/09/20', 14839.3, 23919.0, 26919.31,\n",
       "       'Tradicional', 2.0, 1000.0, 110.0, 5.0, 3.0, 5.0, 40.0, 50.0, 40.0,\n",
       "       'Enac Empresa Nacional de Mercado'], dtype=object)"
      ]
     },
     "metadata": {},
     "output_type": "display_data"
    },
    {
     "data": {
      "text/plain": [
       "array(['Shopping Palladium Ponta Grossa', 'Olarias', 'Ponta Grossa', 'PR',\n",
       "       'SUL', '2003/05/02', 27000.0, 77000.0, 21000.0, 'Tradicional', 4.0,\n",
       "       950.0, 200.0, 15.0, 4.0, 10.0, 30.0, 40.0, 30.0, 'Tacla Shopping'],\n",
       "      dtype=object)"
      ]
     },
     "metadata": {},
     "output_type": "display_data"
    },
    {
     "data": {
      "text/plain": [
       "array(['Shopping Pier 21', 'ASA SUL', 'Brasília', 'DF', 'CENTRO-OESTE',\n",
       "       '2000/06/21', 18284.17, 27867.18, 49802.0, 'Especializado', 4.0,\n",
       "       1806.0, 50.0, 3.0, 13.0, 35.0, 40.0, 24.0, 40.0, 'Ad Shopping'],\n",
       "      dtype=object)"
      ]
     },
     "metadata": {},
     "output_type": "display_data"
    },
    {
     "data": {
      "text/plain": [
       "array(['Shopping Center Rio Claro', 'Vila Paulista', 'Rio Claro', 'SP',\n",
       "       'SUDESTE', '1995/10/19', 18459.4, 24020.31, 65000.0, 'Tradicional',\n",
       "       2.0, 1100.0, 125.0, 6.0, 5.0, '', '', '', '', 'Ad Shopping'],\n",
       "      dtype=object)"
      ]
     },
     "metadata": {},
     "output_type": "display_data"
    },
    {
     "data": {
      "text/plain": [
       "array(['Shopping Center 3', 'Cerqueira Cesar', 'São Paulo', 'SP',\n",
       "       'SUDESTE', '1967/07/27', 10930.0, 25000.0, 7000.0, 'Tradicional',\n",
       "       4.0, 515.0, 165.0, '', '', 25.0, 61.0, 14.0, 61.0,\n",
       "       'Nassau Empreendimentos'], dtype=object)"
      ]
     },
     "metadata": {},
     "output_type": "display_data"
    },
    {
     "data": {
      "text/plain": [
       "array(['Shopping Centro', 'Centro', 'São José dos Campos', 'SP',\n",
       "       'SUDESTE', '1978/09/30', 9013.0, 20000.0, '', 'Especializado', 6.0,\n",
       "       123.0, 111.0, '', '', 20.0, 30.0, 30.0, 30.0, 'Própria'],\n",
       "      dtype=object)"
      ]
     },
     "metadata": {},
     "output_type": "display_data"
    },
    {
     "data": {
      "text/plain": [
       "array(['Shopping Cidade Curitiba', 'Hauer', 'Curitiba', 'PR', 'SUL',\n",
       "       '2003/07/03', 7000.0, 21000.0, 24000.0, 'Tradicional', 2.0, 1000.0,\n",
       "       299.0, '', 5.0, 5.0, 36.0, 46.0, 36.0, 'Cityspace Empreendimentos'],\n",
       "      dtype=object)"
      ]
     },
     "metadata": {},
     "output_type": "display_data"
    },
    {
     "data": {
      "text/plain": [
       "array(['Shopping Cidade Maringá', 'Vila nova', 'Maringá', 'PR', 'SUL',\n",
       "       '2003/05/08', 23123.0, 53900.1, 37463.07, 'Tradicional', 1.0,\n",
       "       829.0, 127.0, 5.0, 4.0, 5.0, 20.0, 60.0, 20.0, 'Própria'],\n",
       "      dtype=object)"
      ]
     },
     "metadata": {},
     "output_type": "display_data"
    },
    {
     "data": {
      "text/plain": [
       "array(['Shopping Conquista Sul', 'Felícia', 'Vitória da Conquista', 'BA',\n",
       "       'NORDESTE', '2006/06/07', 25060.0, 52840.0, 34200.0, 'Tradicional',\n",
       "       2.0, 1050.0, 120.0, 8.0, 3.0, 10.0, 25.0, 60.0, 25.0,\n",
       "       'Zolim Planejamento'], dtype=object)"
      ]
     },
     "metadata": {},
     "output_type": "display_data"
    },
    {
     "data": {
      "text/plain": [
       "array(['Shopping D', 'Canindé', 'São Paulo', 'SP', 'SUDESTE',\n",
       "       '1994/10/06', 29816.0, 103883.0, 28967.0, 'Tradicional', 3.0,\n",
       "       1257.0, 154.0, 6.0, 10.0, 6.0, 19.0, 67.0, 19.0, 'SYN'],\n",
       "      dtype=object)"
      ]
     },
     "metadata": {},
     "output_type": "display_data"
    },
    {
     "data": {
      "text/plain": [
       "array(['Shopping Vale Do Aço', 'Industrial', 'Ipatinga', 'MG', 'SUDESTE',\n",
       "       '1998/09/24', 30000.0, 35000.0, 94000.0, 'Tradicional', 2.0,\n",
       "       2000.0, 207.0, 8.0, 5.0, 8.0, 47.0, 38.0, 47.0,\n",
       "       'Intermall Empreendimentos e Participações'], dtype=object)"
      ]
     },
     "metadata": {},
     "output_type": "display_data"
    },
    {
     "data": {
      "text/plain": [
       "array(['Shopping Fiesta', 'Socorro', 'São Paulo', 'SP', 'SUDESTE',\n",
       "       '1994/12/06', 31030.0, 37741.0, 70292.0, 'Tradicional', 1.0,\n",
       "       1300.0, 73.0, 5.0, '', '', 15.0, 80.0, 15.0, 'Lumine'],\n",
       "      dtype=object)"
      ]
     },
     "metadata": {},
     "output_type": "display_data"
    },
    {
     "data": {
      "text/plain": [
       "array(['Shopping Grande Circular', 'São José Operário', 'Manaus', 'AM',\n",
       "       'NORTE', '2017/11/16', 19600.0, 97163.0, 21231.0, 'Tradicional',\n",
       "       4.0, 582.0, 134.0, 7.0, 5.0, 5.0, 15.0, 65.0, 15.0, 'Própria'],\n",
       "      dtype=object)"
      ]
     },
     "metadata": {},
     "output_type": "display_data"
    },
    {
     "data": {
      "text/plain": [
       "array(['Shopping Id', 'Asa Norte', 'Brasília', 'DF', 'CENTRO-OESTE',\n",
       "       '2007/04/21', 14500.0, 102000.0, 14000.0, 'Especializado', 3.0,\n",
       "       900.0, 44.0, 1.0, '', 40.0, 30.0, 20.0, 30.0,\n",
       "       'Antonio Venancio Da Silva Empreendimentos Imob.'], dtype=object)"
      ]
     },
     "metadata": {},
     "output_type": "display_data"
    },
    {
     "data": {
      "text/plain": [
       "array(['Shopping João Pessoa', 'FARROUPILHA', 'Porto Alegre', 'RS', 'SUL',\n",
       "       '1970/12/04', 8683.13, 15290.26, 4739.0, 'Tradicional', 4.0, 79.0,\n",
       "       59.0, 3.0, 4.0, '', '', '', '', 'Própria'], dtype=object)"
      ]
     },
     "metadata": {},
     "output_type": "display_data"
    },
    {
     "data": {
      "text/plain": [
       "array(['Shopping Poços De Caldas', 'Vale das Antas', 'Poços de Caldas',\n",
       "       'MG', 'SUDESTE', '2005/05/19', 19628.41, 38883.63, 29459.0,\n",
       "       'Tradicional', 2.0, 710.0, 77.0, 8.0, 4.0, 32.0, 12.0, 17.0, 12.0,\n",
       "       'Partage Shopping'], dtype=object)"
      ]
     },
     "metadata": {},
     "output_type": "display_data"
    },
    {
     "data": {
      "text/plain": [
       "array(['Shopping Minascasa', 'Ipiranga', 'Belo Horizonte', 'MG',\n",
       "       'SUDESTE', '1994/11/08', 7300.0, 17261.35, 11921.5,\n",
       "       'Especializado', 1.0, 260.0, 84.0, 4.0, '', 30.0, 40.0, 25.0, 40.0,\n",
       "       'Objetiva Participações E Investimentos'], dtype=object)"
      ]
     },
     "metadata": {},
     "output_type": "display_data"
    },
    {
     "data": {
      "text/plain": [
       "array(['Shopping Novo Batel', 'Batel', 'Curitiba', 'PR', 'SUL',\n",
       "       '1979/12/14', 8782.0, '', '', 'Tradicional', '', '', '', '', '',\n",
       "       '', '', '', '', 'Própria'], dtype=object)"
      ]
     },
     "metadata": {},
     "output_type": "display_data"
    },
    {
     "data": {
      "text/plain": [
       "array(['SHOPPING JARAGUÁ CENESP', 'Jardim São Luiz', 'São Paulo', 'SP',\n",
       "       'SUDESTE', '1977/04/15', 11611.52, 250000.0, 250000.0,\n",
       "       'Tradicional', 1.0, 4400.0, 107.0, '', '', 5.0, 50.0, 25.0, 50.0,\n",
       "       'Panamby Empreendimentos e Participações Ltda'], dtype=object)"
      ]
     },
     "metadata": {},
     "output_type": "display_data"
    },
    {
     "data": {
      "text/plain": [
       "array(['Pátio Central Shopping', 'Centro', 'Campo Grande', 'MS',\n",
       "       'CENTRO-OESTE', '2009/01/14', 6970.0, 13628.28, 26000.0,\n",
       "       'Tradicional', 3.0, 170.0, 66.0, 2.0, '', 2.0, 41.0, 53.0, 41.0,\n",
       "       'Própria'], dtype=object)"
      ]
     },
     "metadata": {},
     "output_type": "display_data"
    },
    {
     "data": {
      "text/plain": [
       "array(['Shopping Piracicaba', 'Areião', 'Piracicaba', 'SP', 'SUDESTE',\n",
       "       '1987/10/22', 44993.89, 93332.6, 98000.0, 'Tradicional', '',\n",
       "       2222.0, 242.0, '', 7.0, '', '', '', '', 'Allos'], dtype=object)"
      ]
     },
     "metadata": {},
     "output_type": "display_data"
    },
    {
     "data": {
      "text/plain": [
       "array(['Shopping Piratas', 'Praia do Jardim', 'Angra dos Reis', 'RJ',\n",
       "       'SUDESTE', '1998/12/20', 10725.0, 33054.0, 38799.0, 'Tradicional',\n",
       "       3.0, 500.0, 111.0, 6.0, 4.0, 20.0, 30.0, 40.0, 30.0, 'Famex S.a'],\n",
       "      dtype=object)"
      ]
     },
     "metadata": {},
     "output_type": "display_data"
    },
    {
     "data": {
      "text/plain": [
       "array(['Plaza\\xa0DOro Shopping', 'Residencial Eldorado', 'Goiânia', 'GO',\n",
       "       'CENTRO-OESTE', '2005/10/05', 5555.16, 6659.0, 17240.7,\n",
       "       'Tradicional', 2.0, 425.0, 40.0, 1.0, '', 10.0, 33.0, 35.0, 33.0,\n",
       "       'ABL Prime'], dtype=object)"
      ]
     },
     "metadata": {},
     "output_type": "display_data"
    },
    {
     "data": {
      "text/plain": [
       "array(['Ventura Shopping', 'PORTÃO', 'Curitiba', 'PR', 'SUL',\n",
       "       '1997/12/04', 23156.78, 80882.6, 31000.0, 'Tradicional', 2.0,\n",
       "       1240.0, 240.0, 6.0, 5.0, 5.0, 40.0, 40.0, 40.0, 'Tacla Shopping'],\n",
       "      dtype=object)"
      ]
     },
     "metadata": {},
     "output_type": "display_data"
    },
    {
     "data": {
      "text/plain": [
       "array(['Shopping Total Ponta Grossa', 'Nova Russia', 'Ponta Grossa', 'PR',\n",
       "       'SUL', '1995/01/01', 6742.0, '', '', 'Tradicional', '', '', '', '',\n",
       "       '', '', '', '', '', 'Própria'], dtype=object)"
      ]
     },
     "metadata": {},
     "output_type": "display_data"
    },
    {
     "data": {
      "text/plain": [
       "array(['Shopping West Side', 'São Cristovão', 'Cascavel', 'PR', 'SUL',\n",
       "       '1999/03/25', 8400.0, 9000.0, 25000.0, 'Especializado', 1.0, 200.0,\n",
       "       100.0, 3.0, 3.0, '', '', '', '', 'Própria'], dtype=object)"
      ]
     },
     "metadata": {},
     "output_type": "display_data"
    },
    {
     "data": {
      "text/plain": [
       "array(['Sorocaba Shopping Center', 'Centro', 'Sorocaba', 'SP', 'SUDESTE',\n",
       "       '1981/03/19', 17448.7, 34768.0, 28635.0, 'Tradicional', 3.0, 800.0,\n",
       "       109.0, 3.0, 7.0, 20.0, 30.0, 40.0, 30.0, 'Própria'], dtype=object)"
      ]
     },
     "metadata": {},
     "output_type": "display_data"
    },
    {
     "data": {
      "text/plain": [
       "array(['Studio 5 Shopping', 'Crespo', 'Manaus', 'AM', 'NORTE',\n",
       "       '2001/12/21', 15000.0, 20432.0, 110218.9, 'Tradicional', 2.0,\n",
       "       1300.0, 47.0, 2.0, 6.0, 10.0, 20.0, 35.0, 20.0,\n",
       "       'NASSAU EMPREENDIMENTOS'], dtype=object)"
      ]
     },
     "metadata": {},
     "output_type": "display_data"
    },
    {
     "data": {
      "text/plain": [
       "array(['Shopping Tambiá', 'Centro', 'João Pessoa', 'PB', 'NORDESTE',\n",
       "       '2002/07/18', 17000.0, 34218.0, 11270.0, 'Tradicional', 3.0, 900.0,\n",
       "       109.0, 7.0, 6.0, 5.0, 21.0, 49.0, 21.0, 'Própria'], dtype=object)"
      ]
     },
     "metadata": {},
     "output_type": "display_data"
    },
    {
     "data": {
      "text/plain": [
       "array(['Tivoli Shopping', 'Jd Molon', 'Santa Bárbara dOeste', 'SP',\n",
       "       'SUDESTE', '1998/11/03', 25665.21, 36952.46, 95572.96,\n",
       "       'Tradicional', 2.0, 1509.0, 143.0, 8.0, '', 14.0, 57.0, 25.0, 57.0,\n",
       "       'Ad Shopping'], dtype=object)"
      ]
     },
     "metadata": {},
     "output_type": "display_data"
    },
    {
     "data": {
      "text/plain": [
       "array(['Shopping Unigranrio', 'JARDIM 25 DE AGOSTO', 'Duque de Caxias',\n",
       "       'RJ', 'SUDESTE', '1995/11/23', 6000.0, 11000.0, 4500.0,\n",
       "       'Tradicional', 3.0, 150.0, 65.0, 4.0, '', 10.0, 40.0, 40.0, 40.0,\n",
       "       'Própria'], dtype=object)"
      ]
     },
     "metadata": {},
     "output_type": "display_data"
    },
    {
     "data": {
      "text/plain": [
       "array(['Shopping Sul', 'PARQUE ESPLANADA III', 'Valparaíso de Goiás',\n",
       "       'GO', 'CENTRO-OESTE', '1993/10/28', 34300.0, 46198.68, 64448.88,\n",
       "       'Tradicional', 1.0, 1368.0, 184.0, 6.0, 6.0, 7.0, 58.0, 34.0, 58.0,\n",
       "       'Terral Shopping Centers'], dtype=object)"
      ]
     },
     "metadata": {},
     "output_type": "display_data"
    },
    {
     "data": {
      "text/plain": [
       "array(['Cariri Shopping', 'Triângulo', 'Juazeiro do Norte', 'CE',\n",
       "       'NORDESTE', '1997/11/28', 26939.16, 48805.78, 51137.25,\n",
       "       'Tradicional', 2.0, 483.0, 139.0, 6.0, 6.0, 10.0, 30.0, 40.0, 30.0,\n",
       "       'Allos'], dtype=object)"
      ]
     },
     "metadata": {},
     "output_type": "display_data"
    },
    {
     "data": {
      "text/plain": [
       "array(['Shopping Center Costa Dourada', 'Cidade Garapu',\n",
       "       'Cabo de Santo Agostinho', 'PE', 'NORDESTE', '2009/11/26', 20000.0,\n",
       "       29000.0, 78633.49, 'Especializado', 1.0, 1200.0, 124.0, 7.0, 4.0,\n",
       "       8.0, 17.0, 55.0, 17.0, 'Grupo Costa Dourada'], dtype=object)"
      ]
     },
     "metadata": {},
     "output_type": "display_data"
    },
    {
     "data": {
      "text/plain": [
       "array(['Garden Shopping Catanduva', 'Centro', 'Catanduva', 'SP',\n",
       "       'SUDESTE', '1989/11/18', 11842.5, 18021.7, 30494.1, 'Tradicional',\n",
       "       1.0, 300.0, 90.0, 2.0, 3.0, '', '', '', '',\n",
       "       'L.P.Administração e Participação Ltda'], dtype=object)"
      ]
     },
     "metadata": {},
     "output_type": "display_data"
    },
    {
     "data": {
      "text/plain": [
       "array(['Brisamar Shopping', 'Centro', 'São Vicente', 'SP', 'SUDESTE',\n",
       "       '2007/04/27', 16291.84, 29090.42, 8513.85, 'Tradicional', 4.0,\n",
       "       1007.0, 113.0, 4.0, 6.0, '', 10.0, 60.0, 10.0, 'Mendes'],\n",
       "      dtype=object)"
      ]
     },
     "metadata": {},
     "output_type": "display_data"
    },
    {
     "data": {
      "text/plain": [
       "array(['Criciúma Shopping Center', 'Próspera', 'Criciúma', 'SC', 'SUL',\n",
       "       '1996/06/29', 14000.0, '', '', 'Tradicional', 1.0, 1200.0, 51.0,\n",
       "       '', 2.0, '', '', '', '', 'Js Administradora De Bens E Imóveis'],\n",
       "      dtype=object)"
      ]
     },
     "metadata": {},
     "output_type": "display_data"
    },
    {
     "data": {
      "text/plain": [
       "array(['Pátio Osasco Open Mall', 'Vila Yara', 'Osasco', 'SP', 'SUDESTE',\n",
       "       '2007/06/12', 18600.0, 29700.23, 10131.96, 'Especializado', 2.0,\n",
       "       800.0, 46.0, 4.0, '', 5.0, 55.0, 35.0, 55.0, 'Krhtel Group'],\n",
       "      dtype=object)"
      ]
     },
     "metadata": {},
     "output_type": "display_data"
    },
    {
     "data": {
      "text/plain": [
       "array(['Paulinia Shopping Winner Mall', 'Nossa Senhora Aparecida',\n",
       "       'Paulínia', 'SP', 'SUDESTE', '2007/07/27', 12700.0, 20600.0,\n",
       "       14670.0, 'Tradicional', 2.0, 800.0, 80.0, 2.0, 2.0, 15.0, 41.0,\n",
       "       27.0, 41.0, 'Própria'], dtype=object)"
      ]
     },
     "metadata": {},
     "output_type": "display_data"
    },
    {
     "data": {
      "text/plain": [
       "array(['Shopping Center Três Américas', 'JARDIM DAS AMÉRICAS', 'Cuiabá',\n",
       "       'MT', 'CENTRO-OESTE', '1996/06/28', 25500.0, 64063.81, 17099.14,\n",
       "       'Tradicional', 3.0, 1000.0, 185.0, 4.0, 8.0, 20.0, 30.0, 30.0,\n",
       "       30.0, 'Própria'], dtype=object)"
      ]
     },
     "metadata": {},
     "output_type": "display_data"
    },
    {
     "data": {
      "text/plain": [
       "array(['Shopping Itaigara', 'Itaigara', 'Salvador', 'BA', 'NORDESTE',\n",
       "       '1980/12/12', 13100.0, 39270.0, 10784.95, 'Tradicional', 3.0,\n",
       "       721.0, 209.0, 1.0, '', 55.0, 35.0, 5.0, 35.0, 'Enashopp'],\n",
       "      dtype=object)"
      ]
     },
     "metadata": {},
     "output_type": "display_data"
    },
    {
     "data": {
      "text/plain": [
       "array(['Shopping Lupo', 'CENTRO', 'Araraquara', 'SP', 'SUDESTE',\n",
       "       '2002/10/17', 4823.0, 9972.66, 10195.03, 'Tradicional', 4.0, 154.0,\n",
       "       36.0, 6.0, 3.0, 16.0, 36.0, 48.0, 36.0, 'Própria'], dtype=object)"
      ]
     },
     "metadata": {},
     "output_type": "display_data"
    },
    {
     "data": {
      "text/plain": [
       "array(['Shopping Prado Boulevard', 'Vila Eglantina', 'Campinas', 'SP',\n",
       "       'SUDESTE', '2004/04/15', 9727.02, 20010.0, 15915.0, 'Tradicional',\n",
       "       2.0, 282.0, 80.0, 1.0, 4.0, 35.0, 45.0, 15.0, 45.0, 'Gazit Brasil'],\n",
       "      dtype=object)"
      ]
     },
     "metadata": {},
     "output_type": "display_data"
    },
    {
     "data": {
      "text/plain": [
       "array(['Boulevard Shopping Belém', 'Reduto', 'Belém', 'PA', 'NORTE',\n",
       "       '2009/11/17', 39205.0, 120516.96, 16438.3, 'Tradicional', 6.0,\n",
       "       1704.0, 243.0, 8.0, 7.0, 38.0, 62.0, '', 62.0, 'Allos'],\n",
       "      dtype=object)"
      ]
     },
     "metadata": {},
     "output_type": "display_data"
    },
    {
     "data": {
      "text/plain": [
       "array(['Boulevard Shopping Belo Horizonte', 'Santa Efigênia',\n",
       "       'Belo Horizonte', 'MG', 'SUDESTE', '2010/10/26', 41672.3,\n",
       "       159555.21, 25777.02, 'Tradicional', 4.0, 2375.0, 185.0, 5.0, 6.0,\n",
       "       25.0, 47.0, 25.0, 47.0, 'Allos'], dtype=object)"
      ]
     },
     "metadata": {},
     "output_type": "display_data"
    },
    {
     "data": {
      "text/plain": [
       "array(['Catuaí Shopping Maringá', 'Parque Industrial Bandeirantes',\n",
       "       'Maringá', 'PR', 'SUL', '2010/11/18', 33515.0, 53728.6, 135481.86,\n",
       "       'Tradicional', 1.0, 1300.0, 168.0, 9.0, 5.0, '', '', '', '',\n",
       "       'Allos'], dtype=object)"
      ]
     },
     "metadata": {},
     "output_type": "display_data"
    },
    {
     "data": {
      "text/plain": [
       "array(['Manauara Shopping', 'Adrianópolis', 'Manaus', 'AM', 'NORTE',\n",
       "       '2009/04/07', 47300.0, 159834.82, 62068.0, 'Tradicional', 4.0,\n",
       "       2750.0, 234.0, 10.0, 10.0, 30.0, 50.0, 17.0, 50.0, 'Allos'],\n",
       "      dtype=object)"
      ]
     },
     "metadata": {},
     "output_type": "display_data"
    },
    {
     "data": {
      "text/plain": [
       "array(['Outlet Premium São Paulo', 'Rio Abaixo', 'Itupeva', 'SP',\n",
       "       'SUDESTE', '2009/06/27', 24882.0, '', '', 'Especializado', 1.0,\n",
       "       1600.0, 169.0, '', '', '', '', '', '', 'General Shopping&Outlets'],\n",
       "      dtype=object)"
      ]
     },
     "metadata": {},
     "output_type": "display_data"
    },
    {
     "data": {
      "text/plain": [
       "array(['Royal Plaza Shopping', 'Nossa Senhora das Dores', 'Santa Maria',\n",
       "       'RS', 'SUL', '2009/03/26', 13090.0, 40808.0, 9324.0, 'Tradicional',\n",
       "       3.0, 600.0, 120.0, 4.0, 4.0, 5.0, 25.0, 35.0, 25.0, 'Própria'],\n",
       "      dtype=object)"
      ]
     },
     "metadata": {},
     "output_type": "display_data"
    },
    {
     "data": {
      "text/plain": [
       "array(['Shopping Iguatemi Brasília', 'Lago Norte', 'Brasília', 'DF',\n",
       "       'CENTRO-OESTE', '2010/03/30', 34658.0, 34658.0, 34658.0,\n",
       "       'Tradicional', 2.0, 2681.0, 158.0, '', '', 51.0, 43.0, 6.0, 43.0,\n",
       "       'Iguatemi Empresa de Shopping Centers'], dtype=object)"
      ]
     },
     "metadata": {},
     "output_type": "display_data"
    },
    {
     "data": {
      "text/plain": [
       "array(['Boulevard Shopping Brasília', 'Asa Norte', 'Brasília', 'DF',\n",
       "       'CENTRO-OESTE', '2009/06/25', 17992.0, 58416.04, 48829.38,\n",
       "       'Tradicional', 2.0, 1500.0, 127.0, 3.0, 4.0, 37.0, 40.0, 16.0,\n",
       "       40.0, 'NIAD'], dtype=object)"
      ]
     },
     "metadata": {},
     "output_type": "display_data"
    },
    {
     "data": {
      "text/plain": [
       "array(['Shopping Pátio Maceió', 'Cidade Universitária', 'Maceió', 'AL',\n",
       "       'NORDESTE', '2009/11/25', 47052.2, 59875.52, 122019.28,\n",
       "       'Tradicional', 2.0, 1929.0, 140.0, 13.0, 5.0, 4.0, 56.0, 38.0,\n",
       "       56.0, 'Saphyr'], dtype=object)"
      ]
     },
     "metadata": {},
     "output_type": "display_data"
    },
    {
     "data": {
      "text/plain": [
       "array(['Shopping Praça Da Moça', 'Centro', 'Diadema', 'SP', 'SUDESTE',\n",
       "       '2009/05/29', 30655.0, 125144.0, 20861.53, 'Tradicional', 6.0,\n",
       "       1210.0, 160.0, 8.0, 7.0, 12.0, 52.0, 34.0, 52.0, 'Ad Shopping'],\n",
       "      dtype=object)"
      ]
     },
     "metadata": {},
     "output_type": "display_data"
    },
    {
     "data": {
      "text/plain": [
       "array(['Shopping União De Osasco', 'Vila Yara', 'Osasco', 'SP', 'SUDESTE',\n",
       "       '2009/06/10', 97000.0, 310737.0, 225212.9, 'Tradicional', 3.0,\n",
       "       5000.0, 260.0, 24.0, 10.0, 10.0, 58.0, 31.0, 58.0, 'Savoy'],\n",
       "      dtype=object)"
      ]
     },
     "metadata": {},
     "output_type": "display_data"
    },
    {
     "data": {
      "text/plain": [
       "array(['Shopping Vila Olímpia', 'Vila Olímpia', 'São Paulo', 'SP',\n",
       "       'SUDESTE', '2009/11/24', 28367.0, 95671.0, 10928.0, 'Tradicional',\n",
       "       6.0, 1578.0, 221.0, '', 7.0, '', '', '', '', 'Multiplan'],\n",
       "      dtype=object)"
      ]
     },
     "metadata": {},
     "output_type": "display_data"
    },
    {
     "data": {
      "text/plain": [
       "array(['Via Verde Shopping', 'Floresta Sul', 'Rio Branco', 'AC', 'NORTE',\n",
       "       '2011/11/08', 28563.5, 43211.41, 121104.0, 'Tradicional', 1.0,\n",
       "       1200.0, 99.0, 9.0, 6.0, 3.0, 8.0, 38.0, 8.0, 'Saphyr'],\n",
       "      dtype=object)"
      ]
     },
     "metadata": {},
     "output_type": "display_data"
    },
    {
     "data": {
      "text/plain": [
       "array(['Shopping Germânia', 'Centro', 'Santa Cruz do Sul', 'RS', 'SUL',\n",
       "       '2009/11/01', 6745.81, 14810.0, 9427.26, 'Tradicional', 4.0, 120.0,\n",
       "       57.0, 1.0, 2.0, 5.0, 15.0, 50.0, 15.0, 'Shopping Council'],\n",
       "      dtype=object)"
      ]
     },
     "metadata": {},
     "output_type": "display_data"
    },
    {
     "data": {
      "text/plain": [
       "array(['Salvador Norte Shopping', 'São Cristóvão', 'Salvador', 'BA',\n",
       "       'NORDESTE', '2010/11/09', 38943.25, 109618.0, 52868.22,\n",
       "       'Tradicional', 4.0, 1752.0, 192.0, 10.0, 8.0, 13.0, 27.0, 37.0,\n",
       "       27.0, 'JCPM'], dtype=object)"
      ]
     },
     "metadata": {},
     "output_type": "display_data"
    },
    {
     "data": {
      "text/plain": [
       "array(['Maceió Shopping', 'Mangabeiras', 'Maceió', 'AL', 'NORDESTE',\n",
       "       '1989/04/11', 45926.29, 62508.0, 76310.0, 'Tradicional', 2.0,\n",
       "       1600.0, 265.0, 13.0, 6.0, 10.0, 40.0, 30.0, 40.0,\n",
       "       'Pro - Shopping - Administração E Consultoria Para S. C.'],\n",
       "      dtype=object)"
      ]
     },
     "metadata": {},
     "output_type": "display_data"
    },
    {
     "data": {
      "text/plain": [
       "array(['Pátio Limeira Shopping', 'Centro', 'Limeira', 'SP', 'SUDESTE',\n",
       "       '2003/12/19', 18933.35, 64962.88, 16584.4, 'Tradicional', 3.0,\n",
       "       1000.0, 108.0, 6.0, 5.0, 15.0, 75.0, 8.0, 75.0, 'Ad Shopping'],\n",
       "      dtype=object)"
      ]
     },
     "metadata": {},
     "output_type": "display_data"
    },
    {
     "data": {
      "text/plain": [
       "array(['Marília Shopping', 'Jardim Maria Martha', 'Marília', 'SP',\n",
       "       'SUDESTE', '2000/12/07', 18629.0, 26730.9, 61000.0, 'Tradicional',\n",
       "       2.0, 1100.0, 170.0, 5.0, '', '', '', '', '', 'Ad Shopping'],\n",
       "      dtype=object)"
      ]
     },
     "metadata": {},
     "output_type": "display_data"
    },
    {
     "data": {
      "text/plain": [
       "array(['Shopping Pátio Divinópolis', 'Santa Clara', 'Divinópolis', 'MG',\n",
       "       'SUDESTE', '2006/11/30', 14000.0, 29800.0, 29800.0, 'Tradicional',\n",
       "       3.0, '', 216.0, '', 5.0, '', '', '', '', 'Própria'], dtype=object)"
      ]
     },
     "metadata": {},
     "output_type": "display_data"
    },
    {
     "data": {
      "text/plain": [
       "array(['Mais Shopping', 'Santo Amaro', 'São Paulo', 'SP', 'SUDESTE',\n",
       "       '2010/10/29', 22532.0, 50000.0, 18084.04, 'Tradicional', 3.0,\n",
       "       750.0, 153.0, 4.0, 8.0, 6.0, 50.0, 41.0, 50.0, 'Gazit Brasil'],\n",
       "      dtype=object)"
      ]
     },
     "metadata": {},
     "output_type": "display_data"
    },
    {
     "data": {
      "text/plain": [
       "array(['Amapá Garden Shopping', 'Universidade', 'Macapá', 'AP', 'NORTE',\n",
       "       '2013/07/30', 30787.15, 49696.1, 69352.66, 'Tradicional', 3.0,\n",
       "       1170.0, 58.0, 5.0, 8.0, 20.0, 40.0, 30.0, 40.0,\n",
       "       'Tenco Shopping Centers'], dtype=object)"
      ]
     },
     "metadata": {},
     "output_type": "display_data"
    },
    {
     "data": {
      "text/plain": [
       "array(['Porto Alegre CenterLar', 'Sarandi', 'Porto Alegre', 'RS', 'SUL',\n",
       "       '2009/07/30', 22178.0, 56885.0, 32274.0, 'Tradicional', 3.0,\n",
       "       1073.0, 71.0, 4.0, '', 17.0, 38.0, 37.0, 38.0,\n",
       "       'Airaz Administradora'], dtype=object)"
      ]
     },
     "metadata": {},
     "output_type": "display_data"
    },
    {
     "data": {
      "text/plain": [
       "array(['Ita Shopping', 'Centro', 'Itapevi', 'SP', 'SUDESTE', '1999/07/13',\n",
       "       5500.0, 5206.51, 2365.79, 'Tradicional', 2.0, '', 70.0, 1.0, '',\n",
       "       5.0, 20.0, 60.0, 20.0, 'Própria'], dtype=object)"
      ]
     },
     "metadata": {},
     "output_type": "display_data"
    },
    {
     "data": {
      "text/plain": [
       "array(['Boulevard Assis Brasil', 'São Sebastião', 'Porto Alegre', 'RS',\n",
       "       'SUL', '1994/07/08', 6300.0, 12500.0, 17995.0, 'Especializado',\n",
       "       1.0, 450.0, 57.0, 3.0, 2.0, '', '', '', '',\n",
       "       'Masseratti Adm Emp Imobiliários E Participações'], dtype=object)"
      ]
     },
     "metadata": {},
     "output_type": "display_data"
    },
    {
     "data": {
      "text/plain": [
       "array(['Shopping Pelotas', 'AREAL', 'Pelotas', 'RS', 'SUL', '2013/10/03',\n",
       "       23448.0, 38275.07, 89780.76, 'Tradicional', 1.0, 1238.0, 128.0,\n",
       "       8.0, 5.0, 15.0, 45.0, 35.0, 45.0, 'Ad Shopping'], dtype=object)"
      ]
     },
     "metadata": {},
     "output_type": "display_data"
    },
    {
     "data": {
      "text/plain": [
       "array(['Paragem Shopping', 'Buritis', 'Belo Horizonte', 'MG', 'SUDESTE',\n",
       "       '2005/10/25', 4800.0, 15800.0, 5008.0, 'Tradicional', 2.0, 450.0,\n",
       "       60.0, 1.0, 5.0, 25.0, 45.0, 20.0, 45.0, 'Própria'], dtype=object)"
      ]
     },
     "metadata": {},
     "output_type": "display_data"
    },
    {
     "data": {
      "text/plain": [
       "array(['Garten Shopping', 'Bom Retiro', 'joinville', 'SC', 'SUL',\n",
       "       '2010/04/27', 35326.0, 88124.0, 75978.6, 'Tradicional', 2.0,\n",
       "       1400.0, 225.0, 8.0, 6.0, 45.0, 35.0, 12.0, 35.0, 'Almeida Junior'],\n",
       "      dtype=object)"
      ]
     },
     "metadata": {},
     "output_type": "display_data"
    },
    {
     "data": {
      "text/plain": [
       "array(['Via Brasil Shopping', 'Irajá', 'Rio de Janeiro', 'RJ', 'SUDESTE',\n",
       "       '2011/04/27', 37344.37, 137040.6, 19009.55, 'Tradicional', 4.0,\n",
       "       1846.0, 172.0, 7.0, 6.0, '', 38.0, 51.0, 38.0,\n",
       "       'Argo Desenvolvimento e Gestão'], dtype=object)"
      ]
     },
     "metadata": {},
     "output_type": "display_data"
    },
    {
     "data": {
      "text/plain": [
       "array(['Shopping Hortolândia', 'Remanso Campineiro', 'Hortolândia', 'SP',\n",
       "       'SUDESTE', '2011/11/24', 19225.0, 31237.31, 23105.16,\n",
       "       'Tradicional', 3.0, 586.0, 87.0, 6.0, 5.0, '', 15.0, 50.0, 15.0,\n",
       "       'Terral Shopping Centers'], dtype=object)"
      ]
     },
     "metadata": {},
     "output_type": "display_data"
    },
    {
     "data": {
      "text/plain": [
       "array(['Shopping Sete Lagoas', 'Eldorado', 'Sete Lagoas', 'MG', 'SUDESTE',\n",
       "       '2010/10/05', 18411.3, 29151.29, 72331.76, 'Tradicional', 1.0,\n",
       "       803.0, 102.0, 6.0, 4.0, 2.0, 20.0, 66.0, 20.0,\n",
       "       'Argo Desenvolvimento e Gestão'], dtype=object)"
      ]
     },
     "metadata": {},
     "output_type": "display_data"
    },
    {
     "data": {
      "text/plain": [
       "array(['Boulevard Shopping Campos', 'Parque Rodoviário',\n",
       "       'Campos dos Goytacazes', 'RJ', 'SUDESTE', '2011/04/26', 27446.78,\n",
       "       39275.92, 151652.41, 'Tradicional', 1.0, 1800.0, 160.0, 5.0, 5.0,\n",
       "       '', '', '', '', 'Allos'], dtype=object)"
      ]
     },
     "metadata": {},
     "output_type": "display_data"
    },
    {
     "data": {
      "text/plain": [
       "array(['Rio Anil Shopping', 'TURU', 'São Luís', 'MA', 'NORDESTE',\n",
       "       '2010/04/15', 39505.09, 84251.12, 61154.5, 'Tradicional', 3.0,\n",
       "       1531.0, 168.0, 12.0, 6.0, 16.0, 41.0, 43.0, 41.0, 'Allos'],\n",
       "      dtype=object)"
      ]
     },
     "metadata": {},
     "output_type": "display_data"
    },
    {
     "data": {
      "text/plain": [
       "array(['Bourbon Shopping San Pellegrino', 'São Pelegrino',\n",
       "       'Caxias do Sul', 'RS', 'SUL', '2010/11/09', 17270.0, 47798.0,\n",
       "       9880.0, 'Tradicional', 4.0, 454.0, 83.0, 3.0, 6.0, 14.0, 68.0,\n",
       "       10.0, 68.0, 'Airaz Administradora'], dtype=object)"
      ]
     },
     "metadata": {},
     "output_type": "display_data"
    },
    {
     "data": {
      "text/plain": [
       "array(['New York City Center', 'Barra da Tijuca', 'Rio de Janeiro', 'RJ',\n",
       "       'SUDESTE', '1999/11/04', 21796.0, 66381.0, 18214.0, 'Tradicional',\n",
       "       2.0, 1080.0, 30.0, 4.0, 18.0, 10.0, 60.0, 25.0, 60.0, 'Multiplan'],\n",
       "      dtype=object)"
      ]
     },
     "metadata": {},
     "output_type": "display_data"
    },
    {
     "data": {
      "text/plain": [
       "array(['Partage Shopping Parauapebas',\n",
       "       'Loteamento Núcleo Residencial e de Serviços Carajás',\n",
       "       'Parauapebas', 'PA', 'NORTE', '2011/05/18', 18774.02, 26097.22,\n",
       "       24743.36, 'Tradicional', 1.0, 480.0, 101.0, 6.0, 4.0, '', '', '',\n",
       "       '', 'Partage Shopping'], dtype=object)"
      ]
     },
     "metadata": {},
     "output_type": "display_data"
    },
    {
     "data": {
      "text/plain": [
       "array(['Lages Garden Shopping', 'Bates', 'Lages', 'SC', 'SUL',\n",
       "       '2014/11/20', 22130.0, 71435.98, 42212.0, 'Tradicional', 1.0,\n",
       "       900.0, 127.0, 7.0, '', '', '', '', '', 'Tenco Shopping Centers'],\n",
       "      dtype=object)"
      ]
     },
     "metadata": {},
     "output_type": "display_data"
    },
    {
     "data": {
      "text/plain": [
       "array(['Polo Caruaru', 'Nova Caruaru', 'Caruaru', 'PE', 'NORDESTE',\n",
       "       '2004/11/25', 35811.0, 63000.0, 157270.0, 'Especializado', 1.0,\n",
       "       6000.0, 182.0, 1.0, '', 15.0, 35.0, 35.0, 35.0, 'Própria'],\n",
       "      dtype=object)"
      ]
     },
     "metadata": {},
     "output_type": "display_data"
    },
    {
     "data": {
      "text/plain": [
       "array(['Shopping Da Gávea', 'Gávea', 'Rio de Janeiro', 'RJ', 'SUDESTE',\n",
       "       '1975/05/26', 35000.0, 55422.0, 11123.7, 'Tradicional', 8.0, 900.0,\n",
       "       246.0, 5.0, 5.0, 90.0, 10.0, '', 10.0, 'Própria'], dtype=object)"
      ]
     },
     "metadata": {},
     "output_type": "display_data"
    },
    {
     "data": {
      "text/plain": [
       "array(['Shopping Cidade Jardim Natal', 'Capim Macio', 'Natal', 'RN',\n",
       "       'NORDESTE', '1984/10/01', 5238.0, 8002.56, 13392.34, 'Tradicional',\n",
       "       1.0, 240.0, 98.0, '', '', 13.0, 47.0, 23.0, 47.0, 'Própria'],\n",
       "      dtype=object)"
      ]
     },
     "metadata": {},
     "output_type": "display_data"
    },
    {
     "data": {
      "text/plain": [
       "array(['Partage Shopping São Gonçalo', 'São Gonçalo', 'São Gonçalo', 'RJ',\n",
       "       'SUDESTE', '2010/11/30', 30830.25, 76571.07, 26291.81,\n",
       "       'Tradicional', 5.0, 723.0, 184.0, 6.0, 6.0, 10.0, 10.0, 50.0, 10.0,\n",
       "       'Partage Shopping'], dtype=object)"
      ]
     },
     "metadata": {},
     "output_type": "display_data"
    },
    {
     "data": {
      "text/plain": [
       "array(['Shopping Iguatemi Alphaville', 'Alphaville', 'Barueri', 'SP',\n",
       "       'SUDESTE', '2011/04/28', 30985.0, '', '', 'Tradicional', 4.0,\n",
       "       1690.0, 167.0, '', 9.0, 90.0, 10.0, '', 10.0,\n",
       "       'Iguatemi Empresa de Shopping Centers'], dtype=object)"
      ]
     },
     "metadata": {},
     "output_type": "display_data"
    },
    {
     "data": {
      "text/plain": [
       "array(['Norte Shopping', 'Salto do Norte', 'Blumenau', 'SC', 'SUL',\n",
       "       '2011/05/28', 35747.0, 81308.0, 105067.0, 'Tradicional', 2.0,\n",
       "       1300.0, 187.0, 6.0, 7.0, 20.0, 40.0, 30.0, 40.0, 'Almeida Junior'],\n",
       "      dtype=object)"
      ]
     },
     "metadata": {},
     "output_type": "display_data"
    },
    {
     "data": {
      "text/plain": [
       "array(['Polo Shopping Indaiatuba', 'Jardim Tropical', 'Indaiatuba', 'SP',\n",
       "       'SUDESTE', '2011/04/28', 36000.0, 50000.0, 120000.0, 'Tradicional',\n",
       "       1.0, 1700.0, 142.0, 11.0, 5.0, 8.0, 30.0, 47.0, 30.0,\n",
       "       'Bolsa De Imóveis Di E Jrg Desenvolvimento Imobiliário'],\n",
       "      dtype=object)"
      ]
     },
     "metadata": {},
     "output_type": "display_data"
    },
    {
     "data": {
      "text/plain": [
       "array(['Manaus Plaza Shopping', 'chapada', 'Manaus', 'AM', 'NORTE',\n",
       "       '2009/05/01', 22869.43, 83510.23, 29804.57, 'Tradicional', 5.0,\n",
       "       1065.0, 113.0, 7.0, 8.0, 10.0, 30.0, 51.0, 30.0, 'Tv Lar'],\n",
       "      dtype=object)"
      ]
     },
     "metadata": {},
     "output_type": "display_data"
    },
    {
     "data": {
      "text/plain": [
       "array(['Shopping Prêmio Socorro', 'CONJUNTO MARCOS FREIRE I',\n",
       "       'Nossa Senhora do Socorro', 'SE', 'NORDESTE', '2011/10/01',\n",
       "       29000.0, 35000.0, 65000.0, 'Tradicional', 2.0, 1300.0, 195.0, 12.0,\n",
       "       4.0, 5.0, 30.0, 60.0, 30.0, 'Própria'], dtype=object)"
      ]
     },
     "metadata": {},
     "output_type": "display_data"
    },
    {
     "data": {
      "text/plain": [
       "array(['Grand Shopping', 'Messejana', 'Fortaleza', 'CE', 'NORDESTE',\n",
       "       '2016/08/10', 14000.0, 31102.06, 12945.86, 'Tradicional', 4.0,\n",
       "       970.0, 182.0, 3.0, 5.0, 2.0, 15.0, 40.0, 15.0, 'Própria'],\n",
       "      dtype=object)"
      ]
     },
     "metadata": {},
     "output_type": "display_data"
    },
    {
     "data": {
      "text/plain": [
       "array(['Shopping Pátio Mix Resende', 'Fazenda do Castelo', 'Resende',\n",
       "       'RJ', 'SUDESTE', '2011/06/17', 25000.0, 30000.0, '', 'Tradicional',\n",
       "       1.0, 1600.0, 90.0, 4.0, 4.0, '', 20.0, 50.0, 20.0, 'Própria'],\n",
       "      dtype=object)"
      ]
     },
     "metadata": {},
     "output_type": "display_data"
    },
    {
     "data": {
      "text/plain": [
       "array(['Shopping da Ilha', 'Cohama', 'São Luís', 'MA', 'NORDESTE',\n",
       "       '2011/12/20', 51196.69, 177657.17, 43019.4, 'Tradicional', 4.0,\n",
       "       2306.0, 249.0, 11.0, 8.0, 19.0, 47.0, 30.0, 47.0, 'Sa Cavalcante'],\n",
       "      dtype=object)"
      ]
     },
     "metadata": {},
     "output_type": "display_data"
    },
    {
     "data": {
      "text/plain": [
       "array(['Bourbon Shopping Wallig', 'Passo dAreia', 'Porto Alegre', 'RS',\n",
       "       'SUL', '2012/04/26', 43461.0, 199201.0, 33824.0, 'Tradicional',\n",
       "       5.0, 2851.0, 206.0, 7.0, 6.0, 8.0, 35.0, 51.0, 35.0,\n",
       "       'Airaz Administradora'], dtype=object)"
      ]
     },
     "metadata": {},
     "output_type": "display_data"
    },
    {
     "data": {
      "text/plain": [
       "array(['Shopping Jardim Guadalupe', 'Guadalupe', 'Rio de Janeiro', 'RJ',\n",
       "       'SUDESTE', '2011/11/24', 40890.05, 91714.3, 63900.0, 'Tradicional',\n",
       "       2.0, 1443.0, 191.0, 10.0, 5.0, '', 15.0, 76.0, 15.0, 'Gafisa'],\n",
       "      dtype=object)"
      ]
     },
     "metadata": {},
     "output_type": "display_data"
    },
    {
     "data": {
      "text/plain": [
       "array(['Vitória Park Shopping', 'Redenção', 'Vitória de Santo Antão',\n",
       "       'PE', 'NORDESTE', '2013/11/28', 14675.2, 22500.0, 43000.0,\n",
       "       'Tradicional', 3.0, 1000.0, 134.0, '', 4.0, 20.0, 40.0, 30.0, 40.0,\n",
       "       'Class Empreendimentos'], dtype=object)"
      ]
     },
     "metadata": {},
     "output_type": "display_data"
    },
    {
     "data": {
      "text/plain": [
       "array(['Gravataí Shopping Center', 'Passo das Pedras', 'Gravataí', 'RS',\n",
       "       'SUL', '2013/11/21', 22071.48, 32383.36, 71162.72, 'Tradicional',\n",
       "       1.0, 950.0, 123.0, 6.0, 5.0, 5.0, 40.0, 50.0, 40.0,\n",
       "       'Shopping Council'], dtype=object)"
      ]
     },
     "metadata": {},
     "output_type": "display_data"
    },
    {
     "data": {
      "text/plain": [
       "array(['Portal Shopping', 'Capuava', 'Goiânia', 'GO', 'CENTRO-OESTE',\n",
       "       '2006/11/24', 26540.0, 71384.0, 42782.38, 'Tradicional', '',\n",
       "       1214.0, 138.0, '', 3.0, '', '', '', '', 'Terral Shopping Centers'],\n",
       "      dtype=object)"
      ]
     },
     "metadata": {},
     "output_type": "display_data"
    },
    {
     "data": {
      "text/plain": [
       "array(['ParkShopping São Caetano', 'Cerâmica', 'São Caetano do Sul', 'SP',\n",
       "       'SUDESTE', '2011/11/09', 39253.0, 109968.4, 69467.53,\n",
       "       'Tradicional', 2.0, 2240.0, 250.0, 8.0, 7.0, 31.0, 56.0, 12.0,\n",
       "       56.0, 'Multiplan'], dtype=object)"
      ]
     },
     "metadata": {},
     "output_type": "display_data"
    },
    {
     "data": {
      "text/plain": [
       "array(['Shopping Pátio Pinda', 'Nossa Senhora do Perpetuo Socorro',\n",
       "       'Pindamonhangaba', 'SP', 'SUDESTE', '2013/11/21', 22837.32,\n",
       "       31435.82, 120000.0, 'Tradicional', 1.0, 1286.0, 112.0, 5.0, 4.0,\n",
       "       12.0, 31.0, 49.0, 31.0, 'Ad Shopping'], dtype=object)"
      ]
     },
     "metadata": {},
     "output_type": "display_data"
    },
    {
     "data": {
      "text/plain": [
       "array(['Shopping Granja Vianna', 'Lageadinho', 'Cotia', 'SP', 'SUDESTE',\n",
       "       '2010/11/24', 30356.0, 86861.1, 32952.0, 'Tradicional', 5.0,\n",
       "       1199.0, 159.0, 8.0, 5.0, 21.0, 36.0, 43.0, 36.0, 'Saphyr'],\n",
       "      dtype=object)"
      ]
     },
     "metadata": {},
     "output_type": "display_data"
    },
    {
     "data": {
      "text/plain": [
       "array(['Shopping Riomar Recife', 'Pina', 'Recife', 'PE', 'NORDESTE',\n",
       "       '2012/10/30', 103000.0, 295000.0, 201710.0, 'Tradicional', 5.0,\n",
       "       6200.0, 408.0, 20.0, 12.0, 35.0, 39.0, 26.0, 39.0, 'JCPM'],\n",
       "      dtype=object)"
      ]
     },
     "metadata": {},
     "output_type": "display_data"
    },
    {
     "data": {
      "text/plain": [
       "array(['Pátio Batel', 'Batel', 'Curitiba', 'PR', 'SUL', '2013/09/10',\n",
       "       28667.0, 137000.0, 20450.0, 'Tradicional', 4.0, 2300.0, 198.0, '',\n",
       "       '', '', '', '', '', 'Soifer'], dtype=object)"
      ]
     },
     "metadata": {},
     "output_type": "display_data"
    },
    {
     "data": {
      "text/plain": [
       "array(['Boulevard Shopping Bauru', 'Chácara das Flores', 'Bauru', 'SP',\n",
       "       'SUDESTE', '2012/11/29', 34660.78, 69886.84, 51383.39,\n",
       "       'Tradicional', 4.0, 1450.0, 164.0, 11.0, 6.0, 20.0, 30.0, 30.0,\n",
       "       30.0, 'Allos'], dtype=object)"
      ]
     },
     "metadata": {},
     "output_type": "display_data"
    },
    {
     "data": {
      "text/plain": [
       "array(['Shopping Park Europeu', 'Itoupava Norte', 'Blumenau', 'SC', 'SUL',\n",
       "       '2011/12/08', 34803.83, 97852.76, 40936.52, 'Tradicional', 2.0,\n",
       "       1460.0, 128.0, 8.0, 5.0, 10.0, 40.0, 48.0, 40.0,\n",
       "       'Argo Desenvolvimento e Gestão'], dtype=object)"
      ]
     },
     "metadata": {},
     "output_type": "display_data"
    },
    {
     "data": {
      "text/plain": [
       "array(['Partage Shopping Marabá', 'NOVA MARABA', 'Marabá', 'PA', 'NORTE',\n",
       "       '2013/05/07', 39502.14, 98468.33, 34212.23, 'Tradicional', 4.0,\n",
       "       1421.0, 155.0, 12.0, '', '', '', '', '', 'Partage Shopping'],\n",
       "      dtype=object)"
      ]
     },
     "metadata": {},
     "output_type": "display_data"
    },
    {
     "data": {
      "text/plain": [
       "array(['Shopping Cidade Sorocaba', 'Jd. Santa Cecília', 'Sorocaba', 'SP',\n",
       "       'SUDESTE', '2013/09/27', 35884.0, 119130.0, 60000.0, 'Tradicional',\n",
       "       '', '', '', '', 4.0, '', '', '', '', 'Tacla Shopping'],\n",
       "      dtype=object)"
      ]
     },
     "metadata": {},
     "output_type": "display_data"
    },
    {
     "data": {
      "text/plain": [
       "array(['Pátio Shopping Chapecó', 'líder', 'Chapecó', 'SC', 'SUL',\n",
       "       '2011/10/05', 20518.39, 49474.37, 47605.0, 'Tradicional', 2.0,\n",
       "       1013.0, 101.0, 6.0, 4.0, 10.0, 30.0, 40.0, 30.0, 'Ad Shopping'],\n",
       "      dtype=object)"
      ]
     },
     "metadata": {},
     "output_type": "display_data"
    },
    {
     "data": {
      "text/plain": [
       "array(['Partage Shopping Betim', 'São João', 'Betim', 'MG', 'SUDESTE',\n",
       "       '2013/07/10', 49149.0, 108782.36, 107929.3, 'Tradicional', 4.0,\n",
       "       2400.0, 194.0, 11.0, 7.0, 2.0, 12.0, 48.0, 12.0,\n",
       "       'Partage Shopping'], dtype=object)"
      ]
     },
     "metadata": {},
     "output_type": "display_data"
    },
    {
     "data": {
      "text/plain": [
       "array(['Ipê Shopping', 'Residencial Michelangelo', 'Mineiros', 'GO',\n",
       "       'CENTRO-OESTE', '2011/09/15', 7288.0, 12390.0, 27000.0,\n",
       "       'Tradicional', 1.0, 380.0, 62.0, 2.0, 3.0, 15.0, 30.0, 40.0, 30.0,\n",
       "       'ABL Prime'], dtype=object)"
      ]
     },
     "metadata": {},
     "output_type": "display_data"
    },
    {
     "data": {
      "text/plain": [
       "array(['Arapiraca Garden Shopping', 'Caitituis', 'Arapiraca', 'AL',\n",
       "       'NORDESTE', '2013/09/25', 30710.44, 72388.49, 56570.0,\n",
       "       'Tradicional', 2.0, 1700.0, 158.0, '', '', '', '', '', '',\n",
       "       'Tenco Shopping Centers'], dtype=object)"
      ]
     },
     "metadata": {},
     "output_type": "display_data"
    },
    {
     "data": {
      "text/plain": [
       "array(['Norte Sul Plaza', 'Jockey Club', 'Campo Grande', 'MS',\n",
       "       'CENTRO-OESTE', '2011/05/25', 38912.0, 49745.24, 91470.66,\n",
       "       'Tradicional', 1.0, 1234.0, 137.0, 5.0, 7.0, 12.0, 33.0, 50.0,\n",
       "       33.0, 'Argo Desenvolvimento e Gestão'], dtype=object)"
      ]
     },
     "metadata": {},
     "output_type": "display_data"
    },
    {
     "data": {
      "text/plain": [
       "array(['Mooca Plaza Shopping', 'Mooca', 'São Paulo', 'SP', 'SUDESTE',\n",
       "       '2011/11/29', 42074.98, 74741.43, 141277.28, 'Tradicional', 2.0,\n",
       "       2502.0, 214.0, 8.0, 6.0, 27.0, 56.0, 16.0, 56.0, 'Allos'],\n",
       "      dtype=object)"
      ]
     },
     "metadata": {},
     "output_type": "display_data"
    },
    {
     "data": {
      "text/plain": [
       "array(['North Shopping Jóquei', 'Jóquei Clube', 'Fortaleza', 'CE',\n",
       "       'NORDESTE', '2013/10/30', 35576.54, 78095.0, 57656.0,\n",
       "       'Tradicional', 3.0, 1964.0, 174.0, 9.0, 5.0, 2.0, 39.0, 52.0, 39.0,\n",
       "       'Ancar Ivanhoe'], dtype=object)"
      ]
     },
     "metadata": {},
     "output_type": "display_data"
    },
    {
     "data": {
      "text/plain": [
       "array(['Itapevi Center', 'Parque Boa Esperança', 'Itapevi', 'SP',\n",
       "       'SUDESTE', '2011/11/01', 7268.5, 13408.0, 29127.5, 'Tradicional',\n",
       "       1.0, 490.0, 64.0, 1.0, '', '', '', '', '', 'Própria'], dtype=object)"
      ]
     },
     "metadata": {},
     "output_type": "display_data"
    },
    {
     "data": {
      "text/plain": [
       "array(['Portal Sul Shopping', 'Jardins Lisboa', 'Goiânia', 'GO',\n",
       "       'CENTRO-OESTE', '2010/11/30', 11922.0, 13165.0, 31083.0,\n",
       "       'Especializado', 1.0, 598.0, 60.0, 4.0, 4.0, '', 38.0, 62.0, 38.0,\n",
       "       'Própria'], dtype=object)"
      ]
     },
     "metadata": {},
     "output_type": "display_data"
    },
    {
     "data": {
      "text/plain": [
       "array(['Continente Shopping', 'Distrito Industrial', 'São José', 'SC',\n",
       "       'SUL', '2012/10/27', 44297.9, 116018.0, 132724.0, 'Tradicional',\n",
       "       2.0, 1800.0, 192.0, 9.0, 8.0, '', '', '', '', 'Almeida Junior'],\n",
       "      dtype=object)"
      ]
     },
     "metadata": {},
     "output_type": "display_data"
    },
    {
     "data": {
      "text/plain": [
       "array(['Jundiaíshopping', 'Anhangabaú', 'Jundiaí', 'SP', 'SUDESTE',\n",
       "       '2012/10/18', 36468.0, 113845.0, 45000.0, 'Tradicional', 3.0,\n",
       "       1671.0, 224.0, 6.0, 10.0, 15.0, 75.0, 10.0, 75.0, 'Multiplan'],\n",
       "      dtype=object)"
      ]
     },
     "metadata": {},
     "output_type": "display_data"
    },
    {
     "data": {
      "text/plain": [
       "array(['Boulevard Shopping Vila Velha', 'Jockey Itaparica', 'Vila Velha',\n",
       "       'ES', 'SUDESTE', '2012/11/27', 37828.08, 110000.0, 118762.0,\n",
       "       'Tradicional', 3.0, 2300.0, 125.0, 9.0, 6.0, '', '', '', '',\n",
       "       'NIAD'], dtype=object)"
      ]
     },
     "metadata": {},
     "output_type": "display_data"
    },
    {
     "data": {
      "text/plain": [
       "array(['Shopping Metropolitano Barra', 'Jacarepagua', 'Rio de Janeiro',\n",
       "       'RJ', 'SUDESTE', '2013/12/05', 44111.16, 164196.0, 205334.8,\n",
       "       'Tradicional', 3.0, 2600.0, 196.0, 8.0, '', '', '', '', '', 'SYN'],\n",
       "      dtype=object)"
      ]
     },
     "metadata": {},
     "output_type": "display_data"
    },
    {
     "data": {
      "text/plain": [
       "array(['Shopping Center Bosque Dos Ipês', 'Novos Estados', 'Campo Grande',\n",
       "       'MS', 'CENTRO-OESTE', '2013/08/15', 38000.0, 64065.47, 144500.0,\n",
       "       'Tradicional', 2.0, 2211.0, 135.0, 6.0, 6.0, 10.0, 35.0, 50.0,\n",
       "       35.0, 'J.C.C.'], dtype=object)"
      ]
     },
     "metadata": {},
     "output_type": "display_data"
    },
    {
     "data": {
      "text/plain": [
       "array(['Shopping Park Botucatu', 'Vl. Real', 'Botucatu', 'SP', 'SUDESTE',\n",
       "       '2014/05/30', 26342.0, 38717.9, 79492.94, 'Tradicional', 1.0,\n",
       "       1342.0, 169.0, 4.0, 5.0, 15.0, 25.0, 45.0, 25.0, 'Própria'],\n",
       "      dtype=object)"
      ]
     },
     "metadata": {},
     "output_type": "display_data"
    },
    {
     "data": {
      "text/plain": [
       "array(['Shopping Bela Vista', 'Horto Bela Vista', 'Salvador', 'BA',\n",
       "       'NORDESTE', '2012/07/13', 51185.18, 117000.0, 72000.0,\n",
       "       'Tradicional', 3.0, 3000.0, 197.0, 16.0, 9.0, 7.0, 44.0, 44.0,\n",
       "       44.0,\n",
       "       'Bela Vista Administradora De Condominios E Shopping Centers S.a'],\n",
       "      dtype=object)"
      ]
     },
     "metadata": {},
     "output_type": "display_data"
    },
    {
     "data": {
      "text/plain": [
       "array(['Itaboraí Plaza', 'Três Pontes', 'Itaboraí', 'RJ', 'SUDESTE',\n",
       "       '2015/02/26', 42050.0, 87400.0, 63000.0, 'Tradicional', 3.0,\n",
       "       1100.0, 160.0, 10.0, 5.0, '', '', 70.0, '',\n",
       "       'Argo Desenvolvimento e Gestão'], dtype=object)"
      ]
     },
     "metadata": {},
     "output_type": "display_data"
    },
    {
     "data": {
      "text/plain": [
       "array(['Parque Shopping Belém', 'PARQUE VERDE', 'Belém', 'PA', 'NORTE',\n",
       "       '2012/04/25', 33937.04, 100740.59, 57585.07, 'Tradicional', 3.0,\n",
       "       1300.0, 131.0, 12.0, 7.0, 10.0, 20.0, 40.0, 20.0, 'Allos'],\n",
       "      dtype=object)"
      ]
     },
     "metadata": {},
     "output_type": "display_data"
    },
    {
     "data": {
      "text/plain": [
       "array(['Uberlândia Shopping', 'Morada da Colina', 'Uberlândia', 'MG',\n",
       "       'SUDESTE', '2012/03/28', 53425.85, 79160.2, 156224.15,\n",
       "       'Tradicional', 2.0, 2368.0, 195.0, 9.0, 6.0, 28.0, 45.0, 16.0,\n",
       "       45.0, 'Saphyr'], dtype=object)"
      ]
     },
     "metadata": {},
     "output_type": "display_data"
    },
    {
     "data": {
      "text/plain": [
       "array(['Londrina Norte Shopping', 'Pacaembu', 'Londrina', 'PR', 'SUL',\n",
       "       '2012/11/01', 32085.0, 53645.0, '', 'Tradicional', 1.0, 1496.0,\n",
       "       117.0, 10.0, 6.0, 5.0, 60.0, 30.0, 60.0, 'Soul Malls'],\n",
       "      dtype=object)"
      ]
     },
     "metadata": {},
     "output_type": "display_data"
    },
    {
     "data": {
      "text/plain": [
       "array(['Boulevard Londrina Shopping', 'Jd Helena', 'Londrina', 'PR',\n",
       "       'SUL', '2013/05/03', 48104.0, 126724.19, 80000.0, 'Tradicional',\n",
       "       2.0, 2400.0, 210.0, 11.0, 7.0, 15.0, 61.0, 23.0, 61.0, 'NIAD'],\n",
       "      dtype=object)"
      ]
     },
     "metadata": {},
     "output_type": "display_data"
    },
    {
     "data": {
      "text/plain": [
       "array(['ParkShoppingCampoGrande', 'Campo Grande', 'Rio de Janeiro', 'RJ',\n",
       "       'SUDESTE', '2012/11/29', 43819.58, 108693.25, 304359.44,\n",
       "       'Tradicional', 3.0, 2740.0, 289.0, 10.0, 7.0, 8.0, 58.0, 34.0,\n",
       "       58.0, 'Multiplan'], dtype=object)"
      ]
     },
     "metadata": {},
     "output_type": "display_data"
    },
    {
     "data": {
      "text/plain": [
       "array(['Brasil Park Shopping', 'Centro', 'Anápolis', 'GO', 'CENTRO-OESTE',\n",
       "       '2008/11/21', 21683.4, 40048.55, 30749.59, 'Tradicional', 3.0,\n",
       "       695.0, 130.0, 4.0, 5.0, 10.0, 69.0, 21.0, 69.0,\n",
       "       'Terral Shopping Centers'], dtype=object)"
      ]
     },
     "metadata": {},
     "output_type": "display_data"
    },
    {
     "data": {
      "text/plain": [
       "array(['Buriti Shopping Mogi Guaçu', 'Varjão', 'Mogi Guaçu', 'SP',\n",
       "       'SUDESTE', '2012/11/22', 20915.0, 32179.16, 169076.43,\n",
       "       'Tradicional', 1.0, 1400.0, 94.0, 6.0, 5.0, 18.0, 59.0, 22.0, 59.0,\n",
       "       'Terral Shopping Centers'], dtype=object)"
      ]
     },
     "metadata": {},
     "output_type": "display_data"
    },
    {
     "data": {
      "text/plain": [
       "array(['Águas Lindas Shopping', 'Mansões Centro Oestre',\n",
       "       'Águas Lindas de Goiás', 'GO', 'CENTRO-OESTE', '2012/05/31',\n",
       "       15206.0, 19421.21, 67787.66, 'Tradicional', 1.0, 980.0, 67.0, 3.0,\n",
       "       4.0, '', 30.0, 60.0, 30.0, 'Terral Shopping Centers'], dtype=object)"
      ]
     },
     "metadata": {},
     "output_type": "display_data"
    },
    {
     "data": {
      "text/plain": [
       "array(['Shopping Ponta Negra', 'Ponta Negra', 'Manaus', 'AM', 'NORTE',\n",
       "       '2013/08/07', 36039.9, 96310.18, 53263.82, 'Tradicional', 3.0,\n",
       "       1895.0, 149.0, 7.0, '', 28.0, 49.0, 20.0, 49.0, 'JHSF'],\n",
       "      dtype=object)"
      ]
     },
     "metadata": {},
     "output_type": "display_data"
    },
    {
     "data": {
      "text/plain": [
       "array(['VillageMall', 'Barra da Tijuca', 'Rio de Janeiro', 'RJ',\n",
       "       'SUDESTE', '2012/12/04', 28411.22, 126662.79, 36748.05,\n",
       "       'Especializado', 3.0, 1519.0, 117.0, 4.0, 4.0, 100.0, '', '', '',\n",
       "       'Multiplan'], dtype=object)"
      ]
     },
     "metadata": {},
     "output_type": "display_data"
    },
    {
     "data": {
      "text/plain": [
       "array(['SHOPPING PARK LAGOS', 'Portinho', 'Cabo Frio', 'RJ', 'SUDESTE',\n",
       "       '2013/12/10', 27219.8, 38868.79, 98729.78, 'Tradicional', 1.0,\n",
       "       1079.0, 143.0, 8.0, 6.0, 10.0, 20.0, 60.0, 20.0,\n",
       "       'Argo Desenvolvimento e Gestão'], dtype=object)"
      ]
     },
     "metadata": {},
     "output_type": "display_data"
    },
    {
     "data": {
      "text/plain": [
       "array(['Outlet Premium Brasília', 'Serra do ouro', 'Alexânia', 'GO',\n",
       "       'CENTRO-OESTE', '2012/07/19', 17360.0, '', '', 'Especializado',\n",
       "       1.0, 1966.0, 79.0, '', '', '', '', '', '',\n",
       "       'General Shopping&Outlets'], dtype=object)"
      ]
     },
     "metadata": {},
     "output_type": "display_data"
    },
    {
     "data": {
      "text/plain": [
       "array(['Via Vale Garden Shopping', 'JARDIM BARONESA', 'Taubaté', 'SP',\n",
       "       'SUDESTE', '2012/12/13', 34332.27, 67521.14, 81094.47,\n",
       "       'Tradicional', 2.0, 1576.0, 133.0, 7.0, 6.0, '', '', '', '',\n",
       "       'Tenco Shopping Centers'], dtype=object)"
      ]
     },
     "metadata": {},
     "output_type": "display_data"
    },
    {
     "data": {
      "text/plain": [
       "array(['Shopping Pátiomix Costa Verde', 'Zona Industrial', 'Itaguaí',\n",
       "       'RJ', 'SUDESTE', '2010/10/28', 12428.84, 15212.0, 54436.0,\n",
       "       'Tradicional', 1.0, 588.0, 70.0, 4.0, 4.0, 15.0, 25.0, 40.0, 25.0,\n",
       "       'Própria'], dtype=object)"
      ]
     },
     "metadata": {},
     "output_type": "display_data"
    },
    {
     "data": {
      "text/plain": [
       "array(['Parque Shopping Maceió', 'Cruz das Almas', 'Maceió', 'AL',\n",
       "       'NORDESTE', '2013/11/07', 39965.09, 57980.5, 104250.38,\n",
       "       'Tradicional', 3.0, 2000.0, 200.0, '', 9.0, 41.0, 30.0, 20.0, 30.0,\n",
       "       'Multiplan'], dtype=object)"
      ]
     },
     "metadata": {},
     "output_type": "display_data"
    },
    {
     "data": {
      "text/plain": [
       "array(['Tietê Plaza Shopping', 'Pirituba', 'São Paulo', 'SP', 'SUDESTE',\n",
       "       '2013/12/18', 37360.0, 121468.0, 45599.0, 'Tradicional', 3.0,\n",
       "       2400.0, 207.0, 5.0, 7.0, 12.0, 19.0, 42.0, 19.0, 'SYN'],\n",
       "      dtype=object)"
      ]
     },
     "metadata": {},
     "output_type": "display_data"
    },
    {
     "data": {
      "text/plain": [
       "array(['Viabrasil Pampulha', 'Jardim Atlântico', 'Belo Horizonte', 'MG',\n",
       "       'SUDESTE', '1988/02/01', 17941.0, 23500.0, 26238.0, 'Tradicional',\n",
       "       2.0, 400.0, 88.0, 3.0, '', 7.0, 8.0, 43.0, 8.0, 'Própria'],\n",
       "      dtype=object)"
      ]
     },
     "metadata": {},
     "output_type": "display_data"
    },
    {
     "data": {
      "text/plain": [
       "array(['SHOPPING METRÓPOLE ANANINDEUA', 'Coqueiro', 'Ananindeua', 'PA',\n",
       "       'NORTE', '2017/11/21', 51000.0, 114000.0, 183933.0, 'Tradicional',\n",
       "       4.0, 2500.0, 220.0, 16.0, 10.0, 20.0, 30.0, 35.0, 30.0,\n",
       "       'Sa Cavalcante'], dtype=object)"
      ]
     },
     "metadata": {},
     "output_type": "display_data"
    },
    {
     "data": {
      "text/plain": [
       "array(['Shopping Parque Das Bandeiras', 'Jardim Ipaussurama', 'Campinas',\n",
       "       'SP', 'SUDESTE', '2012/11/09', 42488.06, 67598.24, 342730.81,\n",
       "       'Tradicional', 4.0, 1953.0, 181.0, 8.0, 6.0, 9.0, 56.0, 35.0, 56.0,\n",
       "       'Ancar Ivanhoe'], dtype=object)"
      ]
     },
     "metadata": {},
     "output_type": "display_data"
    },
    {
     "data": {
      "text/plain": [
       "array(['Pátio Cianê Shopping', 'Centro', 'Sorocaba', 'SP', 'SUDESTE',\n",
       "       '2013/11/22', 27401.0, 80495.73, 47000.0, 'Tradicional', 2.0,\n",
       "       1320.0, 168.0, 8.0, 6.0, 1.0, 1.0, 31.0, 1.0, 'Saphyr'],\n",
       "      dtype=object)"
      ]
     },
     "metadata": {},
     "output_type": "display_data"
    },
    {
     "data": {
      "text/plain": [
       "array(['Shopping Cidade Norte', 'JARDIM PLANALTO',\n",
       "       'São José do Rio Preto', 'SP', 'SUDESTE', '2012/12/10', 25676.8,\n",
       "       26513.08, 70597.07, 'Especializado', 1.0, 900.0, 101.0, 7.0, 3.0,\n",
       "       10.0, 20.0, 65.0, 20.0, 'Própria'], dtype=object)"
      ]
     },
     "metadata": {},
     "output_type": "display_data"
    },
    {
     "data": {
      "text/plain": [
       "array(['Parque Shopping Barueri', 'Aldeia', 'Barueri', 'SP', 'SUDESTE',\n",
       "       '2011/11/30', 36300.0, '', '', 'Tradicional', 3.0, 885.0, 155.0,\n",
       "       7.0, 9.0, '', '', '', '', 'General Shopping&Outlets'], dtype=object)"
      ]
     },
     "metadata": {},
     "output_type": "display_data"
    },
    {
     "data": {
      "text/plain": [
       "array(['Parnaíba Shopping', 'Reis Velloso', 'Parnaíba', 'PI', 'NORDESTE',\n",
       "       '2014/02/24', 12310.2, 25610.35, 25290.0, 'Tradicional', 2.0,\n",
       "       568.0, 124.0, 5.0, 4.0, 11.0, 48.0, 22.0, 48.0, 'Própria'],\n",
       "      dtype=object)"
      ]
     },
     "metadata": {},
     "output_type": "display_data"
    },
    {
     "data": {
      "text/plain": [
       "array(['Sobral Shopping', 'DOM EXPEDITO', 'Sobral', 'CE', 'NORDESTE',\n",
       "       '2013/05/03', 23200.0, 69940.0, 38170.0, 'Tradicional', 2.0, 860.0,\n",
       "       165.0, 7.0, 5.0, 10.0, 30.0, 40.0, 30.0, 'Própria'], dtype=object)"
      ]
     },
     "metadata": {},
     "output_type": "display_data"
    },
    {
     "data": {
      "text/plain": [
       "array(['Partage Norte Shopping Natal', 'Potengi', 'Natal', 'RN',\n",
       "       'NORDESTE', '2007/12/06', 39159.76, 97887.04, 60404.02,\n",
       "       'Tradicional', 3.0, 930.0, 142.0, 6.0, 6.0, 0.0, 10.0, 80.0, 10.0,\n",
       "       'Partage Shopping'], dtype=object)"
      ]
     },
     "metadata": {},
     "output_type": "display_data"
    },
    {
     "data": {
      "text/plain": [
       "array(['Shopping Contagem', 'Cabral', 'Contagem', 'MG', 'SUDESTE',\n",
       "       '2013/11/26', 34934.0, 117000.0, 37787.0, 'Tradicional', 3.0,\n",
       "       2300.0, 207.0, 9.0, 8.0, 10.0, 25.0, 45.0, 25.0, 'Soul Malls'],\n",
       "      dtype=object)"
      ]
     },
     "metadata": {},
     "output_type": "display_data"
    },
    {
     "data": {
      "text/plain": [
       "array(['Shopping Estação BH', 'Venda Nova', 'Belo Horizonte', 'MG',\n",
       "       'SUDESTE', '2012/05/23', 37463.8, 143293.0, 58457.0, 'Tradicional',\n",
       "       5.0, 1877.0, 179.0, 7.0, 6.0, 20.0, 20.0, 50.0, 20.0, 'Allos'],\n",
       "      dtype=object)"
      ]
     },
     "metadata": {},
     "output_type": "display_data"
    },
    {
     "data": {
      "text/plain": [
       "array(['São Bernardo Plaza Shopping', 'Ferrazópolis',\n",
       "       'São Bernardo do Campo', 'SP', 'SUDESTE', '2012/11/13', 42874.1,\n",
       "       113299.55, 104796.73, 'Tradicional', 4.0, 2877.0, 189.0, 8.0, 6.0,\n",
       "       20.0, 64.0, 12.0, 64.0, 'Allos'], dtype=object)"
      ]
     },
     "metadata": {},
     "output_type": "display_data"
    },
    {
     "data": {
      "text/plain": [
       "array(['Luziânia Shopping', 'Área Central', 'Luziânia', 'GO',\n",
       "       'CENTRO-OESTE', '2012/05/31', 7455.13, 16278.2, 4331.48,\n",
       "       'Tradicional', 3.0, 184.0, 66.0, '', 3.0, '', '', '', '',\n",
       "       'Própria'], dtype=object)"
      ]
     },
     "metadata": {},
     "output_type": "display_data"
    },
    {
     "data": {
      "text/plain": [
       "array(['Limeira Shopping', 'Egisto Ragazzo', 'Limeira', 'SP', 'SUDESTE',\n",
       "       '2012/11/22', 24640.0, 32342.74, 56032.67, 'Tradicional', 3.0,\n",
       "       1200.0, 109.0, 8.0, 5.0, 20.0, 70.0, 8.0, 70.0, 'WE9 Gestão'],\n",
       "      dtype=object)"
      ]
     },
     "metadata": {},
     "output_type": "display_data"
    },
    {
     "data": {
      "text/plain": [
       "array(['Serramar Shopping', 'PONTAL SANTA MARIA', 'Caraguatatuba', 'SP',\n",
       "       'SUDESTE', '2011/11/25', 21000.0, 29700.0, 163000.0, 'Tradicional',\n",
       "       1.0, 1220.0, 103.0, 7.0, 4.0, 30.0, 30.0, 30.0, 30.0,\n",
       "       'Grupo Serveng'], dtype=object)"
      ]
     },
     "metadata": {},
     "output_type": "display_data"
    },
    {
     "data": {
      "text/plain": [
       "array(['Shopping Avenida Center - Dourados', 'Cabeceira Alegre',\n",
       "       'Dourados', 'MS', 'CENTRO-OESTE', '2006/06/08', 20000.0, '', '',\n",
       "       'Tradicional', '', 500.0, '', '', 3.0, '', '', '', '', 'Própria'],\n",
       "      dtype=object)"
      ]
     },
     "metadata": {},
     "output_type": "display_data"
    },
    {
     "data": {
      "text/plain": [
       "array(['Shopping Viacatarina', 'Passa Vinte', 'Palhoça', 'SC', 'SUL',\n",
       "       '2010/05/21', 15000.0, 32178.2, 13850.0, 'Tradicional', 3.0, 470.0,\n",
       "       110.0, '', '', '', '', '', '', 'Própria'], dtype=object)"
      ]
     },
     "metadata": {},
     "output_type": "display_data"
    },
    {
     "data": {
      "text/plain": [
       "array(['Shopping Parangaba', 'PARANGABA', 'Fortaleza', 'CE', 'NORDESTE',\n",
       "       '2013/11/26', 33680.0, 52381.42, 52657.67, 'Tradicional', 4.0,\n",
       "       1139.0, 230.0, 7.0, 6.0, 15.0, 20.0, 40.0, 20.0, 'Allos'],\n",
       "      dtype=object)"
      ]
     },
     "metadata": {},
     "output_type": "display_data"
    },
    {
     "data": {
      "text/plain": [
       "array(['Roraima Garden Shopping', 'Caçari', 'Boa Vista', 'RR', 'NORTE',\n",
       "       '2014/11/27', 6167.05, 36755.3, 102500.0, 'Tradicional', 1.0,\n",
       "       1617.0, 156.0, 9.0, 4.0, 60.0, 20.0, 10.0, 20.0,\n",
       "       'Tenco Shopping Centers'], dtype=object)"
      ]
     },
     "metadata": {},
     "output_type": "display_data"
    },
    {
     "data": {
      "text/plain": [
       "array(['Shopping Jk Iguatemi', 'Vila Olímpia', 'São Paulo', 'SP',\n",
       "       'SUDESTE', '2012/06/22', 34107.0, '', '', 'Tradicional', 4.0,\n",
       "       1740.0, 189.0, '', 8.0, 90.0, 10.0, '', 10.0,\n",
       "       'Iguatemi Empresa de Shopping Centers'], dtype=object)"
      ]
     },
     "metadata": {},
     "output_type": "display_data"
    },
    {
     "data": {
      "text/plain": [
       "array(['Pátio Roraima Shopping', 'Cauamé', 'Boa Vista', 'RR', 'NORTE',\n",
       "       '2014/11/25', 33350.0, 42500.0, 99832.0, 'Tradicional', 2.0,\n",
       "       1564.0, 121.0, 11.0, 5.0, 16.0, 48.0, 23.0, 48.0, 'HBF'],\n",
       "      dtype=object)"
      ]
     },
     "metadata": {},
     "output_type": "display_data"
    },
    {
     "data": {
      "text/plain": [
       "array(['Shopping Spazio Ouro Verde', 'Parque Universitário', 'Campinas',\n",
       "       'SP', 'SUDESTE', '2010/11/20', 10870.0, 24641.74, 15764.71,\n",
       "       'Tradicional', 2.0, 332.0, 55.0, '', '', '', 20.0, 75.0, 20.0,\n",
       "       'Própria'], dtype=object)"
      ]
     },
     "metadata": {},
     "output_type": "display_data"
    },
    {
     "data": {
      "text/plain": [
       "array(['Pátio Alcântara', 'Alcântara', 'São Gonçalo', 'RJ', 'SUDESTE',\n",
       "       '2013/11/01', 7475.46, 16016.56, 3664.14, 'Tradicional', 5.0, '',\n",
       "       49.0, 3.0, '', 2.0, 50.0, 45.0, 50.0, 'NIAD'], dtype=object)"
      ]
     },
     "metadata": {},
     "output_type": "display_data"
    },
    {
     "data": {
      "text/plain": [
       "array(['Catarina Fashion Outlet', 'Dona Catarina', 'São Roque', 'SP',\n",
       "       'SUDESTE', '2014/10/18', 29409.0, 49006.0, 436909.0,\n",
       "       'Especializado', 1.0, 1629.0, 134.0, 3.0, '', 19.0, 61.0, 20.0,\n",
       "       61.0, 'JHSF'], dtype=object)"
      ]
     },
     "metadata": {},
     "output_type": "display_data"
    },
    {
     "data": {
      "text/plain": [
       "array(['Shopping Montserrat', 'COLINA DE LARANJEIRAS', 'Serra', 'ES',\n",
       "       'SUDESTE', '2013/11/27', 13798.33, 60572.3, 10021.15,\n",
       "       'Tradicional', 3.0, 834.0, 90.0, 3.0, 5.0, 10.0, 58.0, 30.0, 58.0,\n",
       "       'Sa Cavalcante'], dtype=object)"
      ]
     },
     "metadata": {},
     "output_type": "display_data"
    },
    {
     "data": {
      "text/plain": [
       "array(['Shopping Moxuara', 'Sao Francisco', 'Cariacica', 'ES', 'SUDESTE',\n",
       "       '2014/05/06', 36521.07, 36521.07, 45000.0, 'Tradicional', 4.0,\n",
       "       1133.0, 210.0, 8.0, 5.0, 9.0, 42.0, 43.0, 42.0, 'Sa Cavalcante'],\n",
       "      dtype=object)"
      ]
     },
     "metadata": {},
     "output_type": "display_data"
    },
    {
     "data": {
      "text/plain": [
       "array(['Shopping Rio Poty', 'Porenquanto', 'Teresina', 'PI', 'NORDESTE',\n",
       "       '2015/09/29', 47675.4, 125356.67, 79279.65, 'Tradicional', 4.0,\n",
       "       2241.0, 226.0, 9.0, 12.0, 26.0, 49.0, 23.0, 49.0, 'Sa Cavalcante'],\n",
       "      dtype=object)"
      ]
     },
     "metadata": {},
     "output_type": "display_data"
    },
    {
     "data": {
      "text/plain": [
       "array(['Shopping Parkcity Sumaré', 'Centro', 'Sumaré', 'SP', 'SUDESTE',\n",
       "       '2019/11/14', 17205.24, 24478.0, 47793.0, 'Especializado', 2.0,\n",
       "       600.0, 67.0, 5.0, 5.0, '', '', '', '', 'Ad Shopping'], dtype=object)"
      ]
     },
     "metadata": {},
     "output_type": "display_data"
    },
    {
     "data": {
      "text/plain": [
       "array(['Shopping Mestre Álvaro', 'Eurico Salles', 'Serra', 'ES',\n",
       "       'SUDESTE', '2011/12/06', 30713.86, 104485.0, 34000.0,\n",
       "       'Tradicional', 4.0, 1325.0, 193.0, 5.0, 5.0, 14.0, 50.0, 30.0,\n",
       "       50.0, 'Sa Cavalcante'], dtype=object)"
      ]
     },
     "metadata": {},
     "output_type": "display_data"
    },
    {
     "data": {
      "text/plain": [
       "array(['Shopping Bosque Grão-Pará', 'Parque Verde', 'Belém', 'PA',\n",
       "       'NORTE', '2015/08/27', 45515.0, 72000.0, 125000.0, 'Tradicional',\n",
       "       3.0, 2120.0, 182.0, 10.0, 6.0, '', '', '', '', 'J.C.C.'],\n",
       "      dtype=object)"
      ]
     },
     "metadata": {},
     "output_type": "display_data"
    },
    {
     "data": {
      "text/plain": [
       "array(['Parque Shopping Sulacap', 'Jardim Sulacap', 'Rio de Janeiro',\n",
       "       'RJ', 'SUDESTE', '2013/10/24', 29022.0, '', '', 'Tradicional', 2.0,\n",
       "       1296.0, 157.0, 6.0, 7.0, '', '', '', '',\n",
       "       'General Shopping&Outlets'], dtype=object)"
      ]
     },
     "metadata": {},
     "output_type": "display_data"
    },
    {
     "data": {
      "text/plain": [
       "array(['Shopping Center Iguatemi Esplanada',\n",
       "       'Parque Campolim / Parque Bela Vista', 'Sorocaba', 'SP', 'SUDESTE',\n",
       "       '1992/09/04', 68485.0, 210403.0, 68485.0, 'Tradicional', 3.0,\n",
       "       4200.0, 400.0, 9.0, 7.0, '', '', '', '',\n",
       "       'Iguatemi Empresa de Shopping Centers'], dtype=object)"
      ]
     },
     "metadata": {},
     "output_type": "display_data"
    },
    {
     "data": {
      "text/plain": [
       "array(['Praça Rio Grande Shopping Center', 'Vila São Miguel',\n",
       "       'Rio Grande', 'RS', 'SUL', '2014/04/23', 24750.0, 35539.0,\n",
       "       125157.56, 'Tradicional', 1.0, 1700.0, 108.0, 8.0, 4.0, 5.0, 15.0,\n",
       "       60.0, 15.0, 'Lumine'], dtype=object)"
      ]
     },
     "metadata": {},
     "output_type": "display_data"
    },
    {
     "data": {
      "text/plain": [
       "array(['Passeio Das Águas Shopping', 'Fazenda Caveiras', 'Goiânia', 'GO',\n",
       "       'CENTRO-OESTE', '2013/10/30', 74462.0, 180275.0, 267276.08,\n",
       "       'Tradicional', 2.0, 4000.0, 250.0, 23.0, 7.0, 19.0, 52.0, 27.0,\n",
       "       52.0, 'Allos'], dtype=object)"
      ]
     },
     "metadata": {},
     "output_type": "display_data"
    },
    {
     "data": {
      "text/plain": [
       "array(['Monte Carmo Shopping', 'Ingá Alto', 'Betim', 'MG', 'SUDESTE',\n",
       "       '2014/04/10', 42000.0, 88478.17, 137601.92, 'Tradicional', 3.0,\n",
       "       1026.0, 141.0, 10.0, 7.0, '', '', '', '', 'Própria'], dtype=object)"
      ]
     },
     "metadata": {},
     "output_type": "display_data"
    },
    {
     "data": {
      "text/plain": [
       "array(['Shopping Três Lagoas', 'Portal das Araras', 'Três Lagoas', 'MS',\n",
       "       'CENTRO-OESTE', '2019/12/13', 21600.0, 33000.0, 120000.0,\n",
       "       'Tradicional', 1.0, 1000.0, 82.0, 4.0, 4.0, 5.0, 20.0, 63.0, 20.0,\n",
       "       'Argo Desenvolvimento e Gestão'], dtype=object)"
      ]
     },
     "metadata": {},
     "output_type": "display_data"
    },
    {
     "data": {
      "text/plain": [
       "array(['Salgueiro Shopping', 'santo antonio', 'Salgueiro', 'PE',\n",
       "       'NORDESTE', '2012/12/08', 9300.0, 12850.0, 6319.0, 'Tradicional',\n",
       "       5.0, 187.0, 67.0, 2.0, '', 10.0, 50.0, 30.0, 50.0, 'Própria'],\n",
       "      dtype=object)"
      ]
     },
     "metadata": {},
     "output_type": "display_data"
    },
    {
     "data": {
      "text/plain": [
       "array(['Atrium Shopping Santo André', 'Vl Homero Thon', 'Santo André',\n",
       "       'SP', 'SUDESTE', '2013/10/29', 32559.2, 83764.9, 15079.75,\n",
       "       'Tradicional', 3.0, 2000.0, 234.0, 4.0, 7.0, 15.0, 63.0, 20.0,\n",
       "       63.0, 'Ad Shopping'], dtype=object)"
      ]
     },
     "metadata": {},
     "output_type": "display_data"
    },
    {
     "data": {
      "text/plain": [
       "array(['SerraSul Shopping', 'Ipiranga', 'Pouso Alegre', 'MG', 'SUDESTE',\n",
       "       '2013/04/16', 23969.2, 29994.71, 145154.52, 'Tradicional', 1.0,\n",
       "       1509.0, 109.0, 7.0, '', '', '', '', '', 'Própria'], dtype=object)"
      ]
     },
     "metadata": {},
     "output_type": "display_data"
    },
    {
     "data": {
      "text/plain": [
       "array(['Shopping Center Iguatemi Ribeirão Preto', 'Vila do Golf',\n",
       "       'Ribeirão Preto', 'SP', 'SUDESTE', '2013/09/30', 43330.0, 177855.4,\n",
       "       100104.0, 'Tradicional', 2.0, 2600.0, 179.0, 11.0, 6.0, 40.0, 40.0,\n",
       "       20.0, 40.0, 'Iguatemi Empresa de Shopping Centers'], dtype=object)"
      ]
     },
     "metadata": {},
     "output_type": "display_data"
    },
    {
     "data": {
      "text/plain": [
       "array(['Mangabeira Shopping', 'Mangabeira', 'João Pessoa', 'PB',\n",
       "       'NORDESTE', '2014/11/29', 54000.0, 105000.0, 85000.0,\n",
       "       'Tradicional', 4.0, '', '', 15.0, 5.0, '', '', '', '',\n",
       "       'Portal E Futura Administradora De Bens'], dtype=object)"
      ]
     },
     "metadata": {},
     "output_type": "display_data"
    },
    {
     "data": {
      "text/plain": [
       "array(['Cidade Jardim Shops', 'Cerqueira Cesar', 'São Paulo', 'SP',\n",
       "       'SUDESTE', '2020/12/04', 4535.14, 15240.0, 2738.4, 'Tradicional',\n",
       "       5.0, 190.0, 71.0, '', '', 100.0, '', '', '', 'JHSF'], dtype=object)"
      ]
     },
     "metadata": {},
     "output_type": "display_data"
    },
    {
     "data": {
      "text/plain": [
       "array(['Macapá Shopping', 'Trem', 'Macapá', 'AP', 'NORTE', '1997/10/30',\n",
       "       19650.0, 52100.0, 14031.0, 'Tradicional', 4.0, 490.0, 123.0, 4.0,\n",
       "       5.0, 50.0, 25.0, 15.0, 25.0, 'Própria'], dtype=object)"
      ]
     },
     "metadata": {},
     "output_type": "display_data"
    },
    {
     "data": {
      "text/plain": [
       "array(['Shopping Boulevard Garden Araxá', 'Centro', 'Araxá', 'MG',\n",
       "       'SUDESTE', '2015/04/07', 6153.0, 8645.97, 4029.81, 'Tradicional',\n",
       "       4.0, 204.0, 62.0, '', 2.0, 1.0, 30.0, 50.0, 30.0, 'Própria'],\n",
       "      dtype=object)"
      ]
     },
     "metadata": {},
     "output_type": "display_data"
    },
    {
     "data": {
      "text/plain": [
       "array(['Bragança Garden Shopping', 'campo novo', 'Bragança Paulista',\n",
       "       'SP', 'SUDESTE', '2016/11/22', 25942.0, 39000.0, 69352.0,\n",
       "       'Tradicional', 2.0, 1060.0, 135.0, 6.0, 4.0, 5.0, 15.0, 50.0, 15.0,\n",
       "       'Tenco Shopping Centers'], dtype=object)"
      ]
     },
     "metadata": {},
     "output_type": "display_data"
    },
    {
     "data": {
      "text/plain": [
       "array(['Américas Shopping', 'Recreio dos Bandeirantes', 'Rio de Janeiro',\n",
       "       'RJ', 'SUDESTE', '2014/04/29', 35000.0, 110000.0, 35000.0,\n",
       "       'Tradicional', 2.0, 2500.0, 209.0, '', '', '', '', '', '',\n",
       "       'Argo Desenvolvimento e Gestão'], dtype=object)"
      ]
     },
     "metadata": {},
     "output_type": "display_data"
    },
    {
     "data": {
      "text/plain": [
       "array(['Shopping Praça Nova Araçatuba', 'Guanabara', 'Araçatuba', 'SP',\n",
       "       'SUDESTE', '2014/11/11', 21540.76, 31327.13, 39088.59,\n",
       "       'Tradicional', 2.0, 930.0, 176.0, 6.0, 5.0, 26.0, 53.0, 20.0, 53.0,\n",
       "       'Allos'], dtype=object)"
      ]
     },
     "metadata": {},
     "output_type": "display_data"
    },
    {
     "data": {
      "text/plain": [
       "array(['Shopping Lajeado', 'SÃO CRISTÓVÃO', 'Lajeado', 'RS', 'SUL',\n",
       "       '1994/12/01', 19862.4, 39382.9, 22393.58, 'Tradicional', 2.0,\n",
       "       618.0, 99.0, '', '', '', '', '', '', 'Shopping Council'],\n",
       "      dtype=object)"
      ]
     },
     "metadata": {},
     "output_type": "display_data"
    },
    {
     "data": {
      "text/plain": [
       "array(['Pátio Cotia', 'Centro', 'Cotia', 'SP', 'SUDESTE', '2013/11/29',\n",
       "       5801.0, 9986.64, 6770.0, 'Especializado', 1.0, 202.0, 39.0, 3.0,\n",
       "       '', 5.0, 30.0, 50.0, 30.0, 'FAG Gestão Predial'], dtype=object)"
      ]
     },
     "metadata": {},
     "output_type": "display_data"
    },
    {
     "data": {
      "text/plain": [
       "array(['Shopping Vila Velha', 'Divino Espírito Santo', 'Vila Velha', 'ES',\n",
       "       'SUDESTE', '2014/08/25', 70665.2, 173501.7, 139067.11,\n",
       "       'Tradicional', 3.0, 3040.0, 237.0, 10.0, 7.0, 20.0, 64.0, 15.0,\n",
       "       64.0, 'Allos'], dtype=object)"
      ]
     },
     "metadata": {},
     "output_type": "display_data"
    },
    {
     "data": {
      "text/plain": [
       "array(['Pátiomix Linhares', 'MOVELAR', 'Linhares', 'ES', 'SUDESTE',\n",
       "       '2013/03/14', 15183.3, 39667.2, 75000.0, 'Tradicional', 1.0,\n",
       "       1000.0, 90.0, 3.0, '', '', '', '', '', 'Própria'], dtype=object)"
      ]
     },
     "metadata": {},
     "output_type": "display_data"
    },
    {
     "data": {
      "text/plain": [
       "array(['Pátiomix Teixeira De Freitas', 'Vila Verde',\n",
       "       'Teixeira de Freitas', 'BA', 'NORDESTE', '2014/10/23', 11414.0,\n",
       "       17414.0, 17803.0, 'Tradicional', '', '', '', '', 4.0, '', '', '',\n",
       "       '', 'Própria'], dtype=object)"
      ]
     },
     "metadata": {},
     "output_type": "display_data"
    },
    {
     "data": {
      "text/plain": [
       "array(['Barra Garden Shopping', 'Barra da Tijuca', 'Rio de Janeiro', 'RJ',\n",
       "       'SUDESTE', '1997/10/30', 9950.0, 29627.0, 14873.0, 'Especializado',\n",
       "       2.0, 560.0, 169.0, 1.0, '', 40.0, 60.0, '', 60.0, 'Própria'],\n",
       "      dtype=object)"
      ]
     },
     "metadata": {},
     "output_type": "display_data"
    },
    {
     "data": {
      "text/plain": [
       "array(['Várzea Grande Shopping', 'Centro Sul', 'Várzea Grande', 'MT',\n",
       "       'CENTRO-OESTE', '2015/11/17', 32700.0, 102591.21, 25845.71,\n",
       "       'Tradicional', 5.0, 1500.0, 212.0, 8.0, 6.0, 5.0, 30.0, 50.0, 30.0,\n",
       "       'Saga Malls'], dtype=object)"
      ]
     },
     "metadata": {},
     "output_type": "display_data"
    },
    {
     "data": {
      "text/plain": [
       "array(['Shopping Pátio Guarulhos', 'Vl. Rio', 'Guarulhos', 'SP',\n",
       "       'SUDESTE', '2013/07/17', 17500.0, 38478.58, 35499.02,\n",
       "       'Tradicional', 3.0, 700.0, 95.0, '', '', 10.0, 35.0, 48.0, 35.0,\n",
       "       'Própria'], dtype=object)"
      ]
     },
     "metadata": {},
     "output_type": "display_data"
    },
    {
     "data": {
      "text/plain": [
       "array(['Praça Uberaba Shopping Center', 'Vila Olimpica', 'Uberaba', 'MG',\n",
       "       'SUDESTE', '2015/04/29', 29765.0, 79415.0, 46181.75, 'Tradicional',\n",
       "       3.0, 1600.0, 140.0, 4.0, 6.0, 5.0, 40.0, 55.0, 40.0,\n",
       "       'Legatus Asset Management'], dtype=object)"
      ]
     },
     "metadata": {},
     "output_type": "display_data"
    },
    {
     "data": {
      "text/plain": [
       "array(['Alpha Square Mall', 'Alphaville', 'Barueri', 'SP', 'SUDESTE',\n",
       "       '2018/12/14', 5300.0, '', '', 'Tradicional', '', '', 72.0, '', '',\n",
       "       '', '', '', '', 'Própria'], dtype=object)"
      ]
     },
     "metadata": {},
     "output_type": "display_data"
    },
    {
     "data": {
      "text/plain": [
       "array(['Outlet Premium Salvador', 'Abrantes', 'Camaçari', 'BA',\n",
       "       'NORDESTE', '2013/10/01', 15913.0, '', '', 'Especializado', 1.0,\n",
       "       1679.0, 70.0, 3.0, '', '', '', '', '', 'General Shopping&Outlets'],\n",
       "      dtype=object)"
      ]
     },
     "metadata": {},
     "output_type": "display_data"
    },
    {
     "data": {
      "text/plain": [
       "array(['Outlet Premium Rio De Janeiro', 'Chácara Rio Petrópolis',\n",
       "       'Duque de Caxias', 'RJ', 'SUDESTE', '2015/10/22', 20906.0, '', '',\n",
       "       'Especializado', 2.0, 1200.0, 76.0, '', '', '', '', '', '',\n",
       "       'General Shopping&Outlets'], dtype=object)"
      ]
     },
     "metadata": {},
     "output_type": "display_data"
    },
    {
     "data": {
      "text/plain": [
       "array(['Shopping Estação Cuiabá', 'Santa Rosa', 'Cuiabá', 'MT',\n",
       "       'CENTRO-OESTE', '2018/10/23', 48023.1, 132309.39, 65767.03,\n",
       "       'Tradicional', 5.0, 2000.0, 275.0, 6.0, 7.0, 20.0, 50.0, 30.0,\n",
       "       50.0, 'Allos'], dtype=object)"
      ]
     },
     "metadata": {},
     "output_type": "display_data"
    },
    {
     "data": {
      "text/plain": [
       "array(['North Shopping Fortaleza', 'Presidente Kennedy', 'Fortaleza',\n",
       "       'CE', 'NORDESTE', '1991/10/09', 51185.5, 95921.3, 32998.87,\n",
       "       'Tradicional', 3.0, 849.0, 206.0, 11.0, 6.0, 10.0, 35.0, 40.0,\n",
       "       35.0, 'Ancar Ivanhoe'], dtype=object)"
      ]
     },
     "metadata": {},
     "output_type": "display_data"
    },
    {
     "data": {
      "text/plain": [
       "array(['Shopping Porto Miller Boulevard', 'Centro', 'Porto Feliz', 'SP',\n",
       "       'SUDESTE', '2014/05/01', 5488.0, 5788.0, 8154.43, 'Tradicional',\n",
       "       2.0, 268.0, 80.0, 2.0, '', 1.0, 2.0, 45.0, 2.0, 'Própria'],\n",
       "      dtype=object)"
      ]
     },
     "metadata": {},
     "output_type": "display_data"
    },
    {
     "data": {
      "text/plain": [
       "array(['Boulevard Shopping Camaçari', 'Industrial', 'Camaçari', 'BA',\n",
       "       'NORDESTE', '2015/11/26', 19832.0, 31387.04, 70000.0,\n",
       "       'Tradicional', 2.0, 960.0, 120.0, 7.0, 5.0, 8.0, 53.0, 36.0, 53.0,\n",
       "       'Lumine'], dtype=object)"
      ]
     },
     "metadata": {},
     "output_type": "display_data"
    },
    {
     "data": {
      "text/plain": [
       "array(['I Fashion Outlet Novo Hamburgo', 'Operário', 'Novo Hamburgo',\n",
       "       'RS', 'SUL', '2013/09/24', 20055.0, 35000.0, 176000.0,\n",
       "       'Especializado', 1.0, 1300.0, 88.0, '', '', 43.0, 26.0, 17.0, 26.0,\n",
       "       'Iguatemi Empresa de Shopping Centers'], dtype=object)"
      ]
     },
     "metadata": {},
     "output_type": "display_data"
    },
    {
     "data": {
      "text/plain": [
       "array(['Riomar Shopping', 'PAPICU', 'Fortaleza', 'CE', 'NORDESTE',\n",
       "       '2014/10/29', 93000.0, 114000.0, 320000.0, 'Tradicional', 4.0,\n",
       "       6670.0, 410.0, 23.0, 10.0, 30.0, 50.0, 20.0, 50.0, 'JCPM'],\n",
       "      dtype=object)"
      ]
     },
     "metadata": {},
     "output_type": "display_data"
    },
    {
     "data": {
      "text/plain": [
       "array(['Shopping Cerrado', 'Setor Aeroviário', 'Goiânia', 'GO',\n",
       "       'CENTRO-OESTE', '2016/04/26', 27688.48, 92834.38, 64672.27,\n",
       "       'Tradicional', 3.0, 2094.0, 139.0, 7.0, 7.0, 20.0, 30.0, 30.0,\n",
       "       30.0, 'SYN'], dtype=object)"
      ]
     },
     "metadata": {},
     "output_type": "display_data"
    },
    {
     "data": {
      "text/plain": [
       "array(['Shopping Cidade São Paulo', 'Bela Vista', 'São Paulo', 'SP',\n",
       "       'SUDESTE', '2015/04/30', 16851.26, 72142.91, 11952.5,\n",
       "       'Tradicional', 5.0, 1772.0, 147.0, '', 6.0, 20.0, 50.0, 25.0, 50.0,\n",
       "       'SYN'], dtype=object)"
      ]
     },
     "metadata": {},
     "output_type": "display_data"
    },
    {
     "data": {
      "text/plain": [
       "array(['Buriti Shopping Rio Verde', 'Residencial Jardim Campestre',\n",
       "       'Rio Verde', 'GO', 'CENTRO-OESTE', '2014/11/20', 26071.0, 49067.0,\n",
       "       80058.0, 'Tradicional', 2.0, 1449.0, 158.0, 5.0, 5.0, 30.0, 40.0,\n",
       "       20.0, 40.0, 'Terral Shopping Centers'], dtype=object)"
      ]
     },
     "metadata": {},
     "output_type": "display_data"
    },
    {
     "data": {
      "text/plain": [
       "array(['Power Shopping Centerminas', 'União', 'Belo Horizonte', 'MG',\n",
       "       'SUDESTE', '2013/04/03', 62400.0, 113850.95, 47185.0,\n",
       "       'Tradicional', 6.0, 1368.0, 56.0, 8.0, '', 19.0, 13.0, 41.0, 13.0,\n",
       "       'GSA EPO Gestão e Solução de Ativos'], dtype=object)"
      ]
     },
     "metadata": {},
     "output_type": "display_data"
    },
    {
     "data": {
      "text/plain": [
       "array(['Shopping Manaus Vianorte', 'Monte das Oliveiras', 'Manaus', 'AM',\n",
       "       'NORTE', '2014/11/28', 52639.85, 104013.21, 172097.06,\n",
       "       'Tradicional', 4.0, 2264.0, 141.0, 16.0, 6.0, 1.0, 8.0, 75.0, 8.0,\n",
       "       'Saphyr'], dtype=object)"
      ]
     },
     "metadata": {},
     "output_type": "display_data"
    },
    {
     "data": {
      "text/plain": [
       "array(['ParkJacarepaguá', 'Jacarepagua', 'Rio de Janeiro', 'RJ',\n",
       "       'SUDESTE', '2021/11/19', 39934.0, 100370.52, '', 'Tradicional',\n",
       "       4.0, 2100.0, 264.0, 8.0, 6.0, 20.0, 45.0, 35.0, 45.0, 'Multiplan'],\n",
       "      dtype=object)"
      ]
     },
     "metadata": {},
     "output_type": "display_data"
    },
    {
     "data": {
      "text/plain": [
       "array(['Anhanguera Parque Shopping', 'IPÊS', 'Cajamar', 'SP', 'SUDESTE',\n",
       "       '2015/08/20', 17402.59, 33762.88, 65521.48, 'Tradicional', 2.0,\n",
       "       980.0, 94.0, 5.0, 3.0, '', 20.0, 60.0, 20.0, 'Própria'],\n",
       "      dtype=object)"
      ]
     },
     "metadata": {},
     "output_type": "display_data"
    },
    {
     "data": {
      "text/plain": [
       "array(['Shopping Rio Verde', 'Jardim Goias', 'Rio Verde', 'GO',\n",
       "       'CENTRO-OESTE', '2007/09/27', 13729.0, 27000.0, 27000.0,\n",
       "       'Tradicional', 3.0, 420.0, 47.0, 4.0, 3.0, 10.0, 20.0, 60.0, 20.0,\n",
       "       'SFA Malls'], dtype=object)"
      ]
     },
     "metadata": {},
     "output_type": "display_data"
    },
    {
     "data": {
      "text/plain": [
       "array(['Jatahy Shopping', 'ST. Planalto', 'Jataí', 'GO', 'CENTRO-OESTE',\n",
       "       '2011/11/10', 36479.0, 16418.4, 76684.8, 'Tradicional', 1.0,\n",
       "       1930.0, 68.0, 7.0, 3.0, '', '', '', '', 'SFA Malls'], dtype=object)"
      ]
     },
     "metadata": {},
     "output_type": "display_data"
    },
    {
     "data": {
      "text/plain": [
       "array(['Shopping Iguatemi São José Do Rio Preto', 'Iguatemi',\n",
       "       'São José do Rio Preto', 'SP', 'SUDESTE', '2014/04/26', 43549.0,\n",
       "       164140.69, 100000.0, 'Tradicional', 3.0, 1850.0, 193.0, 8.0, 7.0,\n",
       "       '', '', '', '', 'Iguatemi Empresa de Shopping Centers'],\n",
       "      dtype=object)"
      ]
     },
     "metadata": {},
     "output_type": "display_data"
    },
    {
     "data": {
      "text/plain": [
       "array(['ALTO DA XV MALL', 'ALTO DA XV', 'Curitiba', 'PR', 'SUL',\n",
       "       '2020/10/28', 4426.17, 8842.0, 16803.0, 'Tradicional', 1.0, 150.0,\n",
       "       161.0, '', '', 38.0, 58.0, 4.0, 58.0,\n",
       "       'Argo Desenvolvimento e Gestão'], dtype=object)"
      ]
     },
     "metadata": {},
     "output_type": "display_data"
    },
    {
     "data": {
      "text/plain": [
       "array(['Felicittà Shopping', 'Águas Claras', 'Brasília', 'DF',\n",
       "       'CENTRO-OESTE', '2009/03/12', 10545.9, 19329.9, 19330.0,\n",
       "       'Especializado', 4.0, 214.0, 67.0, 1.0, '', 60.0, 30.0, 5.0, 30.0,\n",
       "       'Enashopp'], dtype=object)"
      ]
     },
     "metadata": {},
     "output_type": "display_data"
    },
    {
     "data": {
      "text/plain": [
       "array(['Só Marcas BH Outlet', 'Belvedere', 'Belo Horizonte', 'MG',\n",
       "       'SUDESTE', '2011/05/26', 53000.0, 53000.0, 95000.0,\n",
       "       'Especializado', 4.0, 1080.0, 64.0, '', '', 50.0, 50.0, '', 50.0,\n",
       "       'Mario Valadares'], dtype=object)"
      ]
     },
     "metadata": {},
     "output_type": "display_data"
    },
    {
     "data": {
      "text/plain": [
       "array(['Aparecida Shopping', 'Setor Serra Dourada 4º Etapa',\n",
       "       'Aparecida de Goiânia', 'GO', 'CENTRO-OESTE', '2017/06/27',\n",
       "       22703.0, 48776.87, 52134.09, 'Tradicional', 3.0, 778.0, 126.0, 4.0,\n",
       "       5.0, 1.0, 16.0, 71.0, 16.0, 'Argo Desenvolvimento e Gestão'],\n",
       "      dtype=object)"
      ]
     },
     "metadata": {},
     "output_type": "display_data"
    },
    {
     "data": {
      "text/plain": [
       "array(['DF Plaza Shopping', 'Águas Claras', 'Brasília', 'DF',\n",
       "       'CENTRO-OESTE', '2017/09/19', 14000.0, 240000.0, 25726.0,\n",
       "       'Especializado', 3.0, 1500.0, 135.0, 5.0, '', 10.0, 70.0, 20.0,\n",
       "       70.0, 'Argo Desenvolvimento e Gestão'], dtype=object)"
      ]
     },
     "metadata": {},
     "output_type": "display_data"
    },
    {
     "data": {
      "text/plain": [
       "array(['Parque Shopping Maia', 'Guarulhos', 'Guarulhos', 'SP', 'SUDESTE',\n",
       "       '2015/04/16', 33325.0, '', '', 'Tradicional', 4.0, 1600.0, 178.0,\n",
       "       4.0, 11.0, '', '', '', '', 'General Shopping&Outlets'],\n",
       "      dtype=object)"
      ]
     },
     "metadata": {},
     "output_type": "display_data"
    },
    {
     "data": {
      "text/plain": [
       "array(['Jockey Plaza Shopping', 'Tarumã', 'Curitiba', 'PR', 'SUL',\n",
       "       '2019/05/05', 53000.0, 216000.0, 91147.6, 'Tradicional', 2.0,\n",
       "       4200.0, 375.0, '', 8.0, 9.0, 48.0, 37.0, 48.0, 'Tacla Shopping'],\n",
       "      dtype=object)"
      ]
     },
     "metadata": {},
     "output_type": "display_data"
    },
    {
     "data": {
      "text/plain": [
       "array(['Porto Belo Outlet Premium', 'Alto Perequê', 'Porto Belo', 'SC',\n",
       "       'SUL', '2017/12/14', 25000.0, 40000.0, 300000.0, 'Especializado',\n",
       "       1.0, 1600.0, 120.0, 8.0, '', 23.0, 47.0, 21.0, 47.0,\n",
       "       'Tacla Shopping'], dtype=object)"
      ]
     },
     "metadata": {},
     "output_type": "display_data"
    },
    {
     "data": {
      "text/plain": [
       "array(['Jk Shopping & Tower', 'Taguatinga Norte', 'Brasília', 'DF',\n",
       "       'CENTRO-OESTE', '2013/11/15', 32173.0, 140299.0, 36171.0,\n",
       "       'Tradicional', 3.0, 2697.0, 162.0, 10.0, 6.0, 10.0, 20.0, 50.0,\n",
       "       20.0, 'Paulo Octavio'], dtype=object)"
      ]
     },
     "metadata": {},
     "output_type": "display_data"
    },
    {
     "data": {
      "text/plain": [
       "array(['Juá Garden Shopping', 'Distrito Industrial', 'Juazeiro', 'BA',\n",
       "       'NORDESTE', '2016/03/22', 35000.0, 34386.72, 55000.0,\n",
       "       'Tradicional', '', 1400.0, 201.0, '', 9.0, '', '', '', '',\n",
       "       'Tenco Shopping Centers'], dtype=object)"
      ]
     },
     "metadata": {},
     "output_type": "display_data"
    },
    {
     "data": {
      "text/plain": [
       "array(['Via Café Garden Shopping', 'JARDIM PETROPOLIS', 'VARGINHA', 'MG',\n",
       "       'SUDESTE', '2016/04/12', 23255.2, 23255.2, 40000.0, 'Tradicional',\n",
       "       1.0, 1200.0, 145.0, 6.0, 4.0, 10.0, 40.0, 40.0, 40.0,\n",
       "       'Tenco Shopping Centers'], dtype=object)"
      ]
     },
     "metadata": {},
     "output_type": "display_data"
    },
    {
     "data": {
      "text/plain": [
       "array(['Itaquá Garden Shopping', 'Jardim Adriane', 'Itaquaquecetuba',\n",
       "       'SP', 'SUDESTE', '2017/04/25', 27630.3, 61099.29, 79512.49,\n",
       "       'Tradicional', 2.0, 950.0, 121.0, 5.0, 5.0, 10.0, 20.0, 40.0, 20.0,\n",
       "       'Tenco Shopping Centers'], dtype=object)"
      ]
     },
     "metadata": {},
     "output_type": "display_data"
    },
    {
     "data": {
      "text/plain": [
       "array(['Shopping Estação Goiânia', 'Centro', 'Goiânia', 'GO',\n",
       "       'CENTRO-OESTE', '2007/11/10', 37893.0, 80251.11, 68846.74,\n",
       "       'Tradicional', 3.0, 886.0, 116.0, 6.0, '', 20.0, 30.0, 35.0, 30.0,\n",
       "       'Saga Malls'], dtype=object)"
      ]
     },
     "metadata": {},
     "output_type": "display_data"
    },
    {
     "data": {
      "text/plain": [
       "array(['Paulista North Way', 'Centro', 'Paulista', 'PE', 'NORDESTE',\n",
       "       '2015/10/30', 35000.0, 55000.0, 96000.0, 'Tradicional', '', 1443.0,\n",
       "       114.0, '', 5.0, '', '', '', '',\n",
       "       'Lms/tgi Gestao De Empreendimentos'], dtype=object)"
      ]
     },
     "metadata": {},
     "output_type": "display_data"
    },
    {
     "data": {
      "text/plain": [
       "array(['Pátio Norte Shopping', 'SARAMANTA', 'São José de Ribamar', 'MA',\n",
       "       'NORDESTE', '2015/03/18', 25813.7, 68935.0, 71570.56,\n",
       "       'Tradicional', 3.0, 1200.0, 141.0, 8.0, 6.0, 5.0, 13.0, 32.0, 13.0,\n",
       "       'Soul Malls'], dtype=object)"
      ]
     },
     "metadata": {},
     "output_type": "display_data"
    },
    {
     "data": {
      "text/plain": [
       "array(['Golden Shopping Calhau', 'Calhau', 'São Luís', 'MA', 'NORDESTE',\n",
       "       '2017/09/29', 29667.0, 76722.08, 46219.9, 'Tradicional', 2.0,\n",
       "       1300.0, 199.0, 8.0, 4.0, 25.0, 23.0, 42.0, 23.0,\n",
       "       'Nbr Empreendimentos'], dtype=object)"
      ]
     },
     "metadata": {},
     "output_type": "display_data"
    },
    {
     "data": {
      "text/plain": [
       "array(['Villa Multimall', 'Jd. Mollon', 'Santa Bárbara dOeste', 'SP',\n",
       "       'SUDESTE', '2012/10/18', 14594.16, 22732.11, 19167.73,\n",
       "       'Especializado', 1.0, 430.0, 39.0, 2.0, 4.0, '', 15.0, 85.0, 15.0,\n",
       "       'MEC MULTIMALL'], dtype=object)"
      ]
     },
     "metadata": {},
     "output_type": "display_data"
    },
    {
     "data": {
      "text/plain": [
       "array(['Mega Moda Shopping', 'SETOR NORTE FERROVIARIO', 'Goiânia', 'GO',\n",
       "       'CENTRO-OESTE', '2011/12/08', 9673.09, 9963.84, 10615.57,\n",
       "       'Especializado', 3.0, 387.0, 1225.0, '', '', '', 70.0, 30.0, 70.0,\n",
       "       'Própria'], dtype=object)"
      ]
     },
     "metadata": {},
     "output_type": "display_data"
    },
    {
     "data": {
      "text/plain": [
       "array(['Shopping Palladium Umuarama', 'Parque Industrial II', 'Umuarama',\n",
       "       'PR', 'SUL', '2021/06/04', 24000.0, 66000.0, 91000.0,\n",
       "       'Tradicional', 2.0, 1000.0, 120.0, 7.0, 4.0, 25.0, 36.0, 21.0,\n",
       "       36.0, 'Tacla Shopping'], dtype=object)"
      ]
     },
     "metadata": {},
     "output_type": "display_data"
    },
    {
     "data": {
      "text/plain": [
       "array(['Partage Shopping Rio Grande', 'Parque Residencial São Pedro',\n",
       "       'Rio Grande', 'RS', 'SUL', '2015/11/05', 24717.3, 38557.0,\n",
       "       577405.72, 'Tradicional', '', 1443.0, 114.0, '', 5.0, '', '', '',\n",
       "       '', 'Partage Shopping'], dtype=object)"
      ]
     },
     "metadata": {},
     "output_type": "display_data"
    },
    {
     "data": {
      "text/plain": [
       "array(['Oeste Plaza Shopping', 'Stella Maris', 'Andradina', 'SP',\n",
       "       'SUDESTE', '2006/05/14', 11178.0, '', '', 'Tradicional', '', '',\n",
       "       80.0, '', 4.0, '', '', '', '', 'Própria'], dtype=object)"
      ]
     },
     "metadata": {},
     "output_type": "display_data"
    },
    {
     "data": {
      "text/plain": [
       "array(['Shopping Parque Balneário', 'Gonzaga', 'Santos', 'SP', 'SUDESTE',\n",
       "       '1977/11/29', 8716.0, 22000.0, 5000.0, 'Tradicional', 4.0, 196.0,\n",
       "       182.0, '', '', 26.0, 57.0, 17.0, 57.0, 'Própria'], dtype=object)"
      ]
     },
     "metadata": {},
     "output_type": "display_data"
    },
    {
     "data": {
      "text/plain": [
       "array(['Caxias Paraíso Shopping', 'Bela Vista', 'Caxias', 'MA',\n",
       "       'NORDESTE', '2016/11/30', 18321.93, 27660.49, 76280.7,\n",
       "       'Tradicional', 2.0, 1350.0, '', '', '', '', '', '', '', 'Própria'],\n",
       "      dtype=object)"
      ]
     },
     "metadata": {},
     "output_type": "display_data"
    },
    {
     "data": {
      "text/plain": [
       "array(['Penápolis Garden Shopping', 'Gilberto Elias Ferreira',\n",
       "       'Penápolis', 'SP', 'SUDESTE', '2014/12/12', 11500.0, 16000.0,\n",
       "       54404.0, 'Tradicional', 1.0, 800.0, 100.0, '', 4.0, 6.0, 26.0,\n",
       "       53.0, 26.0, 'Ferreira Administradora de Shopping Center Ltda'],\n",
       "      dtype=object)"
      ]
     },
     "metadata": {},
     "output_type": "display_data"
    },
    {
     "data": {
      "text/plain": [
       "array(['Shopping Nova Iguaçu', 'Bairro da Luz', 'Nova Iguaçu', 'RJ',\n",
       "       'SUDESTE', '2016/04/28', 45555.0, 102396.26, 344576.1,\n",
       "       'Tradicional', 5.0, 2400.0, 240.0, 8.0, 7.0, 1.0, 47.0, 49.0, 47.0,\n",
       "       'Ancar Ivanhoe'], dtype=object)"
      ]
     },
     "metadata": {},
     "output_type": "display_data"
    },
    {
     "data": {
      "text/plain": [
       "array(['Open Mall The Square', 'Granja Viana', 'Cotia', 'SP', 'SUDESTE',\n",
       "       '2011/09/22', 13500.0, '', '', 'Especializado', 1.0, 417.0, '', '',\n",
       "       6.0, '', '', '', '', 'Própria'], dtype=object)"
      ]
     },
     "metadata": {},
     "output_type": "display_data"
    },
    {
     "data": {
      "text/plain": [
       "array(['Taboão Plaza Outlet', 'Jardim Maria Rosa', 'Taboão da Serra',\n",
       "       'SP', 'SUDESTE', '2016/12/01', 14884.0, 20942.0, 34440.0,\n",
       "       'Tradicional', 2.0, '', 66.0, '', '', '', '', '', '', 'Própria'],\n",
       "      dtype=object)"
      ]
     },
     "metadata": {},
     "output_type": "display_data"
    },
    {
     "data": {
      "text/plain": [
       "array(['Outlet Premium Fortaleza', 'TOCO', 'Caucaia', 'CE', 'NORDESTE',\n",
       "       '2014/11/05', 16100.0, '', '', 'Especializado', 1.0, 1351.0, 69.0,\n",
       "       2.0, '', '', '', '', '', 'General Shopping&Outlets'], dtype=object)"
      ]
     },
     "metadata": {},
     "output_type": "display_data"
    },
    {
     "data": {
      "text/plain": [
       "array(['Shopping Cajazeiras', 'Cajazeiras', 'Salvador', 'BA', 'NORDESTE',\n",
       "       '2015/12/02', 4858.98, 14308.89, 9773.34, 'Tradicional', 2.0, '',\n",
       "       '', '', 4.0, '', '', '', '', 'Enashopp'], dtype=object)"
      ]
     },
     "metadata": {},
     "output_type": "display_data"
    },
    {
     "data": {
      "text/plain": [
       "array(['Venâncio Shopping', 'Asa Sul', 'Brasília', 'DF', 'CENTRO-OESTE',\n",
       "       '2016/04/13', 16691.0, 120000.0, 8000.0, 'Tradicional', 3.0,\n",
       "       1000.0, 160.0, 2.0, '', '', '', '', '', 'Própria'], dtype=object)"
      ]
     },
     "metadata": {},
     "output_type": "display_data"
    },
    {
     "data": {
      "text/plain": [
       "array(['Passo Fundo Shopping', 'São Cristóvão', 'Passo Fundo', 'RS',\n",
       "       'SUL', '2018/11/08', 29713.55, 49280.49, 75280.0, 'Tradicional',\n",
       "       3.0, 1800.0, 150.0, 8.0, 5.0, 20.0, 40.0, 30.0, 40.0,\n",
       "       'Ad Shopping'], dtype=object)"
      ]
     },
     "metadata": {},
     "output_type": "display_data"
    },
    {
     "data": {
      "text/plain": [
       "array(['Aracaju Parque Shopping', 'Industrial', 'Aracaju', 'SE',\n",
       "       'NORDESTE', '2019/09/19', 19300.0, 71000.0, 37000.0, 'Tradicional',\n",
       "       3.0, 1400.0, 106.0, 5.0, 7.0, 10.0, 30.0, 60.0, 30.0,\n",
       "       'Ad Shopping'], dtype=object)"
      ]
     },
     "metadata": {},
     "output_type": "display_data"
    },
    {
     "data": {
      "text/plain": [
       "array(['Plaza Shopping Carapicuíba', 'Vila Silviania', 'Carapicuíba',\n",
       "       'SP', 'SUDESTE', '2016/10/27', 24876.8, 80279.7, 21119.85,\n",
       "       'Tradicional', 5.0, 1087.0, 163.0, 7.0, 5.0, 2.0, 8.0, 80.0, 8.0,\n",
       "       'Del Rey Imoveis'], dtype=object)"
      ]
     },
     "metadata": {},
     "output_type": "display_data"
    },
    {
     "data": {
      "text/plain": [
       "array(['Shopping Jardim Norte', 'Mariano Procópio', 'Juiz de Fora', 'MG',\n",
       "       'SUDESTE', '2016/07/12', 39155.29, 56000.0, 80000.0, 'Tradicional',\n",
       "       2.0, 2100.0, 148.0, 9.0, 6.0, 21.0, 54.0, 25.0, 54.0,\n",
       "       'Abx Participações'], dtype=object)"
      ]
     },
     "metadata": {},
     "output_type": "display_data"
    },
    {
     "data": {
      "text/plain": [
       "array(['Parkshopping Canoas', 'Marechal Rondon', 'Canoas', 'RS', 'SUL',\n",
       "       '2017/11/24', 49058.05, 158790.61, 93000.0, 'Tradicional', 3.0,\n",
       "       3003.0, 259.0, 9.0, '', '', '', '', '', 'Multiplan'], dtype=object)"
      ]
     },
     "metadata": {},
     "output_type": "display_data"
    },
    {
     "data": {
      "text/plain": [
       "array(['Shopping Serrinha', 'Rodoviaria', 'Serrinha', 'BA', 'NORDESTE',\n",
       "       '2015/01/15', 8269.03, 10466.79, 32220.0, 'Tradicional', 2.0,\n",
       "       470.0, 66.0, 3.0, 2.0, 2.0, 12.0, 15.0, 12.0, 'Enashopp'],\n",
       "      dtype=object)"
      ]
     },
     "metadata": {},
     "output_type": "display_data"
    },
    {
     "data": {
      "text/plain": [
       "array(['Cantareira Norte Shopping', 'Jardim Pirituba', 'São Paulo', 'SP',\n",
       "       'SUDESTE', '2016/04/27', 27000.0, 51000.0, 75000.0, 'Tradicional',\n",
       "       2.0, 1427.0, 135.0, 9.0, 5.0, 1.0, 34.0, 57.0, 34.0, 'Lumine'],\n",
       "      dtype=object)"
      ]
     },
     "metadata": {},
     "output_type": "display_data"
    },
    {
     "data": {
      "text/plain": [
       "array(['Shopping Praça Nova Santa Maria', 'Patronato', 'Santa Maria',\n",
       "       'RS', 'SUL', '2017/09/01', 22548.7, 33486.83, 122117.0,\n",
       "       'Tradicional', 1.0, 1072.0, 154.0, 5.0, 5.0, 20.0, 40.0, 40.0,\n",
       "       40.0, 'Allos'], dtype=object)"
      ]
     },
     "metadata": {},
     "output_type": "display_data"
    },
    {
     "data": {
      "text/plain": [
       "array(['Pátio Central Shopping', 'Centro', 'Patos de Minas', 'MG',\n",
       "       'SUDESTE', '2008/09/04', 11634.1, 14617.55, 26723.77,\n",
       "       'Tradicional', 2.0, 540.0, 63.0, 3.0, 3.0, '', 30.0, 50.0, 30.0,\n",
       "       'GSFA - Grupo São Francisco'], dtype=object)"
      ]
     },
     "metadata": {},
     "output_type": "display_data"
    },
    {
     "data": {
      "text/plain": [
       "array(['Itapecerica Shopping', 'Centro', 'Itapecerica da Serra', 'SP',\n",
       "       'SUDESTE', '2013/10/22', 11056.58, 25907.86, 6567.93,\n",
       "       'Tradicional', 4.0, 300.0, 84.0, 4.0, 4.0, 8.0, 39.0, 26.0, 39.0,\n",
       "       'Própria'], dtype=object)"
      ]
     },
     "metadata": {},
     "output_type": "display_data"
    },
    {
     "data": {
      "text/plain": [
       "array(['Shopping Passeio', 'Cohatrac IV', 'São Luís', 'MA', 'NORDESTE',\n",
       "       '2015/06/09', 5380.0, 11149.63, 6400.0, 'Tradicional', 3.0, '', '',\n",
       "       '', '', '', '', '', '', 'Mr Malls'], dtype=object)"
      ]
     },
     "metadata": {},
     "output_type": "display_data"
    },
    {
     "data": {
      "text/plain": [
       "array(['Camará Shopping', 'Vila da Fábrica', 'Camaragibe', 'PE',\n",
       "       'NORDESTE', '2018/05/02', 27341.82, 61000.0, 109151.97,\n",
       "       'Tradicional', 3.0, 1500.0, 200.0, 11.0, 5.0, 10.0, 30.0, 40.0,\n",
       "       30.0, 'Ad Shopping'], dtype=object)"
      ]
     },
     "metadata": {},
     "output_type": "display_data"
    },
    {
     "data": {
      "text/plain": [
       "array(['I Fashion Outlet Santa Catarina', 'Sul do Rio', 'Tijucas', 'SC',\n",
       "       'SUL', '2018/12/12', 19904.0, 27547.0, 213000.0, 'Especializado',\n",
       "       1.0, 904.0, 82.0, 1.0, '', 65.0, 30.0, 5.0, 30.0,\n",
       "       'Iguatemi Empresa de Shopping Centers'], dtype=object)"
      ]
     },
     "metadata": {},
     "output_type": "display_data"
    },
    {
     "data": {
      "text/plain": [
       "array(['Nações Shopping', 'Nossa Senhora da Salete', 'Criciúma', 'SC',\n",
       "       'SUL', '2016/04/16', 37000.0, 96842.79, 86000.0, 'Tradicional',\n",
       "       2.0, 2000.0, 185.0, 6.0, 6.0, '', '', '', '', 'Almeida Junior'],\n",
       "      dtype=object)"
      ]
     },
     "metadata": {},
     "output_type": "display_data"
    },
    {
     "data": {
      "text/plain": [
       "array(['Aurora Shopping', 'Gleba Palhano', 'Londrina', 'PR', 'SUL',\n",
       "       '2016/04/26', 18504.53, 63053.31, 9178.58, 'Tradicional', 5.0,\n",
       "       1000.0, 154.0, 2.0, 5.0, 33.0, 52.0, 13.0, 52.0, 'LPSIS'],\n",
       "      dtype=object)"
      ]
     },
     "metadata": {},
     "output_type": "display_data"
    },
    {
     "data": {
      "text/plain": [
       "array(['Faro Shopping', 'Centro', 'São José dos Campos', 'SP', 'SUDESTE',\n",
       "       '2011/12/15', 4785.0, 18000.0, 4200.0, 'Tradicional', 3.0, 300.0,\n",
       "       60.0, '', '', 5.0, 10.0, 65.0, 10.0, 'Própria'], dtype=object)"
      ]
     },
     "metadata": {},
     "output_type": "display_data"
    },
    {
     "data": {
      "text/plain": [
       "array(['Shopping Sinop', 'Setor Industrial', 'Sinop', 'MT',\n",
       "       'CENTRO-OESTE', '2021/10/28', 22750.0, 40061.0, 200000.0,\n",
       "       'Tradicional', 1.0, 1800.0, 121.0, 7.0, 4.0, 20.0, 50.0, 20.0,\n",
       "       50.0, 'Ad Shopping'], dtype=object)"
      ]
     },
     "metadata": {},
     "output_type": "display_data"
    },
    {
     "data": {
      "text/plain": [
       "array(['Parque Mall', 'Jd Pompéia', 'Indaiatuba', 'SP', 'SUDESTE',\n",
       "       '2014/11/08', 8500.0, 17180.0, 9000.0, 'Especializado', '', 364.0,\n",
       "       75.0, '', '', '', '', '', '', 'Própria'], dtype=object)"
      ]
     },
     "metadata": {},
     "output_type": "display_data"
    },
    {
     "data": {
      "text/plain": [
       "array(['Shopping Patteo Olinda', 'Casa Caiada', 'Olinda', 'PE',\n",
       "       'NORDESTE', '2018/04/24', 51481.19, 137408.45, 24273.2,\n",
       "       'Tradicional', 5.0, 2300.0, 383.0, 16.0, 8.0, 11.0, 41.0, 41.0,\n",
       "       41.0, 'Hbr Realty'], dtype=object)"
      ]
     },
     "metadata": {},
     "output_type": "display_data"
    },
    {
     "data": {
      "text/plain": [
       "array(['Cocais Shopping', 'Centro', 'Timon', 'MA', 'NORDESTE',\n",
       "       '2017/09/19', 14526.0, 24439.0, 43000.0, 'Tradicional', '', '', '',\n",
       "       '', 4.0, '', '', '', '', 'Três Consultoria'], dtype=object)"
      ]
     },
     "metadata": {},
     "output_type": "display_data"
    },
    {
     "data": {
      "text/plain": [
       "array(['Sumaúma Park Shopping', 'CIDADE NOVA', 'Manaus', 'AM', 'NORTE',\n",
       "       '2014/11/27', 50537.0, 133965.0, 137853.0, 'Tradicional', 4.0,\n",
       "       1738.0, 180.0, 11.0, 8.0, 5.0, 14.0, 63.0, 14.0, 'Própria'],\n",
       "      dtype=object)"
      ]
     },
     "metadata": {},
     "output_type": "display_data"
    },
    {
     "data": {
      "text/plain": [
       "array(['Conviva Minas', 'Lagoinha', 'Belo Horizonte', 'MG', 'SUDESTE',\n",
       "       '2013/12/01', 13262.0, 72028.0, 58745.7, 'Tradicional', 1.0,\n",
       "       1090.0, 73.0, 1.0, '', 10.0, 30.0, 40.0, 30.0, 'GPA Malls'],\n",
       "      dtype=object)"
      ]
     },
     "metadata": {},
     "output_type": "display_data"
    },
    {
     "data": {
      "text/plain": [
       "array(['Boulevard Cidade - Botucatu', 'Chácara Floresta', 'Botucatu',\n",
       "       'SP', 'SUDESTE', '2016/09/01', 5259.0, 8126.0, 7630.0,\n",
       "       'Especializado', 2.0, 240.0, 45.0, '', '', '', '', '', '',\n",
       "       'Zanetti Guimaraes Administradora Ltda'], dtype=object)"
      ]
     },
     "metadata": {},
     "output_type": "display_data"
    },
    {
     "data": {
      "text/plain": [
       "array(['Shopping Flamingo', 'Alphaville', 'Barueri', 'SP', 'SUDESTE',\n",
       "       '1999/09/01', 6405.0, 12042.0, '', 'Especializado', 2.0, '', 128.0,\n",
       "       '', '', '', '', '', '', 'Própria'], dtype=object)"
      ]
     },
     "metadata": {},
     "output_type": "display_data"
    },
    {
     "data": {
      "text/plain": [
       "array(['Morumbi Town Shopping', 'Vila Andrade', 'São Paulo', 'SP',\n",
       "       'SUDESTE', '2016/11/10', 31069.71, 92913.33, 22400.0,\n",
       "       'Tradicional', 4.0, 1584.0, 102.0, 6.0, 9.0, 31.0, 54.0, 14.0,\n",
       "       54.0, 'Gazit Brasil'], dtype=object)"
      ]
     },
     "metadata": {},
     "output_type": "display_data"
    },
    {
     "data": {
      "text/plain": [
       "array(['Catalão Shopping', 'Nossa Senhora de Fátima', 'Catalão', 'GO',\n",
       "       'CENTRO-OESTE', '2020/08/20', 10000.0, 20184.37, 21213.1,\n",
       "       'Tradicional', 1.0, 423.0, 74.0, 2.0, 3.0, 10.0, 43.0, 35.0, 43.0,\n",
       "       'Ad Shopping'], dtype=object)"
      ]
     },
     "metadata": {},
     "output_type": "display_data"
    },
    {
     "data": {
      "text/plain": [
       "array(['Bossa Nova Mall', 'Centro', 'Rio de Janeiro', 'RJ', 'SUDESTE',\n",
       "       '2015/11/18', 8200.0, '', 13217.0, 'Especializado', 4.0, 169.0,\n",
       "       47.0, 3.0, '', 50.0, 40.0, 10.0, 40.0, 'Saphyr'], dtype=object)"
      ]
     },
     "metadata": {},
     "output_type": "display_data"
    },
    {
     "data": {
      "text/plain": [
       "array(['Catuaí Palladium Shopping Center', 'Vila Yolanda',\n",
       "       'Foz do Iguaçu', 'PR', 'SUL', '2016/06/10', 37500.0, 54000.0,\n",
       "       100000.0, 'Tradicional', 2.0, 1620.0, 220.0, 6.0, 6.0, 13.0, 47.0,\n",
       "       37.0, 47.0, 'Tacla Shopping'], dtype=object)"
      ]
     },
     "metadata": {},
     "output_type": "display_data"
    },
    {
     "data": {
      "text/plain": [
       "array(['Shopping Downtown', 'Barra da Tijuca', 'Rio de Janeiro', 'RJ',\n",
       "       'SUDESTE', '1998/06/15', 17886.0, '', '', 'Especializado', '',\n",
       "       3100.0, 185.0, '', 12.0, '', '', '', '', 'C G Malls'], dtype=object)"
      ]
     },
     "metadata": {},
     "output_type": "display_data"
    },
    {
     "data": {
      "text/plain": [
       "array(['Imperial Shopping', 'Jardim São Luís', 'Imperatriz', 'MA',\n",
       "       'NORDESTE', '2012/09/27', 29476.0, 53379.07, 68418.97,\n",
       "       'Tradicional', 3.0, 1173.0, 143.0, 10.0, 5.0, 10.0, 20.0, 35.0,\n",
       "       20.0, 'Mr Malls'], dtype=object)"
      ]
     },
     "metadata": {},
     "output_type": "display_data"
    },
    {
     "data": {
      "text/plain": [
       "array(['Park Shopping Boulevard', 'Xaxim', 'Curitiba', 'PR', 'SUL',\n",
       "       '2021/12/02', 25000.0, '', '', 'Tradicional', '', 1500.0, 230.0,\n",
       "       '', 7.0, '', '', '', '', 'Própria'], dtype=object)"
      ]
     },
     "metadata": {},
     "output_type": "display_data"
    },
    {
     "data": {
      "text/plain": [
       "array(['Vertical Shopping', 'Centro', 'Rio de Janeiro', 'RJ', 'SUDESTE',\n",
       "       '2002/10/10', 5250.0, 7000.0, 4500.0, 'Especializado', '', '', '',\n",
       "       '', '', '', '', '', '', 'Emda Administração De Bens Ltda'],\n",
       "      dtype=object)"
      ]
     },
     "metadata": {},
     "output_type": "display_data"
    },
    {
     "data": {
      "text/plain": [
       "array(['Shopping Do Méier', 'Méier', 'Rio de Janeiro', 'RJ', 'SUDESTE',\n",
       "       '1800/01/01', 5800.0, '', '', 'Tradicional', '', '', 60.0, '', '',\n",
       "       '', '', '', '', 'Própria'], dtype=object)"
      ]
     },
     "metadata": {},
     "output_type": "display_data"
    },
    {
     "data": {
      "text/plain": [
       "array(['Shopping Carpina', 'Bairro Novo', 'Carpina', 'PE', 'NORDESTE',\n",
       "       '2019/03/29', 7800.0, '', '', 'Tradicional', '', '', 70.0, '', 3.0,\n",
       "       '', '', '', '', 'Própria'], dtype=object)"
      ]
     },
     "metadata": {},
     "output_type": "display_data"
    },
    {
     "data": {
      "text/plain": [
       "array(['Reserva Open Mall', 'Eng. Luciano Cavalcante', 'Fortaleza', 'CE',\n",
       "       'NORDESTE', '1800/01/01', 7000.0, '', '', 'Tradicional', 2.0,\n",
       "       600.0, 50.0, '', '', '', '', '', '', 'Própria'], dtype=object)"
      ]
     },
     "metadata": {},
     "output_type": "display_data"
    },
    {
     "data": {
      "text/plain": [
       "array(['Rio Tapajós Shopping', 'Elcione Barbalho', 'Santarém', 'PA',\n",
       "       'NORTE', '2014/11/07', 25000.0, 39000.0, 54000.0, 'Tradicional',\n",
       "       1.0, 1912.0, 137.0, 14.0, 5.0, 5.0, 25.0, 60.0, 25.0, 'Mr Malls'],\n",
       "      dtype=object)"
      ]
     },
     "metadata": {},
     "output_type": "display_data"
    },
    {
     "data": {
      "text/plain": [
       "array(['Shopping Parque Da Cidade', 'Chacará Santo Antonio', 'São Paulo',\n",
       "       'SP', 'SUDESTE', '2019/05/30', 20000.0, 36000.0, 12000.0,\n",
       "       'Tradicional', 4.0, 958.0, 120.0, '', 6.0, 35.0, 35.0, 26.0, 35.0,\n",
       "       'Enashopp'], dtype=object)"
      ]
     },
     "metadata": {},
     "output_type": "display_data"
    },
    {
     "data": {
      "text/plain": [
       "array(['Jardim Pamplona Shopping', 'Jardim Paulista', 'São Paulo', 'SP',\n",
       "       'SUDESTE', '2017/07/27', 18930.53, 41410.66, 11925.0,\n",
       "       'Especializado', 6.0, 500.0, 80.0, 4.0, 5.0, 20.0, 70.0, 10.0,\n",
       "       70.0, 'Carrefour'], dtype=object)"
      ]
     },
     "metadata": {},
     "output_type": "display_data"
    },
    {
     "data": {
      "text/plain": [
       "array(['Shopping Peixoto', 'Miguel Teles Mendonça', 'Itabaiana', 'SE',\n",
       "       'NORDESTE', '2017/06/08', 16109.8, 16800.0, 23400.0, 'Tradicional',\n",
       "       1.0, 600.0, 120.0, 4.0, 4.0, 20.0, 30.0, 40.0, 30.0, 'Própria'],\n",
       "      dtype=object)"
      ]
     },
     "metadata": {},
     "output_type": "display_data"
    },
    {
     "data": {
      "text/plain": [
       "array(['Boulevard Shopping Vitória da Conquista', 'Candeias',\n",
       "       'Vitória da Conquista', 'BA', 'NORDESTE', '2018/04/26', 19354.11,\n",
       "       66719.24, 200000.0, 'Tradicional', 2.0, 1750.0, 143.0, 6.0, 6.0,\n",
       "       15.0, 30.0, 45.0, 30.0, 'Allos'], dtype=object)"
      ]
     },
     "metadata": {},
     "output_type": "display_data"
    },
    {
     "data": {
      "text/plain": [
       "array(['Shopping Do Automóvel Holandeses', 'Quintas Do Calhau',\n",
       "       'São Luís', 'MA', 'NORDESTE', '2006/05/31', 9900.0, 13450.0,\n",
       "       15500.0, 'Especializado', 2.0, 212.0, 56.0, 3.0, '', 30.0, 40.0,\n",
       "       20.0, 40.0, 'Própria'], dtype=object)"
      ]
     },
     "metadata": {},
     "output_type": "display_data"
    },
    {
     "data": {
      "text/plain": [
       "array(['Shopping Park Sul', 'São Geraldo', 'Volta Redonda', 'RJ',\n",
       "       'SUDESTE', '2018/10/23', 29000.0, 40000.0, 85000.0, 'Tradicional',\n",
       "       2.0, 1000.0, 118.0, 8.0, 6.0, 12.0, 37.0, 46.0, 37.0,\n",
       "       'Argo Desenvolvimento e Gestão'], dtype=object)"
      ]
     },
     "metadata": {},
     "output_type": "display_data"
    },
    {
     "data": {
      "text/plain": [
       "array(['Pateo Itaquá', 'Vila Ursulina', 'Itaquaquecetuba', 'SP',\n",
       "       'SUDESTE', '2015/07/02', 13155.0, 39597.65, 26444.23,\n",
       "       'Tradicional', 3.0, 600.0, 91.0, 3.0, 5.0, 10.0, 20.0, 40.0, 20.0,\n",
       "       'Própria'], dtype=object)"
      ]
     },
     "metadata": {},
     "output_type": "display_data"
    },
    {
     "data": {
      "text/plain": [
       "array(['Colombo Park Shopping', 'Alto Maracanã', 'Colombo', 'PR', 'SUL',\n",
       "       '2006/04/28', 25600.0, 17790.32, 24108.11, 'Tradicional', 2.0,\n",
       "       260.0, 127.0, 4.0, '', 5.0, 30.0, 60.0, 30.0, 'M3 Administradora'],\n",
       "      dtype=object)"
      ]
     },
     "metadata": {},
     "output_type": "display_data"
    },
    {
     "data": {
      "text/plain": [
       "array(['Shopping Franco Da Rocha', 'COMPANHIA FAZENDA BELEM',\n",
       "       'Franco da Rocha', 'SP', 'SUDESTE', '2017/11/30', 13369.86,\n",
       "       21518.28, 10005.67, 'Tradicional', 3.0, 269.0, 73.0, 2.0, '', 10.0,\n",
       "       10.0, 50.0, 10.0,\n",
       "       'Gate7 Desenvolvimento Estratégico De Shopping Centers'],\n",
       "      dtype=object)"
      ]
     },
     "metadata": {},
     "output_type": "display_data"
    },
    {
     "data": {
      "text/plain": [
       "array(['PB Shopping', 'Vila Isabel', 'Pato Branco', 'PR', 'SUL',\n",
       "       '2022/04/28', 21000.0, 43000.0, '', 'Tradicional', '', 1000.0,\n",
       "       126.0, 6.0, 4.0, '', '', '', '', 'Própria'], dtype=object)"
      ]
     },
     "metadata": {},
     "output_type": "display_data"
    },
    {
     "data": {
      "text/plain": [
       "array(['Piauí Shopping Center', 'Belo Norte', 'Picos', 'PI', 'NORDESTE',\n",
       "       '2018/06/07', 8245.0, 16670.0, 50972.0, 'Tradicional', '', 1000.0,\n",
       "       130.0, 3.0, 4.0, 15.0, 20.0, 50.0, 20.0,\n",
       "       'Administradora Piauí Shopping Center'], dtype=object)"
      ]
     },
     "metadata": {},
     "output_type": "display_data"
    },
    {
     "data": {
      "text/plain": [
       "array(['Boulevard Maricá', 'maricá', 'Maricá', 'RJ', 'SUDESTE',\n",
       "       '2021/05/04', 4975.77, 5188.8, 7172.57, 'Tradicional', 2.0, 270.0,\n",
       "       34.0, 2.0, '', '', 60.0, 40.0, 60.0, 'Soul Malls'], dtype=object)"
      ]
     },
     "metadata": {},
     "output_type": "display_data"
    },
    {
     "data": {
      "text/plain": [
       "array(['RioMar Kennedy', 'Presidente Kennedy', 'Fortaleza', 'CE',\n",
       "       'NORDESTE', '2016/10/26', 35767.4, 150461.69, 82460.21,\n",
       "       'Tradicional', 4.0, 2837.0, 166.0, 8.0, 6.0, 2.0, 40.0, 58.0, 40.0,\n",
       "       'JCPM'], dtype=object)"
      ]
     },
     "metadata": {},
     "output_type": "display_data"
    },
    {
     "data": {
      "text/plain": [
       "array(['Perimetral Open Mall', 'Vila João Vaz', 'Goiânia', 'GO',\n",
       "       'CENTRO-OESTE', '2016/10/15', 6714.0, 6714.0, 20000.0,\n",
       "       'Especializado', 1.0, 288.0, 72.0, 1.0, '', '', 20.0, 50.0, 20.0,\n",
       "       'NL - Negócios Imobiliarios'], dtype=object)"
      ]
     },
     "metadata": {},
     "output_type": "display_data"
    },
    {
     "data": {
      "text/plain": [
       "array(['Shopping Republica', 'Setor Oeste', 'Goiânia', 'GO',\n",
       "       'CENTRO-OESTE', '2018/03/10', 3200.0, 6730.0, 20000.0,\n",
       "       'Tradicional', 2.0, 23.0, 44.0, 3.0, '', 30.0, 50.0, 10.0, 50.0,\n",
       "       'NL - Negócios Imobiliarios'], dtype=object)"
      ]
     },
     "metadata": {},
     "output_type": "display_data"
    },
    {
     "data": {
      "text/plain": [
       "array(['Eco Valle Shopping', 'Santa Lucrécia', 'Lorena', 'SP', 'SUDESTE',\n",
       "       '2015/11/14', 26390.0, 36100.0, 319139.0, 'Tradicional', 1.0,\n",
       "       2400.0, 59.0, '', 4.0, '', '', '', '', 'SFA Malls'], dtype=object)"
      ]
     },
     "metadata": {},
     "output_type": "display_data"
    },
    {
     "data": {
      "text/plain": [
       "array(['IANDÊ SHOPPING CAUCAIA', 'CENTRO', 'Caucaia', 'CE', 'NORDESTE',\n",
       "       '2012/08/30', 12030.7, 22489.22, 22489.35, 'Tradicional', 4.0,\n",
       "       300.0, 85.0, 2.0, 4.0, 15.0, 15.0, 60.0, 15.0,\n",
       "       'VR Administradora e Incorporadora de Imóveis LTDA'], dtype=object)"
      ]
     },
     "metadata": {},
     "output_type": "display_data"
    },
    {
     "data": {
      "text/plain": [
       "array(['City Center Outlet Premium', 'Itaqui de Cima', 'Campo Largo',\n",
       "       'PR', 'SUL', '2022/12/02', 33000.0, 74000.0, 290000.0,\n",
       "       'Especializado', 1.0, 2500.0, 132.0, 3.0, 5.0, 40.0, 40.0, 20.0,\n",
       "       40.0, 'Tacla Shopping'], dtype=object)"
      ]
     },
     "metadata": {},
     "output_type": "display_data"
    },
    {
     "data": {
      "text/plain": [
       "array(['Tocantins Shopping', 'Centro', 'Imperatriz', 'MA', 'NORDESTE',\n",
       "       '2011/06/30', 5393.0, '', '', 'Tradicional', 2.0, '', 90.0, '', '',\n",
       "       '', '', '', '', 'Própria'], dtype=object)"
      ]
     },
     "metadata": {},
     "output_type": "display_data"
    },
    {
     "data": {
      "text/plain": [
       "array(['Viramar Shopping Center', '', 'Pacajus', 'CE', 'NORDESTE',\n",
       "       '2020/11/05', 11000.0, '', '', 'Tradicional', 3.0, 4500.0, 180.0,\n",
       "       4.0, 4.0, '', '', '', '', 'Própria'], dtype=object)"
      ]
     },
     "metadata": {},
     "output_type": "display_data"
    },
    {
     "data": {
      "text/plain": [
       "array(['Barra Center Shopping', 'Jd. Araguaia', 'Barra do Garças', 'MT',\n",
       "       'CENTRO-OESTE', '2016/11/03', 13280.0, 17500.0, 36000.0,\n",
       "       'Tradicional', 2.0, 450.0, 39.0, 3.0, 3.0, 60.0, 30.0, 8.0, 30.0,\n",
       "       'Própria'], dtype=object)"
      ]
     },
     "metadata": {},
     "output_type": "display_data"
    },
    {
     "data": {
      "text/plain": [
       "array(['Ita Shopping Vila Nova', 'Vila Nova', 'Itapevi', 'SP', 'SUDESTE',\n",
       "       '1800/01/01', 5500.0, '', '', 'Tradicional', '', '', 67.0, '', '',\n",
       "       '', '', '', '', 'Própria'], dtype=object)"
      ]
     },
     "metadata": {},
     "output_type": "display_data"
    },
    {
     "data": {
      "text/plain": [
       "array(['Shopping Cidade Dos Lagos', 'Cidade dos Lagos', 'Guarapuava',\n",
       "       'PR', 'SUL', '2018/04/26', 16483.2, 40000.0, 67000.0,\n",
       "       'Tradicional', 2.0, 1273.0, 87.0, 5.0, 4.0, 20.0, 40.0, 30.0, 40.0,\n",
       "       'Ad Shopping'], dtype=object)"
      ]
     },
     "metadata": {},
     "output_type": "display_data"
    },
    {
     "data": {
      "text/plain": [
       "array(['Taquara Plaza Shopping', 'Taquara', 'Rio de Janeiro', 'RJ',\n",
       "       'SUDESTE', '2022/11/17', 20100.0, 51163.0, 44326.0, 'Tradicional',\n",
       "       5.0, 700.0, 113.0, 6.0, 5.0, '', '', '', '',\n",
       "       'Argo Desenvolvimento e Gestão'], dtype=object)"
      ]
     },
     "metadata": {},
     "output_type": "display_data"
    },
    {
     "data": {
      "text/plain": [
       "array(['Maranguape Shopping Mall', 'Centro', 'Maranguape', 'CE',\n",
       "       'NORDESTE', '2015/11/14', 8500.0, '', '', 'Tradicional', '', 280.0,\n",
       "       76.0, '', '', '', '', '', '', 'Própria'], dtype=object)"
      ]
     },
     "metadata": {},
     "output_type": "display_data"
    },
    {
     "data": {
      "text/plain": [
       "array(['Shopping Galeria', 'Centro', 'Osasco', 'SP', 'SUDESTE',\n",
       "       '1962/11/15', 5688.74, 6674.43, 4787.3, 'Tradicional', 2.0, 252.0,\n",
       "       82.0, '', '', 2.0, 35.0, 55.0, 35.0, 'Própria'], dtype=object)"
      ]
     },
     "metadata": {},
     "output_type": "display_data"
    },
    {
     "data": {
      "text/plain": [
       "array(['Outlet Fernão Dias', 'Parque Fernão Dias', 'Atibaia', 'SP',\n",
       "       'SUDESTE', '2016/11/18', 22000.0, 54000.0, 94709.15, 'Tradicional',\n",
       "       1.0, 1500.0, 48.0, 3.0, '', '', '', '', '', 'Própria'],\n",
       "      dtype=object)"
      ]
     },
     "metadata": {},
     "output_type": "display_data"
    },
    {
     "data": {
      "text/plain": [
       "array(['Calçadão Praia Shopping', 'Meia Praia', 'Itapema', 'SC', 'SUL',\n",
       "       '1999/12/18', 7045.41, 13724.0, 7045.0, 'Tradicional', 1.0, 170.0,\n",
       "       144.0, 1.0, '', 10.0, 35.0, 35.0, 35.0, 'Construtora JA RUSSI'],\n",
       "      dtype=object)"
      ]
     },
     "metadata": {},
     "output_type": "display_data"
    },
    {
     "data": {
      "text/plain": [
       "array(['Uptown Barra', 'Barra da Tijuca', 'Rio de Janeiro', 'RJ',\n",
       "       'SUDESTE', '2015/10/10', 90000.0, 99000.0, 128000.0,\n",
       "       'Especializado', 2.0, 1700.0, 443.0, 14.0, '', 6.0, 42.0, 41.0,\n",
       "       42.0, 'Soul Malls'], dtype=object)"
      ]
     },
     "metadata": {},
     "output_type": "display_data"
    },
    {
     "data": {
      "text/plain": [
       "array(['Dutra 107 Taubaté', 'Chácara Silvestre', 'Taubaté', 'SP',\n",
       "       'SUDESTE', '1800/01/01', 11000.0, '', '', 'Especializado', '', '',\n",
       "       '', '', '', '', '', '', '', 'Kether Real Estate'], dtype=object)"
      ]
     },
     "metadata": {},
     "output_type": "display_data"
    },
    {
     "data": {
      "text/plain": [
       "array(['Shopping Serra Dourada', 'Cidade Nova', 'Altamira', 'PA', 'NORTE',\n",
       "       '2018/07/31', 16921.0, 26250.0, 90000.0, 'Tradicional', 1.0,\n",
       "       1500.0, 57.0, 4.0, '', 10.0, 40.0, 40.0, 40.0, 'SFA MALLS'],\n",
       "      dtype=object)"
      ]
     },
     "metadata": {},
     "output_type": "display_data"
    },
    {
     "data": {
      "text/plain": [
       "array(['Shopping Diadema', 'Serraria', 'Diadema', 'SP', 'SUDESTE',\n",
       "       '2018/11/28', 14200.0, 36143.41, 16744.6, 'Tradicional', 2.0,\n",
       "       720.0, 75.0, 2.0, 4.0, 2.0, 18.0, 60.0, 18.0, 'Própria'],\n",
       "      dtype=object)"
      ]
     },
     "metadata": {},
     "output_type": "display_data"
    },
    {
     "data": {
      "text/plain": [
       "array(['Patos Shopping', 'Bairro Belo Horizonte', 'Patos', 'PB',\n",
       "       'NORDESTE', '2019/09/20', 18045.5, 40907.91, 43307.64,\n",
       "       'Tradicional', 2.0, 1000.0, 147.0, 2.0, 4.0, 10.0, 30.0, 40.0,\n",
       "       30.0, 'Própria'], dtype=object)"
      ]
     },
     "metadata": {},
     "output_type": "display_data"
    },
    {
     "data": {
      "text/plain": [
       "array(['Hipershopping Petrópolis', 'Alto da Serra', 'Petrópolis', 'RJ',\n",
       "       'SUDESTE', '1989/06/06', 8000.0, 83265.0, 47132.0, 'Tradicional',\n",
       "       2.0, 1000.0, 80.0, 2.0, '', 5.0, 15.0, 50.0, 15.0,\n",
       "       'Wabcon Consultoria e Gestão Ltda.'], dtype=object)"
      ]
     },
     "metadata": {},
     "output_type": "display_data"
    },
    {
     "data": {
      "text/plain": [
       "array(['Passeio São Carlos', 'Santa Monica', 'São Carlos', 'SP',\n",
       "       'SUDESTE', '2015/12/18', 14200.0, '', '', 'Especializado', '', '',\n",
       "       '', '', '', '', '', '', '', 'Própria'], dtype=object)"
      ]
     },
     "metadata": {},
     "output_type": "display_data"
    },
    {
     "data": {
      "text/plain": [
       "array(['Panorâmico Shopping Center', 'Vila Artura', 'Sorocaba', 'SP',\n",
       "       'SUDESTE', '1800/01/01', 15000.0, '', '', 'Tradicional', '', '',\n",
       "       '', '', 3.0, '', '', '', '', 'Própria'], dtype=object)"
      ]
     },
     "metadata": {},
     "output_type": "display_data"
    },
    {
     "data": {
      "text/plain": [
       "array(['Shopping Igarassu', 'Centro', 'Igarassu', 'PE', 'NORDESTE',\n",
       "       '2018/10/30', 8600.0, 18000.0, 10277.0, 'Tradicional', 2.0, 260.0,\n",
       "       75.0, '', 3.0, 15.0, 30.0, 35.0, 30.0, 'Própria'], dtype=object)"
      ]
     },
     "metadata": {},
     "output_type": "display_data"
    },
    {
     "data": {
      "text/plain": [
       "array(['Shopping Jardim Oriente', 'Jardim América', 'São José dos Campos',\n",
       "       'SP', 'SUDESTE', '2017/02/17', 33847.4, 66801.77, 250000.0,\n",
       "       'Tradicional', 1.0, 2032.0, 146.0, 16.0, 7.0, 12.0, 38.0, 43.0,\n",
       "       38.0, 'Ad Shopping'], dtype=object)"
      ]
     },
     "metadata": {},
     "output_type": "display_data"
    },
    {
     "data": {
      "text/plain": [
       "array(['Planet Shopping', 'Belle Ville', 'Londrina', 'PR', 'SUL',\n",
       "       '2008/10/30', 6400.0, '', '', 'Tradicional', '', '', '', '', '',\n",
       "       '', '', '', '', 'Própria'], dtype=object)"
      ]
     },
     "metadata": {},
     "output_type": "display_data"
    },
    {
     "data": {
      "text/plain": [
       "array(['Parque Shopping Bahia', 'Centro', 'Lauro de Freitas', 'BA',\n",
       "       'NORDESTE', '2020/03/17', 51600.0, '', '', 'Tradicional', '',\n",
       "       2800.0, 190.0, '', 9.0, '', '', '', '', 'Ancar Ivanhoe'],\n",
       "      dtype=object)"
      ]
     },
     "metadata": {},
     "output_type": "display_data"
    },
    {
     "data": {
      "text/plain": [
       "array(['Brasil Center Shopping', 'Parque Esplanada II',\n",
       "       'Valparaíso de Goiás', 'GO', 'CENTRO-OESTE', '2018/10/31', 12300.0,\n",
       "       23403.49, 25151.37, 'Tradicional', 2.0, 669.0, 150.0, 3.0, 5.0,\n",
       "       15.0, 15.0, 35.0, 15.0, 'ABL Prime'], dtype=object)"
      ]
     },
     "metadata": {},
     "output_type": "display_data"
    },
    {
     "data": {
      "text/plain": [
       "array(['Barbacena Shopping Center', 'Ipanema', 'Barbacena', 'MG',\n",
       "       'SUDESTE', '2018/11/15', 15498.0, '', '', 'Tradicional', '', '',\n",
       "       109.0, '', '', '', '', '', '', 'Própria'], dtype=object)"
      ]
     },
     "metadata": {},
     "output_type": "display_data"
    },
    {
     "data": {
      "text/plain": [
       "array(['Esmeralda Shopping', 'Jardim Tangara', 'Marília', 'SP', 'SUDESTE',\n",
       "       '2004/09/14', 8967.0, '', '', 'Tradicional', '', '', '', '', 3.0,\n",
       "       '', '', '', '', 'Própria'], dtype=object)"
      ]
     },
     "metadata": {},
     "output_type": "display_data"
    },
    {
     "data": {
      "text/plain": [
       "array(['Poupa Shopping Cotia', 'Vila Monte Serrat', 'Cotia', 'SP',\n",
       "       'SUDESTE', '2018/06/01', 7000.0, 8000.0, 20000.0, 'Tradicional',\n",
       "       3.0, 150.0, 66.0, 3.0, '', 5.0, 10.0, 70.0, 10.0, 'Própria'],\n",
       "      dtype=object)"
      ]
     },
     "metadata": {},
     "output_type": "display_data"
    },
    {
     "data": {
      "text/plain": [
       "array(['Só Marcas Outlet Guarulhos', 'Porto da Igreja', 'Guarulhos', 'SP',\n",
       "       'SUDESTE', '2019/07/01', 6019.38, 10546.01, 19630.71,\n",
       "       'Especializado', '', '', '', '', '', '', '', '', '',\n",
       "       'Mario Valadares'], dtype=object)"
      ]
     },
     "metadata": {},
     "output_type": "display_data"
    },
    {
     "data": {
      "text/plain": [
       "array(['Só Marcas Outlet Contagem', 'Cidade Industrial', 'Contagem', 'MG',\n",
       "       'SUDESTE', '2010/11/29', 8000.0, 12054.33, 6907.55,\n",
       "       'Especializado', 2.0, 254.0, 51.0, 3.0, '', 25.0, 35.0, 35.0, 35.0,\n",
       "       'Mario Valadares'], dtype=object)"
      ]
     },
     "metadata": {},
     "output_type": "display_data"
    },
    {
     "data": {
      "text/plain": [
       "array(['Ourinhos Plaza Shopping', 'Vila Boa Esperança', 'Ourinhos', 'SP',\n",
       "       'SUDESTE', '2019/07/31', 12355.2, 25684.97, 14679.1, 'Tradicional',\n",
       "       3.0, 500.0, 60.0, 4.0, 4.0, 5.0, 25.0, 63.0, 25.0,\n",
       "       'Argo Desenvolvimento e Gestão'], dtype=object)"
      ]
     },
     "metadata": {},
     "output_type": "display_data"
    },
    {
     "data": {
      "text/plain": [
       "array(['Liv Mall', 'Manaíra', 'João Pessoa', 'PB', 'NORDESTE',\n",
       "       '2020/12/16', 11000.0, 49000.0, 8000.0, 'Tradicional', 2.0, 800.0,\n",
       "       97.0, '', 6.0, '', '', '', '', 'EDR Construtora'], dtype=object)"
      ]
     },
     "metadata": {},
     "output_type": "display_data"
    },
    {
     "data": {
      "text/plain": [
       "array(['Pirâmide Shopping', 'Tambaú', 'João Pessoa', 'PB', 'NORDESTE',\n",
       "       '2022/11/30', 15000.0, 17061.41, '', 'Tradicional', 4.0, 1000.0,\n",
       "       84.0, '', 2.0, '', '', '', '', 'Própria'], dtype=object)"
      ]
     },
     "metadata": {},
     "output_type": "display_data"
    },
    {
     "data": {
      "text/plain": [
       "array(['Villa Viseu', 'Granja Marileusa', 'Uberlândia', 'MG', 'SUDESTE',\n",
       "       '2016/05/16', 6082.29, 9262.78, 10194.97, 'Especializado', 2.0,\n",
       "       178.0, 79.0, 1.0, '', 30.0, 40.0, 20.0, 40.0,\n",
       "       'Ultra Gestão e Desenvolvimento de Shopping Centers'], dtype=object)"
      ]
     },
     "metadata": {},
     "output_type": "display_data"
    },
    {
     "data": {
      "text/plain": [
       "array(['Nilópolis Square', 'Centro', 'Nilópolis', 'RJ', 'SUDESTE',\n",
       "       '2000/06/26', 5140.98, 10162.3, 3479.0, 'Tradicional', '', 150.0,\n",
       "       150.0, '', 3.0, '', '', '', '', 'Ad Shopping'], dtype=object)"
      ]
     },
     "metadata": {},
     "output_type": "display_data"
    },
    {
     "data": {
      "text/plain": [
       "array(['Jurere Open Shopping', 'Jurerê Internacional', 'Florianópolis',\n",
       "       'SC', 'SUL', '1995/12/01', 5815.0, 5815.0, 5815.0, 'Especializado',\n",
       "       1.0, 172.0, 85.0, '', '', 50.0, 45.0, 5.0, 45.0,\n",
       "       'JI ADMINISTRAÇÃO'], dtype=object)"
      ]
     },
     "metadata": {},
     "output_type": "display_data"
    },
    {
     "data": {
      "text/plain": [
       "array(['Shopping Serra Talhada', 'Nossa Senhora da Penha',\n",
       "       'Serra Talhada', 'PE', 'NORDESTE', '2020/07/30', 9600.0, 9600.0,\n",
       "       31658.2, 'Tradicional', 2.0, 600.0, 77.0, 1.0, 3.0, 30.0, 45.0,\n",
       "       15.0, 45.0, 'I Malls Administracao De Shopping Centers'],\n",
       "      dtype=object)"
      ]
     },
     "metadata": {},
     "output_type": "display_data"
    },
    {
     "data": {
      "text/plain": [
       "array(['Shopping Mega Polo Moda Goiania', 'Setor Centro Oeste', 'Goiânia',\n",
       "       'GO', 'CENTRO-OESTE', '2018/10/01', 8660.0, 23295.0, 71303.0,\n",
       "       'Especializado', 1.0, 826.0, 283.0, '', '', 33.0, 33.0, 34.0, 33.0,\n",
       "       'EBM / Terral Shopping Centers Shopping Centers / Mega Polo'],\n",
       "      dtype=object)"
      ]
     },
     "metadata": {},
     "output_type": "display_data"
    },
    {
     "data": {
      "text/plain": [
       "array(['Shopping Gallo', 'Central', 'Goiânia', 'GO', 'CENTRO-OESTE',\n",
       "       '2019/11/06', 5900.0, 24900.0, 6000.0, 'Especializado', 2.0, 542.0,\n",
       "       520.0, '', '', 1.0, 25.0, 70.0, 25.0, 'Própria'], dtype=object)"
      ]
     },
     "metadata": {},
     "output_type": "display_data"
    },
    {
     "data": {
      "text/plain": [
       "array(['Shopping Alegria', 'Sítio do Moinho', 'Várzea Paulista', 'SP',\n",
       "       'SUDESTE', '2018/12/07', 11500.0, 14500.0, 45000.0, 'Tradicional',\n",
       "       3.0, 850.0, 120.0, 1.0, 4.0, 10.0, 15.0, 35.0, 15.0, 'Própria'],\n",
       "      dtype=object)"
      ]
     },
     "metadata": {},
     "output_type": "display_data"
    },
    {
     "data": {
      "text/plain": [
       "array(['Boulevard Center Muriaé', 'Centro', 'Muriaé', 'MG', 'SUDESTE',\n",
       "       '2022/11/23', 8000.0, '', '', 'Tradicional', '', '', '', '', '',\n",
       "       '', '', '', '', 'Lumar'], dtype=object)"
      ]
     },
     "metadata": {},
     "output_type": "display_data"
    },
    {
     "data": {
      "text/plain": [
       "array(['Shopping Araguaia Gurupi', 'setor sul', 'Gurupi', 'TO', 'NORTE',\n",
       "       '2021/12/08', 10939.0, 14000.0, 40000.0, 'Tradicional', 1.0,\n",
       "       1000.0, 86.0, 4.0, 4.0, 4.0, 26.0, 63.0, 26.0, 'Própria'],\n",
       "      dtype=object)"
      ]
     },
     "metadata": {},
     "output_type": "display_data"
    },
    {
     "data": {
      "text/plain": [
       "array(['Shopping Cidade Luz', 'Areia Branca', 'Guarabira', 'PB',\n",
       "       'NORDESTE', '2012/05/02', 20000.0, 32000.0, 52000.0, 'Tradicional',\n",
       "       2.0, 1300.0, 180.0, 7.0, 3.0, 25.0, 38.0, 35.0, 38.0, 'Própria'],\n",
       "      dtype=object)"
      ]
     },
     "metadata": {},
     "output_type": "display_data"
    },
    {
     "data": {
      "text/plain": [
       "array(['Shopping Órion', 'St Marista', 'Goiânia', 'GO', 'CENTRO-OESTE',\n",
       "       '2018/11/20', 5944.0, 124664.57, 7668.28, 'Tradicional', 3.0,\n",
       "       1400.0, 55.0, '', '', 30.0, 60.0, 10.0, 60.0, 'ABL Prime'],\n",
       "      dtype=object)"
      ]
     },
     "metadata": {},
     "output_type": "display_data"
    },
    {
     "data": {
      "text/plain": [
       "array(['Shopping Cidade Verde', 'Nova Parnamirim', 'Parnamirim', 'RN',\n",
       "       'NORDESTE', '2021/08/30', 5800.0, '', '', 'Tradicional', '', '',\n",
       "       '', '', '', '', '', '', '', 'Própria'], dtype=object)"
      ]
     },
     "metadata": {},
     "output_type": "display_data"
    },
    {
     "data": {
      "text/plain": [
       "array(['Parque Floriano Shopping', 'Meladão', 'Floriano', 'PI',\n",
       "       'NORDESTE', '2019/04/19', 8249.73, 10455.0, 39120.0, 'Tradicional',\n",
       "       1.0, 599.0, 59.0, 2.0, 4.0, 7.0, 19.0, 51.0, 19.0, 'Semma/VGomes '],\n",
       "      dtype=object)"
      ]
     },
     "metadata": {},
     "output_type": "display_data"
    },
    {
     "data": {
      "text/plain": [
       "array(['Shopping ETC', 'Aflitos', 'Recife', 'PE', 'NORDESTE',\n",
       "       '1800/01/01', 4900.0, '', '', 'Tradicional', '', '', '', '', 4.0,\n",
       "       '', '', '', '', 'Própria'], dtype=object)"
      ]
     },
     "metadata": {},
     "output_type": "display_data"
    },
    {
     "data": {
      "text/plain": [
       "array(['Shopping Patio Petrópolis', 'Centro', 'Petrópolis', 'RJ',\n",
       "       'SUDESTE', '2022/11/10', 15195.0, 60000.0, '', 'Tradicional', 5.0,\n",
       "       780.0, 104.0, '', 6.0, '', '', '', '', 'Ad Shopping'], dtype=object)"
      ]
     },
     "metadata": {},
     "output_type": "display_data"
    },
    {
     "data": {
      "text/plain": [
       "array(['Shopping da Vila', 'Centro', 'Delmiro Gouveia', 'AL', 'NORDESTE',\n",
       "       '2022/05/25', 11150.0, 18974.2, 56411.5, 'Tradicional', 1.0, 250.0,\n",
       "       55.0, 6.0, 2.0, 20.0, 25.0, 30.0, 25.0, 'Própria'], dtype=object)"
      ]
     },
     "metadata": {},
     "output_type": "display_data"
    },
    {
     "data": {
      "text/plain": [
       "array(['Shopping Pátio Matosinhos', 'Fábricas', 'São João del Rei', 'MG',\n",
       "       'SUDESTE', '2021/09/16', 6543.0, '', '', 'Tradicional', '', 300.0,\n",
       "       50.0, '', '', '', '', '', '', 'Própria'], dtype=object)"
      ]
     },
     "metadata": {},
     "output_type": "display_data"
    },
    {
     "data": {
      "text/plain": [
       "array(['Shopping Américo Silva', 'Centro', 'Três Rios', 'RJ', 'SUDESTE',\n",
       "       '2009/12/15', 11958.0, 11958.0, '', 'Tradicional', 2.0, 79.0, 69.0,\n",
       "       3.0, 3.0, 5.0, 15.0, 60.0, 15.0, 'Própria'], dtype=object)"
      ]
     },
     "metadata": {},
     "output_type": "display_data"
    },
    {
     "data": {
      "text/plain": [
       "array(['Shopping Avenida', 'Sim', 'Feira de Santana', 'BA', 'NORDESTE',\n",
       "       '2019/11/07', 4650.0, 6437.0, 11025.0, 'Tradicional', 2.0, 150.0,\n",
       "       75.0, 3.0, 5.0, 8.0, 50.0, 40.0, 50.0, 'Própria'], dtype=object)"
      ]
     },
     "metadata": {},
     "output_type": "display_data"
    },
    {
     "data": {
      "text/plain": [
       "array(['Vogue Square', 'Barra da Tijuca', 'Rio de Janeiro', 'RJ',\n",
       "       'SUDESTE', '2016/11/17', 9000.0, '', '', 'Especializado', '',\n",
       "       900.0, 100.0, '', '', '', '', '', '',\n",
       "       'Argo Desenvolvimento e Gestão'], dtype=object)"
      ]
     },
     "metadata": {},
     "output_type": "display_data"
    },
    {
     "data": {
      "text/plain": [
       "array(['Bourbon Shopping Teresópolis', 'Glória', 'Porto Alegre', 'RS',\n",
       "       'SUL', '2021/06/10', 9039.0, 44084.0, 13717.0, 'Tradicional', 3.0,\n",
       "       614.0, 56.0, 2.0, '', '', '', '', '',\n",
       "       'Airaz Administradora Administradora'], dtype=object)"
      ]
     },
     "metadata": {},
     "output_type": "display_data"
    },
    {
     "data": {
      "text/plain": [
       "array(['Pontão do Lago Sul', 'Lago Sul', 'Brasília', 'DF', 'CENTRO-OESTE',\n",
       "       '2000/04/23', 4743.0, 6555.79, 1240000.0, 'Especializado', '',\n",
       "       1200.0, 18.0, 2.0, '', 70.0, 20.0, 5.0, 20.0, 'Própria'],\n",
       "      dtype=object)"
      ]
     },
     "metadata": {},
     "output_type": "display_data"
    },
    {
     "data": {
      "text/plain": [
       "array(['Shopping Cidade das Artes', 'Chácaras São Marcos',\n",
       "       'Embu das Artes', 'SP', 'SUDESTE', '2022/04/15', 8000.0, '', '',\n",
       "       'Tradicional', 3.0, '', '', '', 4.0, '', '', '', '',\n",
       "       'Abl Shopping'], dtype=object)"
      ]
     },
     "metadata": {},
     "output_type": "display_data"
    },
    {
     "data": {
      "text/plain": [
       "array(['Trimais Places', 'Tucuruvi', 'São Paulo', 'SP', 'SUDESTE',\n",
       "       '2021/05/25', 25500.0, 120000.0, '', 'Tradicional', '', 2000.0,\n",
       "       150.0, 3.0, '', '', '', '', '', 'Própria'], dtype=object)"
      ]
     },
     "metadata": {},
     "output_type": "display_data"
    },
    {
     "data": {
      "text/plain": [
       "array(['Outlet Premium Grande São Paulo', 'Estrada São Bento',\n",
       "       'Itaquaquecetuba', 'SP', 'SUDESTE', '2020/11/25', 16601.0, '', '',\n",
       "       'Especializado', 2.0, 700.0, 82.0, '', '', '', '', '', '',\n",
       "       'General Shopping&Outlets'], dtype=object)"
      ]
     },
     "metadata": {},
     "output_type": "display_data"
    },
    {
     "data": {
      "text/plain": [
       "array(['Guarus Plaza Shopping', 'Guarus', 'Campos dos Goytacazes', 'RJ',\n",
       "       'SUDESTE', '2019/11/21', 10193.82, 15000.0, '', 'Tradicional', 2.0,\n",
       "       604.0, '', '', '', '', '', '', '', 'Metromalls'], dtype=object)"
      ]
     },
     "metadata": {},
     "output_type": "display_data"
    },
    {
     "data": {
      "text/plain": [
       "array(['Shopping Eusébio', 'Tamatanduba', 'Eusébio', 'CE', 'NORDESTE',\n",
       "       '2019/10/31', 20000.0, '', '', 'Tradicional', '', 100.0, 120.0, '',\n",
       "       5.0, '', '', '', '', 'Própria'], dtype=object)"
      ]
     },
     "metadata": {},
     "output_type": "display_data"
    },
    {
     "data": {
      "text/plain": [
       "array(['Pátio Sabiá', 'Tibery', 'Uberlândia', 'MG', 'SUDESTE',\n",
       "       '2019/07/22', 11000.0, 15993.16, 21207.71, 'Tradicional', '',\n",
       "       430.0, 117.0, '', '', '', '', '', '', 'Própria'], dtype=object)"
      ]
     },
     "metadata": {},
     "output_type": "display_data"
    },
    {
     "data": {
      "text/plain": [
       "array(['Pátio Vinhedos', 'Jardim das Acácias', 'Uberlândia', 'MG',\n",
       "       'SUDESTE', '2018/02/05', 9193.1, 12452.88, 11111.4,\n",
       "       'Especializado', 3.0, 155.0, 84.0, 1.0, '', 80.0, 20.0, '', 20.0,\n",
       "       'Própria'], dtype=object)"
      ]
     },
     "metadata": {},
     "output_type": "display_data"
    },
    {
     "data": {
      "text/plain": [
       "array(['BravaMall', 'Praia Brava', 'Itajaí', 'SC', 'SUL', '2019/02/27',\n",
       "       5455.0, 17880.73, 18000.0, 'Tradicional', 2.0, 700.0, 90.0, '',\n",
       "       2.0, 95.0, 5.0, '', 5.0, 'Própria'], dtype=object)"
      ]
     },
     "metadata": {},
     "output_type": "display_data"
    },
    {
     "data": {
      "text/plain": [
       "array(['Masterplace Mall', 'Barro Vermelho', 'Vitória', 'ES', 'SUDESTE',\n",
       "       '2013/09/19', 12343.0, 24039.4, 20206.86, 'Tradicional', 2.0,\n",
       "       742.0, 62.0, 2.0, '', 25.0, 70.0, 5.0, 70.0, 'Própria'],\n",
       "      dtype=object)"
      ]
     },
     "metadata": {},
     "output_type": "display_data"
    },
    {
     "data": {
      "text/plain": [
       "array(['Shopping Oriundi', 'Segato', 'Aracruz', 'ES', 'SUDESTE',\n",
       "       '2001/12/06', 11830.0, 24830.0, 22520.0, 'Tradicional', 3.0, 400.0,\n",
       "       56.0, '', '', '', '', '', '', 'Própria'], dtype=object)"
      ]
     },
     "metadata": {},
     "output_type": "display_data"
    },
    {
     "data": {
      "text/plain": [
       "array(['Recife Outlet', 'BR 232', 'Moreno', 'PE', 'NORDESTE',\n",
       "       '2021/05/07', 11000.0, 51916.67, 77675.16, 'Especializado', 1.0,\n",
       "       901.0, 61.0, '', '', '', '', '', '', 'Grupo BCI e About'],\n",
       "      dtype=object)"
      ]
     },
     "metadata": {},
     "output_type": "display_data"
    },
    {
     "data": {
      "text/plain": [
       "array(['Perim Center', 'Caiçara', 'Cachoeiro de Itapemirim', 'ES',\n",
       "       'SUDESTE', '2012/09/27', 5500.0, 11000.0, 41265.0, 'Tradicional',\n",
       "       1.0, 700.0, 52.0, 3.0, 3.0, 25.0, 25.0, 25.0, 25.0, 'Própria'],\n",
       "      dtype=object)"
      ]
     },
     "metadata": {},
     "output_type": "display_data"
    },
    {
     "data": {
      "text/plain": [
       "array(['Boulevard Shopping Mogi Guaçu', 'Centro', 'Mogi Guaçu', 'SP',\n",
       "       'SUDESTE', '2019/12/01', 29124.0, 52559.46, 103000.0,\n",
       "       'Tradicional', 1.0, 1216.0, 102.0, 5.0, 4.0, 25.0, 25.0, 25.0,\n",
       "       25.0, 'JRA Administradora de Imoveis'], dtype=object)"
      ]
     },
     "metadata": {},
     "output_type": "display_data"
    }
   ],
   "source": [
    "#Escrevendo dados no banco\n",
    "\n",
    "for array in df.values:\n",
    "    try:\n",
    "        array[5] = array[5].strftime('%Y/%m/%d')\n",
    "    except Exception as a:\n",
    "        array[5] = array[5]\n",
    "    display(array)\n",
    "    lista = array\n",
    "    sql_commando =  f\"\"\"INSERT dbo.CENSO_ABRASCE ([NM_SHOPPING]\n",
    "      ,[BAIRRO]\n",
    "      ,[CIDADE]\n",
    "      ,[ESTADO]\n",
    "      ,[REGIAO]\n",
    "      ,[IANUGURACAO]\n",
    "      ,[ABL]\n",
    "      ,[AREA_CONSTRUIDA]\n",
    "      ,[AREA_TERRENO]\n",
    "      ,[PERFIL]\n",
    "      ,[PISOS]\n",
    "      ,[VAGAS]\n",
    "      ,[TOTAL_LOJAS]\n",
    "      ,[ANCORAS]\n",
    "      ,[SALAS_CINEMA]\n",
    "      ,[CLASSE_A]\n",
    "      ,[CLASSE_B]\n",
    "      ,[CLASSE_C]\n",
    "      ,[CLASSE_D]\n",
    "      ,[ADMINISTRADORA]) VALUES {*lista,}\"\"\" \n",
    "    cursor.execute(sql_commando)\n",
    "    cursor.commit()"
   ]
  }
 ],
 "metadata": {
  "kernelspec": {
   "display_name": "Python 3 (ipykernel)",
   "language": "python",
   "name": "python3"
  },
  "language_info": {
   "codemirror_mode": {
    "name": "ipython",
    "version": 3
   },
   "file_extension": ".py",
   "mimetype": "text/x-python",
   "name": "python",
   "nbconvert_exporter": "python",
   "pygments_lexer": "ipython3",
   "version": "3.9.13"
  }
 },
 "nbformat": 4,
 "nbformat_minor": 5
}
